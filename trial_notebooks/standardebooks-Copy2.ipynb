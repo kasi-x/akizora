{
 "cells": [
  {
   "cell_type": "code",
   "execution_count": 4,
   "id": "e66c9de3-8a02-42e9-b359-d466833f84f2",
   "metadata": {},
   "outputs": [],
   "source": [
    "import base64\n",
    "import xml.etree.ElementTree as ET\n",
    "from xml import etree\n",
    "\n",
    "import lxml.etree as ltree\n",
    "import requests\n",
    "import structlog\n",
    "from lxml.etree import XMLParser\n",
    "\n",
    "\n",
    "def get_file_info(url):\n",
    "    \"\"\"URLを引数にして、ファイルの情報をdictにして返す.\"\"\"\n",
    "    response = requests.get(url)\n",
    "\n",
    "    if response.status_code == 200:\n",
    "        tree_info = response.json()\n",
    "        file_info_dict: dict[str, bytes] = {}\n",
    "        for file_info in tree_info[\"tree\"]:\n",
    "            file_name = file_info[\"path\"]\n",
    "            file_type = file_info[\"type\"]\n",
    "\n",
    "            # ファイルの内容を取得\n",
    "            if file_type != \"blob\":\n",
    "                msg = f\"Error: {file_type} is not supported.\"\n",
    "                raise Exception(msg)\n",
    "\n",
    "            url = (\n",
    "                \"https://api.github.com/repos/standardebooks/john-maynard-keynes_the-economic-consequences-of-the-peace/git/blobs/\"\n",
    "                + file_info[\"sha\"]\n",
    "            )\n",
    "            response = requests.get(url)\n",
    "            if response.status_code == 200:\n",
    "                file_content = base64.b64decode(response.json()[\"content\"])\n",
    "                file_info_dict[file_name] = file_content\n",
    "            else:\n",
    "                msg = f\"Error: {response.status_code}\"\n",
    "                raise Exception(msg)\n",
    "        return file_info_dict\n",
    "    else:\n",
    "        msg = f\"Error: {response.status_code}\"\n",
    "        raise Exception(msg)\n",
    "\n",
    "\n",
    "# 結果を出力\n",
    "# print(file_info_dict)\n",
    "\n",
    "\n",
    "class TextComponent:\n",
    "    def __init__(self, title, sections):\n",
    "        self.title = title\n",
    "        self.sections = sections\n",
    "\n",
    "\n",
    "class Section:\n",
    "    def __init__(self, section_id, epub_type, hgroup_info, paragraphs):\n",
    "        self.section_id = section_id\n",
    "        self.epub_type = epub_type\n",
    "        self.hgroup_info = hgroup_info\n",
    "        self.paragraphs = paragraphs\n",
    "\n",
    "\n",
    "class HgroupInfo:\n",
    "    def __init__(self, ordinal, title):\n",
    "        self.ordinal = ordinal\n",
    "        self.title = title\n",
    "\n",
    "\n",
    "def get_page_title(data_root):\n",
    "    namespaces = {\"xhtml\": \"http://www.w3.org/1999/xhtml\"}\n",
    "    return data_root.xpath(\"//xhtml:head/xhtml:title\", namespaces=namespaces)[0].text\n",
    "\n",
    "\n",
    "def parse_xhtml(data):\n",
    "    \"\"\"XHTMLデータを解析し、TextComponentインスタンスを生成します。.\n",
    "\n",
    "    Args:\n",
    "        data: XHTMLデータ\n",
    "\n",
    "    Returns:\n",
    "        TextComponentインスタンス\n",
    "    \"\"\"\n",
    "    namespaces = {\"xhtml\": \"http://www.w3.org/1999/xhtml\"}\n",
    "    root = ltree.fromstring(data, nsmap=namespaces)\n",
    "\n",
    "    title = get_page_title(root)\n",
    "\n",
    "    # セクション情報の取得\n",
    "    sections = []\n",
    "    for section in root.xpath(\"//xhtml:body/xhtml:section\", namespaces=namespaces):\n",
    "        # セクションID\n",
    "        section_id = section.get(\"id\")\n",
    "\n",
    "        # hgroup情報の取得\n",
    "        hgroup_info = HgroupInfo(\n",
    "            ordinal=section.find(\"xhtml:h2\", namespaces=namespaces).text\n",
    "            if section.find(\"xhtml:h2\", namespaces=namespaces) is not None\n",
    "            else None,\n",
    "            title=section.find(\"xhtml:p\", namespaces=namespaces).text\n",
    "            if section.find(\"xhtml:p\", namespaces=namespaces) is not None\n",
    "            else None,\n",
    "        )\n",
    "\n",
    "        # p要素の内容を取得\n",
    "        paragraphs = []\n",
    "        for paragraph in section.findall(\"xhtml:p\", namespaces=namespaces):\n",
    "            paragraphs.append(paragraph.text)\n",
    "\n",
    "        # セクション情報に追加\n",
    "        sections.append(Section(section_id, section.get(\"epub:type\"), hgroup_info, paragraphs))\n",
    "\n",
    "    # データ構造の生成\n",
    "    text_component = TextComponent(title, sections)\n",
    "\n",
    "    return text_component"
   ]
  },
  {
   "cell_type": "code",
   "execution_count": 7,
   "id": "3abea81d-e01b-423d-92d5-030daa359239",
   "metadata": {},
   "outputs": [
    {
     "ename": "Exception",
     "evalue": "Error: 403",
     "output_type": "error",
     "traceback": [
      "\u001b[0;31m---------------------------------------------------------------------------\u001b[0m",
      "\u001b[0;31mException\u001b[0m                                 Traceback (most recent call last)",
      "Cell \u001b[0;32mIn[7], line 2\u001b[0m\n\u001b[1;32m      1\u001b[0m url \u001b[38;5;241m=\u001b[39m \u001b[38;5;124m\"\u001b[39m\u001b[38;5;124mhttps://api.github.com/repos/standardebooks/john-maynard-keynes_the-economic-consequences-of-the-peace/git/trees/master:src/epub/text\u001b[39m\u001b[38;5;124m\"\u001b[39m\n\u001b[0;32m----> 2\u001b[0m file_info_dict \u001b[38;5;241m=\u001b[39m \u001b[43mget_file_info\u001b[49m\u001b[43m(\u001b[49m\u001b[43murl\u001b[49m\u001b[43m)\u001b[49m\n",
      "Cell \u001b[0;32mIn[4], line 41\u001b[0m, in \u001b[0;36mget_file_info\u001b[0;34m(url)\u001b[0m\n\u001b[1;32m     39\u001b[0m \u001b[38;5;28;01melse\u001b[39;00m:\n\u001b[1;32m     40\u001b[0m     msg \u001b[38;5;241m=\u001b[39m \u001b[38;5;124mf\u001b[39m\u001b[38;5;124m\"\u001b[39m\u001b[38;5;124mError: \u001b[39m\u001b[38;5;132;01m{\u001b[39;00mresponse\u001b[38;5;241m.\u001b[39mstatus_code\u001b[38;5;132;01m}\u001b[39;00m\u001b[38;5;124m\"\u001b[39m\n\u001b[0;32m---> 41\u001b[0m     \u001b[38;5;28;01mraise\u001b[39;00m \u001b[38;5;167;01mException\u001b[39;00m(msg)\n",
      "\u001b[0;31mException\u001b[0m: Error: 403"
     ]
    }
   ],
   "source": [
    "url = \"https://api.github.com/repos/standardebooks/john-maynard-keynes_the-economic-consequences-of-the-peace/git/trees/master:src/epub/text\"\n",
    "file_info_dict = get_file_info(url)"
   ]
  },
  {
   "cell_type": "code",
   "execution_count": 6,
   "id": "2958a3e4-be15-490d-9718-dba295a6b165",
   "metadata": {},
   "outputs": [
    {
     "ename": "Exception",
     "evalue": "Error: 403",
     "output_type": "error",
     "traceback": [
      "\u001b[0;31m---------------------------------------------------------------------------\u001b[0m",
      "\u001b[0;31mException\u001b[0m                                 Traceback (most recent call last)",
      "Cell \u001b[0;32mIn[6], line 2\u001b[0m\n\u001b[1;32m      1\u001b[0m url \u001b[38;5;241m=\u001b[39m \u001b[38;5;124m\"\u001b[39m\u001b[38;5;124mhttps://api.github.com/repos/standardebooks/john-maynard-keynes_the-economic-consequences-of-the-peace/git/trees/master:src/epub/text\u001b[39m\u001b[38;5;124m\"\u001b[39m\n\u001b[0;32m----> 2\u001b[0m file_info_dict \u001b[38;5;241m=\u001b[39m \u001b[43mget_file_info\u001b[49m\u001b[43m(\u001b[49m\u001b[43murl\u001b[49m\u001b[43m)\u001b[49m\n\u001b[1;32m      3\u001b[0m xml_string \u001b[38;5;241m=\u001b[39m file_info_dict\u001b[38;5;241m.\u001b[39mget(\u001b[38;5;124m\"\u001b[39m\u001b[38;5;124mchapter-1.xhtml\u001b[39m\u001b[38;5;124m\"\u001b[39m)\n\u001b[1;32m      4\u001b[0m parser \u001b[38;5;241m=\u001b[39m XMLParser(\n\u001b[1;32m      5\u001b[0m     encoding\u001b[38;5;241m=\u001b[39m\u001b[38;5;124m\"\u001b[39m\u001b[38;5;124mUTF-8\u001b[39m\u001b[38;5;124m\"\u001b[39m, resolve_entities\u001b[38;5;241m=\u001b[39m\u001b[38;5;28;01mFalse\u001b[39;00m, strip_cdata\u001b[38;5;241m=\u001b[39m\u001b[38;5;28;01mFalse\u001b[39;00m, recover\u001b[38;5;241m=\u001b[39m\u001b[38;5;28;01mTrue\u001b[39;00m, ns_clean\u001b[38;5;241m=\u001b[39m\u001b[38;5;28;01mTrue\u001b[39;00m\n\u001b[1;32m      6\u001b[0m )\n",
      "Cell \u001b[0;32mIn[4], line 41\u001b[0m, in \u001b[0;36mget_file_info\u001b[0;34m(url)\u001b[0m\n\u001b[1;32m     39\u001b[0m \u001b[38;5;28;01melse\u001b[39;00m:\n\u001b[1;32m     40\u001b[0m     msg \u001b[38;5;241m=\u001b[39m \u001b[38;5;124mf\u001b[39m\u001b[38;5;124m\"\u001b[39m\u001b[38;5;124mError: \u001b[39m\u001b[38;5;132;01m{\u001b[39;00mresponse\u001b[38;5;241m.\u001b[39mstatus_code\u001b[38;5;132;01m}\u001b[39;00m\u001b[38;5;124m\"\u001b[39m\n\u001b[0;32m---> 41\u001b[0m     \u001b[38;5;28;01mraise\u001b[39;00m \u001b[38;5;167;01mException\u001b[39;00m(msg)\n",
      "\u001b[0;31mException\u001b[0m: Error: 403"
     ]
    }
   ],
   "source": [
    "\n",
    "xml_string = file_info_dict.get(\"chapter-1.xhtml\")\n",
    "parser = XMLParser(\n",
    "    encoding=\"UTF-8\", resolve_entities=False, strip_cdata=False, recover=True, ns_clean=True\n",
    ")\n",
    "root = ET.fromstring(xml_string, parser)\n",
    "pretty_xml = etree.tostring(root, pretty_print=True, encoding=str)\n",
    "print(pretty_xml)"
   ]
  },
  {
   "cell_type": "code",
   "execution_count": 2,
   "id": "29a5053d-c262-47a2-a9af-271c96822820",
   "metadata": {},
   "outputs": [
    {
     "name": "stdout",
     "output_type": "stream",
     "text": [
      "Error: 403\n"
     ]
    },
    {
     "ename": "AttributeError",
     "evalue": "'NoneType' object has no attribute 'get'",
     "output_type": "error",
     "traceback": [
      "\u001b[0;31m---------------------------------------------------------------------------\u001b[0m",
      "\u001b[0;31mAttributeError\u001b[0m                            Traceback (most recent call last)",
      "Cell \u001b[0;32mIn[2], line 3\u001b[0m\n\u001b[1;32m      1\u001b[0m url \u001b[38;5;241m=\u001b[39m \u001b[38;5;124m\"\u001b[39m\u001b[38;5;124mhttps://api.github.com/repos/standardebooks/john-maynard-keynes_the-economic-consequences-of-the-peace/git/trees/master:src/epub/text\u001b[39m\u001b[38;5;124m\"\u001b[39m\n\u001b[1;32m      2\u001b[0m file_info_dict \u001b[38;5;241m=\u001b[39m get_file_info(url)\n\u001b[0;32m----> 3\u001b[0m content_raw \u001b[38;5;241m=\u001b[39m \u001b[43mfile_info_dict\u001b[49m\u001b[38;5;241;43m.\u001b[39;49m\u001b[43mget\u001b[49m(\u001b[38;5;124m\"\u001b[39m\u001b[38;5;124mchapter-1.xhtml\u001b[39m\u001b[38;5;124m\"\u001b[39m)\u001b[38;5;241m.\u001b[39mget(\u001b[38;5;124m\"\u001b[39m\u001b[38;5;124mcontent\u001b[39m\u001b[38;5;124m\"\u001b[39m)\n\u001b[1;32m      4\u001b[0m xml_string \u001b[38;5;241m=\u001b[39m base64\u001b[38;5;241m.\u001b[39mb64decode(content_raw)\n\u001b[1;32m      5\u001b[0m parser \u001b[38;5;241m=\u001b[39m XMLParser(\n\u001b[1;32m      6\u001b[0m     encoding\u001b[38;5;241m=\u001b[39m\u001b[38;5;124m\"\u001b[39m\u001b[38;5;124mUTF-8\u001b[39m\u001b[38;5;124m\"\u001b[39m, resolve_entities\u001b[38;5;241m=\u001b[39m\u001b[38;5;28;01mFalse\u001b[39;00m, strip_cdata\u001b[38;5;241m=\u001b[39m\u001b[38;5;28;01mFalse\u001b[39;00m, recover\u001b[38;5;241m=\u001b[39m\u001b[38;5;28;01mTrue\u001b[39;00m, ns_clean\u001b[38;5;241m=\u001b[39m\u001b[38;5;28;01mTrue\u001b[39;00m\n\u001b[1;32m      7\u001b[0m )\n",
      "\u001b[0;31mAttributeError\u001b[0m: 'NoneType' object has no attribute 'get'"
     ]
    }
   ],
   "source": [
    "url = \"https://api.github.com/repos/standardebooks/john-maynard-keynes_the-economic-consequences-of-the-peace/git/trees/master:src/epub/text\"\n",
    "file_info_dict = get_file_info(url)\n",
    "content_raw = file_info_dict.get(\"chapter-1.xhtml\").get(\"content\")\n",
    "xml_string = base64.b64decode(content_raw)\n",
    "parser = XMLParser(\n",
    "    encoding=\"UTF-8\", resolve_entities=False, strip_cdata=False, recover=True, ns_clean=True\n",
    ")\n",
    "root = ET.fromstring(xml_string, parser)\n",
    "pretty_xml = etree.tostring(root, pretty_print=True, encoding=str)\n",
    "#print(pretty_xml)"
   ]
  },
  {
   "cell_type": "code",
   "execution_count": null,
   "id": "53f6bdaa-a5fe-4a27-8680-5a06abfea127",
   "metadata": {},
   "outputs": [],
   "source": [
    "root"
   ]
  },
  {
   "cell_type": "code",
   "execution_count": null,
   "id": "c4b5c73d-0886-4bf4-a468-42da7f5ee5b2",
   "metadata": {},
   "outputs": [],
   "source": [
    "import xml.etree.ElementTree as ET\n",
    "\n",
    "parser = etree.XMLParser(encoding=\"UTF-8\", resolve_entities=False, strip_cdata=False, recover=True, ns_clean=True)\n",
    "root = ET.fromstring(xml_string, parser)"
   ]
  },
  {
   "cell_type": "code",
   "execution_count": null,
   "id": "13f65254-19e0-4afb-ba8e-17ad9a60b8ce",
   "metadata": {},
   "outputs": [],
   "source": [
    "pretty_xml = etree.tostring(root, pretty_print=True, encoding=str)"
   ]
  },
  {
   "cell_type": "code",
   "execution_count": null,
   "id": "b48bebab-6358-4a3f-bb04-772b396a3936",
   "metadata": {},
   "outputs": [],
   "source": [
    "import xml.dom.minidom\n",
    "\n",
    "document = \"\"\"\\\n",
    "<slideshow>\n",
    "<title>Demo slideshow</title>\n",
    "<slide><title>Slide title</title>\n",
    "<point>This is a demo</point>\n",
    "<point>Of a program for processing slides</point>\n",
    "</slide>\n",
    "\n",
    "<slide><title>Another demo slide</title>\n",
    "<point>It is important</point>\n",
    "<point>To have more than</point>\n",
    "<point>one slide</point>\n",
    "</slide>\n",
    "</slideshow>\n",
    "\"\"\"\n",
    "\n",
    "dom = xml.dom.minidom.parseString(document)"
   ]
  },
  {
   "cell_type": "code",
   "execution_count": null,
   "id": "3320bdec-dd9e-4850-9fa1-41fe54e9cee7",
   "metadata": {},
   "outputs": [],
   "source": [
    "dom.ge"
   ]
  },
  {
   "cell_type": "code",
   "execution_count": null,
   "id": "f613d9d9-41b0-4d66-94d3-bcc438e3f7c5",
   "metadata": {},
   "outputs": [],
   "source": [
    "print(pretty_xml[:1000])"
   ]
  },
  {
   "cell_type": "code",
   "execution_count": null,
   "id": "c90fbb8a-b5b4-4c5f-9d45-32bea9ad0615",
   "metadata": {},
   "outputs": [],
   "source": [
    "data = pretty_xml"
   ]
  },
  {
   "cell_type": "code",
   "execution_count": null,
   "id": "10a33f0d-55cc-4ecc-9187-89272efd220c",
   "metadata": {},
   "outputs": [],
   "source": [
    "from lxml import etree\n",
    "\n",
    "#root = pretty_xml\n",
    "# タイトル取得\n",
    "title = root.xpath(\"//xhtml:head/xhtml:title\", namespaces=namespaces)[0].text\n",
    "\n",
    "# セクション情報の取得\n",
    "section_info = {}\n",
    "for section in root.xpath(\"//xhtml:body/xhtml:section\", namespaces=namespaces):\n",
    "    # セクションID\n",
    "    section_id = section.get(\"id\")\n",
    "    \n",
    "    # hgroup情報の取得\n",
    "    hgroup_info = {}\n",
    "    hgroup = section.find(\"xhtml:hgroup\", namespaces=namespaces)\n",
    "    if hgroup is not None:\n",
    "        # 章番号\n",
    "        hgroup_info[\"ordinal\"] = hgroup.find(\"xhtml:h2\", namespaces=namespaces).text\n",
    "        # タイトル\n",
    "        hgroup_info[\"title\"] = hgroup.find(\"xhtml:p\", namespaces=namespaces).text\n",
    "    \n",
    "    # p要素の内容を取得\n",
    "    paragraphs = []\n",
    "    for paragraph in section.findall(\"xhtml:p\", namespaces=namespaces):\n",
    "        paragraphs.append(paragraph.text)\n",
    "    \n",
    "    # セクション情報に追加\n",
    "    section_info[section_id] = hgroup_info, paragraphs\n",
    "\n",
    "# 結果の出力\n",
    "print(f\"タイトル: {title}\")\n",
    "for section_id, (hgroup_info, paragraphs) in section_info.items():\n",
    "    print(f\"\\nセクションID: {section_id} ({section.get('epub:type')})\")\n",
    "    print(f\"  章番号: {hgroup_info['ordinal']}\")\n",
    "    print(f\"  タイトル: {hgroup_info['title']}\")\n",
    "    print(f\"  本文:\")\n",
    "    for paragraph in paragraphs:\n",
    "        print(f\"    {paragraph}\")"
   ]
  },
  {
   "cell_type": "code",
   "execution_count": null,
   "id": "4d7ff128-dd9a-4191-a618-a007ae1312bf",
   "metadata": {},
   "outputs": [],
   "source": [
    "class TextComponent:\n",
    "    def __init__(self, title, sections):\n",
    "        self.title = title\n",
    "        self.sections = sections\n",
    "\n",
    "class Section:\n",
    "    def __init__(self, section_id, epub_type, hgroup_info, paragraphs):\n",
    "        self.section_id = section_id\n",
    "        self.epub_type = epub_type\n",
    "        self.hgroup_info = hgroup_info\n",
    "        self.paragraphs = paragraphs\n",
    "\n",
    "class HgroupInfo:\n",
    "    def __init__(self, ordinal, title):\n",
    "        self.ordinal = ordinal\n",
    "        self.title = title"
   ]
  },
  {
   "cell_type": "code",
   "execution_count": null,
   "id": "15785de8-3ecc-4566-a529-57d50e81a9d1",
   "metadata": {},
   "outputs": [],
   "source": [
    "def parse_xhtml(data):\n",
    "    \"\"\"\n",
    "    XHTMLデータを解析し、TextComponentインスタンスを生成します。\n",
    "\n",
    "    Args:\n",
    "        data: XHTMLデータ\n",
    "\n",
    "    Returns:\n",
    "        TextComponentインスタンス\n",
    "    \"\"\"\n",
    "\n",
    "    # ネームスペースを定義\n",
    "    namespaces = {'xhtml': 'http://www.w3.org/1999/xhtml'}\n",
    "\n",
    "    # ルート要素を取得\n",
    "    root = etree.fromstring(data, nsmap=namespaces)\n",
    "\n",
    "    # タイトル取得\n",
    "    title = root.xpath(\"//xhtml:head/xhtml:title\", namespaces=namespaces)[0].text\n",
    "\n",
    "    # セクション情報の取得\n",
    "    sections = []\n",
    "    for section in root.xpath(\"//xhtml:body/xhtml:section\", namespaces=namespaces):\n",
    "        # セクションID\n",
    "        section_id = section.get(\"id\")\n",
    "\n",
    "        # hgroup情報の取得\n",
    "        hgroup_info = HgroupInfo(\n",
    "            ordinal=section.find(\"xhtml:h2\", namespaces=namespaces).text if section.find(\"xhtml:h2\", namespaces=namespaces) is not None else None,\n",
    "            title=section.find(\"xhtml:p\", namespaces=namespaces).text if section.find(\"xhtml:p\", namespaces=namespaces) is not None else None,\n",
    "        )\n",
    "\n",
    "        # p要素の内容を取得\n",
    "        paragraphs = []\n",
    "        for paragraph in section.findall(\"xhtml:p\", namespaces=namespaces):\n",
    "            paragraphs.append(paragraph.text)\n",
    "\n",
    "        # セクション情報に追加\n",
    "        sections.append(Section(section_id, section.get(\"epub:type\"), hgroup_info, paragraphs))\n",
    "\n",
    "    # データ構造の生成\n",
    "    text_component = TextComponent(title, sections)\n",
    "\n",
    "    return text_component"
   ]
  },
  {
   "cell_type": "code",
   "execution_count": null,
   "id": "ec1ac16b-6dd7-4b92-b882-8983a9de4859",
   "metadata": {},
   "outputs": [],
   "source": [
    "text_component.sections[0].paragraphs"
   ]
  },
  {
   "cell_type": "code",
   "execution_count": null,
   "id": "b5667b35-854c-42d8-912b-ca76059fc8d5",
   "metadata": {},
   "outputs": [],
   "source": [
    "title_element = root.xpath(\"//xhtml:head/xhtml:title\", namespaces=namespaces)[0]"
   ]
  },
  {
   "cell_type": "code",
   "execution_count": null,
   "id": "bf9e6f36-3c7f-4e58-b1bb-adddc922741e",
   "metadata": {},
   "outputs": [],
   "source": [
    "title_element.text"
   ]
  },
  {
   "cell_type": "code",
   "execution_count": null,
   "id": "1846bf79-77be-4cd2-aedc-758ad61fe4e8",
   "metadata": {},
   "outputs": [],
   "source": [
    "a = root.xpath('//xhtml:section//xhtml:p', namespaces=namespaces)"
   ]
  },
  {
   "cell_type": "code",
   "execution_count": null,
   "id": "f6cc33cc-aa71-436f-8d08-b4e056ed03e7",
   "metadata": {},
   "outputs": [],
   "source": [
    "a[0]"
   ]
  },
  {
   "cell_type": "code",
   "execution_count": null,
   "id": "bb3acab7-258f-41e2-89d2-55a62a4f1ce2",
   "metadata": {},
   "outputs": [],
   "source": [
    "for i in a:\n",
    "    print(i.text)"
   ]
  },
  {
   "cell_type": "code",
   "execution_count": null,
   "id": "168f44a0-bf72-4661-9529-db6cfad29c78",
   "metadata": {},
   "outputs": [],
   "source": [
    "a.text"
   ]
  },
  {
   "cell_type": "code",
   "execution_count": null,
   "id": "898ecca1-f2d7-4cc8-a3e0-d647218bc3de",
   "metadata": {},
   "outputs": [],
   "source": [
    "title_element = html.xpath(\"/xhtml:head/xhtml:title\")"
   ]
  },
  {
   "cell_type": "code",
   "execution_count": null,
   "id": "6bdd938c-8da9-4638-9581-a2e0b6ced01f",
   "metadata": {},
   "outputs": [],
   "source": [
    "title_element = root.xpath(\"//xhtml:head/xhtml:title\", namespaces=namespaces)[0].text"
   ]
  },
  {
   "cell_type": "code",
   "execution_count": null,
   "id": "2447e090-4a25-48bb-918a-616c551015ee",
   "metadata": {},
   "outputs": [],
   "source": [
    "title_element"
   ]
  },
  {
   "cell_type": "code",
   "execution_count": null,
   "id": "470b3689-990e-4440-9dfc-0128b487c139",
   "metadata": {},
   "outputs": [],
   "source": [
    "namespaces = {'xhtml': 'http://www.w3.org/1999/xhtml'}\n",
    "root = etree.fromstring(data, nsmap=namespaces)\n",
    "\n",
    "a = root.xpath('//xhtml:section//xhtml:p/text()')[0].text_content()\n",
    "print(a)  # 出力: hoge"
   ]
  },
  {
   "cell_type": "code",
   "execution_count": null,
   "id": "4036cca8-4250-4db4-ba70-6eb943395385",
   "metadata": {},
   "outputs": [],
   "source": [
    "html = lxml.html.fromstring(content_raw)"
   ]
  },
  {
   "cell_type": "code",
   "execution_count": null,
   "id": "fffec78a-fd77-4c61-bae7-5fa3f36bcbc2",
   "metadata": {},
   "outputs": [],
   "source": [
    "a = html.xpath('//xhtml:section//xhtml:p/text()')[0].text_content()"
   ]
  },
  {
   "cell_type": "code",
   "execution_count": null,
   "id": "15a1f99d-f930-450d-957b-004dbfe67fd8",
   "metadata": {},
   "outputs": [],
   "source": [
    "a"
   ]
  },
  {
   "cell_type": "code",
   "execution_count": null,
   "id": "97b90808-3f54-4b89-b09b-67f0c858faba",
   "metadata": {},
   "outputs": [],
   "source": [
    "base64.b64decode(a).decode()"
   ]
  },
  {
   "cell_type": "code",
   "execution_count": null,
   "id": "54884795-a69a-4a06-83e6-ecbe7cf947af",
   "metadata": {},
   "outputs": [],
   "source": [
    "title = root.find(etree.XPath(\"/html/head/title\")) "
   ]
  },
  {
   "cell_type": "code",
   "execution_count": null,
   "id": "79251201-d7c4-43b2-a134-476e0d05b16c",
   "metadata": {},
   "outputs": [],
   "source": [
    "# タイトル要素を取得\n",
    "title = root.find(etree.XPath(\"/html/head/title\"))\n",
    "\n",
    "# タイトルテキストを出力\n",
    "print(title.text)\n",
    "\n",
    "# 各段落要素を取得\n",
    "paragraphs = root.findall(etree.XPath(\"/html/body/p\"))\n",
    "\n",
    "# 各段落テキストを出力\n",
    "for paragraph in paragraphs:\n",
    "  print(paragraph.text)"
   ]
  },
  {
   "cell_type": "code",
   "execution_count": null,
   "id": "df36c9ff-df90-436c-87d9-f289cc82a223",
   "metadata": {},
   "outputs": [],
   "source": [
    "r = response\n",
    "\n",
    "if r.encoding is None or r.encoding == 'ISO-8859-1':\n",
    "    r.encoding = r.apparent_encoding"
   ]
  },
  {
   "cell_type": "code",
   "execution_count": null,
   "id": "65a01266-2142-40a1-a55a-0b5909a7cf8c",
   "metadata": {},
   "outputs": [],
   "source": [
    "import base64"
   ]
  },
  {
   "cell_type": "code",
   "execution_count": null,
   "id": "2512aa91-1334-4460-8696-68edc79a20e3",
   "metadata": {},
   "outputs": [],
   "source": [
    "import requests\n",
    "\n",
    "url = \"https://api.github.com/repos/standardebooks/john-maynard-keynes_the-economic-consequences-of-the-peace/git/blobs/\" + file_info[\"sha\"]\n",
    "\n",
    "response = requests.get(url)\n",
    "\n",
    "if response.status_code == 200:\n",
    "    file_content = base64.b64decode(response.json()[\"content\"]).decode()\n",
    "    #file_content = response.json()[\"content\"].encode\n",
    "    print(f\"ファイル名: {file_name}\")\n",
    "    print(f\"ファイル内容: {file_content}\")\n",
    "else:\n",
    "    print(f\"Error: {response.status_code}\")"
   ]
  },
  {
   "cell_type": "code",
   "execution_count": null,
   "id": "b45de799-fc3a-4154-986b-018341ab67bb",
   "metadata": {},
   "outputs": [],
   "source": []
  },
  {
   "cell_type": "code",
   "execution_count": null,
   "id": "222880a0-9249-4d34-87dc-3cb89d0e9803",
   "metadata": {},
   "outputs": [],
   "source": [
    "for d in file_info_dict.items():\n",
    "    print(d[1][\"content\"])\n",
    "    break"
   ]
  },
  {
   "cell_type": "code",
   "execution_count": null,
   "id": "22b66cee-aede-4cf2-9329-ae185079ba45",
   "metadata": {},
   "outputs": [],
   "source": [
    "a = d[1][\"content\"]"
   ]
  },
  {
   "cell_type": "code",
   "execution_count": null,
   "id": "60644df9-598a-45cd-9864-1bd5f66215be",
   "metadata": {},
   "outputs": [],
   "source": [
    "import lxml"
   ]
  },
  {
   "cell_type": "code",
   "execution_count": null,
   "id": "771b3a9a-f2f6-4524-89c5-d9525635ac50",
   "metadata": {},
   "outputs": [],
   "source": [
    "lxml.html.etree(a)"
   ]
  },
  {
   "cell_type": "code",
   "execution_count": null,
   "id": "6de245fa-de46-46a5-b87d-e7efc979155e",
   "metadata": {},
   "outputs": [],
   "source": [
    "import requests\n",
    "import base64\n",
    "\n",
    "def get_file_info(url):\n",
    "  \"\"\"\n",
    "  URLを引数にして、ファイルの情報をdictにして返す\n",
    "  \"\"\"\n",
    "\n",
    "  response = requests.get(url)\n",
    "\n",
    "  if response.status_code == 200:\n",
    "    # ファイルツリーの情報\n",
    "    tree_info = response.json()\n",
    "    file_info_dict = {}\n",
    "    for file_info in tree_info[\"tree\"]:\n",
    "      file_name = file_info[\"path\"]\n",
    "      file_type = file_info[\"type\"]\n",
    "\n",
    "      # ファイルの内容を取得\n",
    "      if file_type == \"blob\":\n",
    "        url = \"https://api.github.com/repos/standardebooks/john-maynard-keynes_the-economic-consequences-of-the-peace/git/blobs/\" + file_info[\"sha\"]\n",
    "        response = requests.get(url)\n",
    "        if response.status_code == 200:\n",
    "          # ファイルの内容\n",
    "          file_content = base64.b64decode(response.json()[\"content\"]).decode()\n",
    "          file_info_dict[file_name] = {\n",
    "            \"type\": file_type,\n",
    "            \"content\": file_content\n",
    "          }\n",
    "        else:\n",
    "          print(f\"Error: {response.status_code}\")\n",
    "      else:\n",
    "        file_info_dict[file_name] = {\n",
    "          \"type\": file_type\n",
    "        }\n",
    "    return file_info_dict\n",
    "  else:\n",
    "    print(f\"Error: {response.status_code}\")\n",
    "\n",
    "# 例\n",
    "url = \"https://api.github.com/repos/standardebooks/john-maynard-keynes_the-economic-consequences-of-the-peace/git/trees/master:src/epub/text\"\n",
    "file_info_dict = get_file_info(url)\n",
    "\n",
    "# 結果を出力\n",
    "print(file_info_dict)"
   ]
  },
  {
   "cell_type": "code",
   "execution_count": null,
   "id": "4dece436-eec7-4d6e-89d1-f669b20dca69",
   "metadata": {},
   "outputs": [],
   "source": [
    "import requests\n",
    "import base64\n",
    "\n",
    "def get_file_info(url):\n",
    "  \"\"\"\n",
    "  URLを引数にして、ファイルの情報をdictにして返す\n",
    "  \"\"\"\n",
    "\n",
    "  response = requests.get(url)\n",
    "\n",
    "  if response.status_code == 200:\n",
    "    # ファイルツリーの情報\n",
    "    tree_info = response.json()\n",
    "    file_info_dict = {}\n",
    "    for file_info in tree_info[\"tree\"]:\n",
    "      file_name = file_info[\"path\"]\n",
    "      file_type = file_info[\"type\"]\n",
    "\n",
    "      # ファイルの内容を取得\n",
    "      if file_type == \"blob\":\n",
    "        url = \"https://api.github.com/repos/standardebooks/john-maynard-keynes_the-economic-consequences-of-the-peace/git/blobs/\" + file_info[\"sha\"]\n",
    "        response = requests.get(url)\n",
    "        if response.status_code == 200:\n",
    "          # ファイルの内容\n",
    "          file_content = base64.b64decode(response.json()[\"content\"]).decode()\n",
    "          file_info_dict[file_name] = {\n",
    "            \"type\": file_type,\n",
    "            \"content\": file_content\n",
    "          }\n",
    "        else:\n",
    "          print(f\"Error: {response.status_code}\")\n",
    "      else:\n",
    "        file_info_dict[file_name] = {\n",
    "          \"type\": file_type\n",
    "        }\n",
    "    return file_info_dict\n",
    "  else:\n",
    "    print(f\"Error: {response.status_code}\")\n",
    "\n",
    "# 例\n",
    "url = \"https://api.github.com/repos/standardebooks/john-maynard-keynes_the-economic-consequences-of-the-peace/git/trees/master:src/epub/text\"\n",
    "file_info_dict = get_file_info(url)\n",
    "\n",
    "# 結果を出力\n",
    "print(file_info_dict)"
   ]
  },
  {
   "cell_type": "code",
   "execution_count": null,
   "id": "3b0284da-e73c-42e6-8a2b-285481edd2ca",
   "metadata": {},
   "outputs": [],
   "source": [
    "import requests\n",
    "\n",
    "url = \"https://api.github.com/repos/standardebooks/john-maynard-keynes_the-economic-consequences-of-the-peace/git/trees/master:src/epub/text\"\n",
    "\n",
    "response = requests.get(url)\n",
    "\n",
    "if response.status_code == 200:\n",
    "    tree_info = response.json()\n",
    "    for file_info in tree_info[\"tree\"]:\n",
    "        file_name = file_info[\"path\"]\n",
    "        file_type = file_info[\"type\"]\n",
    "        \n",
    "        # ファイルの内容を取得\n",
    "        if file_type == \"blob\":\n",
    "            url = \"https://api.github.com/repos/standardebooks/john-maynard-keynes_the-economic-consequences-of-the-peace/git/blobs/\" + file_info[\"sha\"]\n",
    "            response = requests.get(url)\n",
    "            if response.status_code == 200:\n",
    "                # ファイルの内容\n",
    "                file_content = base64.b64decode(response.json()[\"content\"]).decode()\n",
    "                print(f\"ファイル名: {file_name}\")\n",
    "                print(f\"ファイル内容: {file_content}\")\n",
    "            else:\n",
    "                print(f\"Error: {response.status_code}\")\n",
    "        else:\n",
    "            print(f\"ファイル名: {file_name}\")\n",
    "            print(f\"ファイルの種類: {file_type}\")\n",
    "else:\n",
    "    print(f\"Error: {response.status_code}\")"
   ]
  },
  {
   "cell_type": "code",
   "execution_count": null,
   "id": "b92349c3-c851-44b9-a1e0-b0226c155c77",
   "metadata": {},
   "outputs": [],
   "source": [
    "\n",
    "import requests\n",
    "\n",
    "url = \"https://api.github.com/repos/standardebooks/john-maynard-keynes_the-economic-consequences-of-the-peace/git/trees/master:src/epub/text\"\n",
    "\n",
    "response = requests.get(url)\n",
    "\n",
    "if response.status_code == 200:\n",
    "    # ファイルツリーの情報\n",
    "    tree_info = response.json()\n",
    "    for file_info in tree_info[\"tree\"]:\n",
    "        print(file_info)\n",
    "else:\n",
    "    print(f\"Error: {response.status_code}\")"
   ]
  },
  {
   "cell_type": "code",
   "execution_count": null,
   "id": "a0cee2fe-1092-46f6-91f6-21e8b7c87c8c",
   "metadata": {},
   "outputs": [],
   "source": [
    "\n",
    "import requests\n",
    "\n",
    "url = \"https://github.com/standardebooks/john-maynard-keynes_the-economic-consequences-of-the-peace/tree/master/src/epub/text\"\n",
    "\n",
    "response = requests.get(url)\n",
    "\n",
    "if response.status_code == 200:\n",
    "    # ファイルの情報\n",
    "    file_info = response.json()\n",
    "    print(file_info)\n",
    "else:\n",
    "    print(f\"Error: {response.status_code}\")"
   ]
  },
  {
   "cell_type": "code",
   "execution_count": null,
   "id": "05b96cd8-5f6b-41ed-87e8-c6740c490b0b",
   "metadata": {},
   "outputs": [],
   "source": [
    "import subprocess\n",
    "\n",
    "def curl_hoge():\n",
    "    result = subprocess.run([\"curl\", \"https://github.com/standardebooks/john-maynard-keynes_the-economic-consequences-of-the-peace/tree/master/src/epub/text\"], capture_output=True)\n",
    "    if result.returncode == 0:\n",
    "        return json.loads(result.stdout.decode(\"utf-8\"))\n",
    "    else:\n",
    "        raise RuntimeError(f\"curl hoge failed with code {result.returncode}\")\n",
    "\n",
    "response_dict = curl_hoge()\n",
    "print(response_dict)"
   ]
  },
  {
   "cell_type": "code",
   "execution_count": null,
   "id": "f89f08dc-2acf-4bb0-829e-c3ccae0aa2dd",
   "metadata": {},
   "outputs": [],
   "source": [
    "# URLの完全化\n",
    "from urllib.parse import urljoin\n",
    "base_url = \"https://standardebooks.org\"\n",
    "page_url = urljoin(base_url, link_url)"
   ]
  },
  {
   "cell_type": "code",
   "execution_count": null,
   "id": "b7829acf-2596-455d-be6b-96c1c30e17bb",
   "metadata": {},
   "outputs": [],
   "source": [
    "# discription\n",
    "url = get_url_from_xpath(\"//div[@class='downloads-container']//a[@property='schema:contentUrl' and contains(@class, 'page')]/@href\")"
   ]
  },
  {
   "cell_type": "code",
   "execution_count": null,
   "id": "b34ab44c-e191-4ceb-b65f-e078009a9d89",
   "metadata": {},
   "outputs": [],
   "source": [
    "# URLの完全化\n",
    "from urllib.parse import urljoin\n",
    "base_url = \"https://standardebooks.org\"\n",
    "#page_url = urljoin(base_url, url)\n",
    "base_url + \"/\" + url"
   ]
  },
  {
   "cell_type": "code",
   "execution_count": null,
   "id": "7d60c031-2709-4a3c-8fab-bf3713a2b68a",
   "metadata": {},
   "outputs": [],
   "source": [
    "url"
   ]
  },
  {
   "cell_type": "code",
   "execution_count": null,
   "id": "d7f6a986-75df-486d-9881-48c4af3a8cad",
   "metadata": {},
   "outputs": [],
   "source": [
    "# discription\n",
    "git_url = get_url_from_xpath('//*[@id=\"details\"]/ul/li[1]/p/a/@href')"
   ]
  },
  {
   "cell_type": "code",
   "execution_count": null,
   "id": "ac83b786-60d5-4c65-bc2e-e23536429dfa",
   "metadata": {},
   "outputs": [],
   "source": [
    "text_list = git_url + \"/tree/master/src/epub/text\""
   ]
  },
  {
   "cell_type": "code",
   "execution_count": null,
   "id": "67af536f-b8c5-48be-ae20-653d9a23452d",
   "metadata": {},
   "outputs": [],
   "source": [
    "text_list"
   ]
  },
  {
   "cell_type": "code",
   "execution_count": null,
   "id": "34c88d0c-4ef5-428a-a092-bdbd4aa52762",
   "metadata": {},
   "outputs": [],
   "source": [
    "# discription\n",
    "git_url = get_url_from_xpath('//*[@id=\"details\"]/ul/li[1]/p/a')"
   ]
  },
  {
   "cell_type": "code",
   "execution_count": null,
   "id": "74de579d-80e2-4794-8989-ac1db58c8da0",
   "metadata": {},
   "outputs": [],
   "source": [
    "response = requests.get('https://github.com/standardebooks/john-maynard-keynes_the-economic-consequences-of-the-peace/tree/master/src/epub/text')\n",
    "tree = lxml.html.fromstring(response.text.encode('utf-8'))"
   ]
  },
  {
   "cell_type": "code",
   "execution_count": null,
   "id": "898f205e-5edf-4b5e-a545-794385a23557",
   "metadata": {},
   "outputs": [],
   "source": [
    "link_element = tree.xpath('.//a[@class=\"Link--primary\"]') "
   ]
  },
  {
   "cell_type": "code",
   "execution_count": null,
   "id": "6dccfe2c-4d11-4e32-a8ef-89fe1afbc6f2",
   "metadata": {},
   "outputs": [],
   "source": [
    "link_element"
   ]
  },
  {
   "cell_type": "code",
   "execution_count": null,
   "id": "5484f274-23c2-4938-b332-3245000905d7",
   "metadata": {},
   "outputs": [],
   "source": [
    "# `a`要素を抽出\n",
    "link_element = tree.xpath('.//a[@class=\"Link--primary\"]')  \n",
    "\n",
    "if link_element is not None:\n",
    "    link = link_element.get('href')\n",
    "    print(\"ファイルへのリンク:\", link)  \n",
    "else:\n",
    "    print(\"Link was not found\")\n"
   ]
  },
  {
   "cell_type": "code",
   "execution_count": null,
   "id": "c5a89b9e-d936-4c10-9906-2011e350a43d",
   "metadata": {},
   "outputs": [],
   "source": [
    "# `a`要素を抽出\n",
    "link_element = tree.xpath('/html/body/div[1]/div[6]/div/main/turbo-frame/div/react-app/div/div/div[1]/div/div/div[2]/div[2]/div/div[3]/div[3]/div/table/tbody/tr[2]')  "
   ]
  },
  {
   "cell_type": "code",
   "execution_count": null,
   "id": "2679e901-12b8-481c-b150-0fc955fd8ebb",
   "metadata": {},
   "outputs": [],
   "source": [
    "link_element"
   ]
  },
  {
   "cell_type": "code",
   "execution_count": null,
   "id": "b68e655d-f616-45d7-a4a1-895cb25cb4ae",
   "metadata": {},
   "outputs": [],
   "source": [
    "# タイトルを取得\n",
    "title = tree.findtext(\".//title\")\n",
    "\n",
    "# 本文を取得\n",
    "body = tree.find(\".//main[@id='content']\")\n",
    "\n",
    "# 処理結果を出力\n",
    "print(f\"タイトル: {title}\")\n",
    "print(f\"本文: {body}\")"
   ]
  },
  {
   "cell_type": "code",
   "execution_count": null,
   "id": "7135d50b-1d83-4b06-8645-c5841cf5b717",
   "metadata": {},
   "outputs": [],
   "source": [
    "link = tree.xpath('//*[@id=\"folder-row-1\"]/td[2]/div/div/h3/div/a')"
   ]
  },
  {
   "cell_type": "code",
   "execution_count": null,
   "id": "0d9069e3-e1a6-4138-a45b-2e99cac1ca33",
   "metadata": {},
   "outputs": [],
   "source": [
    "link"
   ]
  },
  {
   "cell_type": "code",
   "execution_count": null,
   "id": "7725b543-254a-44ca-a718-9d4e4b6e8efb",
   "metadata": {},
   "outputs": [],
   "source": [
    "//*[@id=\"folder-row-1\"]/td[2]/div/div/h3/div/a"
   ]
  },
  {
   "cell_type": "code",
   "execution_count": null,
   "id": "54e75d63-1d3b-4b25-a023-b94d6e266053",
   "metadata": {},
   "outputs": [],
   "source": [
    "# discription\n",
    "tree.xpath('/html/body/div[1]/div[6]/div/main/turbo-frame/div/react-app/div/div/div[1]/div/div/div[2]/div[2]/div/div[3]/div[3]/div/table/tbody/tr[2]/td[2]/div/div/h3/div/a/@href') "
   ]
  },
  {
   "cell_type": "code",
   "execution_count": null,
   "id": "00b058bd-0d86-4d52-b71e-7abad1db8344",
   "metadata": {},
   "outputs": [],
   "source": [
    "//*[@id=\"folder-row-1\"]/td[2]/div/div/h3/div/a"
   ]
  }
 ],
 "metadata": {
  "kernelspec": {
   "display_name": "Python 3 (ipykernel)",
   "language": "python",
   "name": "python3"
  },
  "language_info": {
   "codemirror_mode": {
    "name": "ipython",
    "version": 3
   },
   "file_extension": ".py",
   "mimetype": "text/x-python",
   "name": "python",
   "nbconvert_exporter": "python",
   "pygments_lexer": "ipython3",
   "version": "3.12.2"
  }
 },
 "nbformat": 4,
 "nbformat_minor": 5
}
