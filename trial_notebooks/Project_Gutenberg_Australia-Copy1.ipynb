{
 "cells": [
  {
   "cell_type": "code",
   "execution_count": 11,
   "id": "5f2575f6-0143-473c-909d-22040a46a080",
   "metadata": {},
   "outputs": [],
   "source": [
    "import requests\n",
    "import lxml.html"
   ]
  },
  {
   "cell_type": "code",
   "execution_count": 12,
   "id": "db361ff7-936e-4048-b1eb-52a94311192e",
   "metadata": {},
   "outputs": [],
   "source": [
    "response = requests.get(\"https://gutenberg.net.au/ebooks01/0100011h.html\")"
   ]
  },
  {
   "cell_type": "code",
   "execution_count": 13,
   "id": "594a1941-d2ff-4969-8135-e8f5cbb97ec1",
   "metadata": {},
   "outputs": [],
   "source": [
    "tree = lxml.html.fromstring(response.text)"
   ]
  },
  {
   "cell_type": "code",
   "execution_count": 14,
   "id": "022c2a78-4189-4652-be25-891bd3344da9",
   "metadata": {},
   "outputs": [
    {
     "data": {
      "text/plain": [
       "'Title: Animal Farm\\nAuthor: George Orwell\\neBook No.: 0100011h.html\\nLanguage: English\\nDate first posted: August 2001\\nMost recent update: March 2008\\n\\nThis eBook was produced by: Colin Choat'"
      ]
     },
     "execution_count": 14,
     "metadata": {},
     "output_type": "execute_result"
    }
   ],
   "source": [
    "tree.xpath('/html/body/p[1]')[0].text_content()"
   ]
  },
  {
   "cell_type": "code",
   "execution_count": 15,
   "id": "0f12e508-8b98-4c07-850b-f3f681b9e561",
   "metadata": {},
   "outputs": [
    {
     "data": {
      "text/plain": [
       "'Animal Farm'"
      ]
     },
     "execution_count": 15,
     "metadata": {},
     "output_type": "execute_result"
    }
   ],
   "source": [
    "tree = lxml.html.fromstring(response.text)\n",
    "tree.xpath('/html/body/h1')[0].text_content()"
   ]
  },
  {
   "cell_type": "code",
   "execution_count": 16,
   "id": "2e21a774-c8fd-463b-bae0-4a89b9529f76",
   "metadata": {},
   "outputs": [
    {
     "data": {
      "text/plain": [
       "'Contents'"
      ]
     },
     "execution_count": 16,
     "metadata": {},
     "output_type": "execute_result"
    }
   ],
   "source": [
    "tree.xpath(\"/html/body/h2\")[0].text_content()"
   ]
  },
  {
   "cell_type": "code",
   "execution_count": 17,
   "id": "ab4f6804-5079-4a10-bd81-acda901cb070",
   "metadata": {},
   "outputs": [
    {
     "name": "stdout",
     "output_type": "stream",
     "text": [
      "[{'type': 'heading', 'text': 'タイトル'}, {'type': 'paragraph', 'text': '本文'}, {'type': 'code', 'text': 'コード'}]\n"
     ]
    }
   ],
   "source": [
    "from lxml import etree\n",
    "\n",
    "def parse_content(tree):\n",
    "  \"\"\"\n",
    "  コンテンツをパースします。\n",
    "\n",
    "  Args:\n",
    "    tree: HTMLツリー\n",
    "\n",
    "  Returns:\n",
    "    コンテンツのリスト\n",
    "  \"\"\"\n",
    "  content = []\n",
    "  for element in tree.xpath('/html/body/*'):\n",
    "    if element.tag == \"p\":\n",
    "      content.append({\"type\": \"paragraph\", \"text\": element.text})\n",
    "    elif element.tag == \"pre\":\n",
    "      content.append({\"type\": \"code\", \"text\": element.text})\n",
    "    elif element.tag == \"h1\":\n",
    "      content.append({\"type\": \"heading\", \"text\": element.text})\n",
    "  return content\n",
    "\n",
    "# 例\n",
    "html = \"\"\"\n",
    "<html>\n",
    "<body>\n",
    "<h1>タイトル</h1>\n",
    "<p>本文</p>\n",
    "<pre>コード</pre>\n",
    "</body>\n",
    "</html>\n",
    "\"\"\"\n",
    "\n",
    "tree = etree.fromstring(html)\n",
    "\n",
    "content = parse_content(tree)\n",
    "\n",
    "print(content)"
   ]
  },
  {
   "cell_type": "code",
   "execution_count": 18,
   "id": "bb6937ee-8966-4b25-9362-997c751430e8",
   "metadata": {},
   "outputs": [
    {
     "ename": "IndexError",
     "evalue": "list index out of range",
     "output_type": "error",
     "traceback": [
      "\u001b[0;31m---------------------------------------------------------------------------\u001b[0m",
      "\u001b[0;31mIndexError\u001b[0m                                Traceback (most recent call last)",
      "Cell \u001b[0;32mIn[18], line 1\u001b[0m\n\u001b[0;32m----> 1\u001b[0m \u001b[43mtree\u001b[49m\u001b[38;5;241;43m.\u001b[39;49m\u001b[43mxpath\u001b[49m\u001b[43m(\u001b[49m\u001b[38;5;124;43m'\u001b[39;49m\u001b[38;5;124;43m/html/body/p[6]\u001b[39;49m\u001b[38;5;124;43m'\u001b[39;49m\u001b[43m)\u001b[49m\u001b[43m[\u001b[49m\u001b[38;5;241;43m0\u001b[39;49m\u001b[43m]\u001b[49m\u001b[38;5;241m.\u001b[39mtext_content()\n",
      "\u001b[0;31mIndexError\u001b[0m: list index out of range"
     ]
    }
   ],
   "source": [
    "tree.xpath('/html/body/p[6]')[0].text_content()"
   ]
  },
  {
   "cell_type": "code",
   "execution_count": 19,
   "id": "4983d2c3-53eb-47c9-bd3d-a89f1eef335d",
   "metadata": {},
   "outputs": [
    {
     "ename": "AttributeError",
     "evalue": "'lxml.etree._Element' object has no attribute 'text_content'",
     "output_type": "error",
     "traceback": [
      "\u001b[0;31m---------------------------------------------------------------------------\u001b[0m",
      "\u001b[0;31mAttributeError\u001b[0m                            Traceback (most recent call last)",
      "Cell \u001b[0;32mIn[19], line 1\u001b[0m\n\u001b[0;32m----> 1\u001b[0m \u001b[43mtree\u001b[49m\u001b[38;5;241;43m.\u001b[39;49m\u001b[43mxpath\u001b[49m\u001b[43m(\u001b[49m\u001b[38;5;124;43m'\u001b[39;49m\u001b[38;5;124;43m/html/body/pre[1]\u001b[39;49m\u001b[38;5;124;43m'\u001b[39;49m\u001b[43m)\u001b[49m\u001b[43m[\u001b[49m\u001b[38;5;241;43m0\u001b[39;49m\u001b[43m]\u001b[49m\u001b[38;5;241;43m.\u001b[39;49m\u001b[43mtext_content\u001b[49m()\n",
      "\u001b[0;31mAttributeError\u001b[0m: 'lxml.etree._Element' object has no attribute 'text_content'"
     ]
    }
   ],
   "source": [
    "tree.xpath('/html/body/pre[1]')[0].text_content()"
   ]
  },
  {
   "cell_type": "raw",
   "id": "16054ac0-d81f-42ff-abbe-b4430e892253",
   "metadata": {},
   "source": [
    "/html/body/p[6]"
   ]
  },
  {
   "cell_type": "code",
   "execution_count": 13,
   "id": "9b17e218-127e-462f-bade-7b2773bafbea",
   "metadata": {},
   "outputs": [
    {
     "data": {
      "text/plain": [
       "b'<h1>Animal Farm</h1>\\n\\n'"
      ]
     },
     "execution_count": 13,
     "metadata": {},
     "output_type": "execute_result"
    }
   ],
   "source": [
    "lxml.html.tostring(tree.xpath('/html/body/p[5]/br[1])[0])"
   ]
  },
  {
   "cell_type": "code",
   "execution_count": 20,
   "id": "4587cd85-6d10-4f73-83f0-2b4032c3b1df",
   "metadata": {},
   "outputs": [],
   "source": [
    "from abc import ABC\n",
    "from abc import abstractmethod\n",
    "import re\n",
    "\n",
    "import lxml.html\n",
    "import requests\n",
    "\n",
    "\n",
    "class Scraper(ABC):\n",
    "    def __init__(self, url):\n",
    "        self.url = url\n",
    "        self.response = requests.get(url)\n",
    "        self.tree = lxml.html.fromstring(self.response.text)\n",
    "\n",
    "    @abstractmethod\n",
    "    def get_title(self):\n",
    "        pass\n",
    "\n",
    "    @abstractmethod\n",
    "    def get_language(self):\n",
    "        pass\n",
    "\n",
    "    @abstractmethod\n",
    "    def get_text(self):\n",
    "        pass\n",
    "\n",
    "    @abstractmethod\n",
    "    def get_author(self):\n",
    "        pass\n",
    "\n",
    "    @abstractmethod\n",
    "    def get_metadata(self):\n",
    "        pass\n",
    "\n",
    "    @abstractmethod\n",
    "    def get_chapters(self):\n",
    "        pass\n",
    "\n",
    "    @abstractmethod\n",
    "    def get_chapter(self, chapter):\n",
    "        pass\n",
    "\n",
    "    @abstractmethod\n",
    "    def get_chapter_text(self, chapter):\n",
    "        pass\n",
    "\n",
    "\n",
    "class Gutenberg(ABC):\n",
    "    def __init__(self, url):\n",
    "        self.url = url\n",
    "        self.response = requests.get(url)\n",
    "        self.tree = lxml.html.fromstring(self.response.text)\n",
    "\n",
    "    @staticmethod\n",
    "    def _parse_ebook_metadata(text):\n",
    "        metadata = {}\n",
    "        for line in text.splitlines():\n",
    "            match = re.match(r\"(.*?):\\s*(.*)\", line)\n",
    "            if match:\n",
    "                key, value = match.groups()\n",
    "                metadata[key] = value\n",
    "        return metadata\n",
    "\n",
    "    def _get_meta_data(self):\n",
    "        return self.tree.xpath(\"/html/body/p[1]\")[0].text_content()\n",
    "\n",
    "    def get_title(self):\n",
    "        return self._parse_ebook_metadata(self._get_meta_data())[\"Title\"]\n",
    "        # return self.tree.xpath(\"/html/body/h1\")[0].text_content()\n",
    "\n",
    "    def get_language(self):\n",
    "        return self.tree.xpath(\"/html/body/h2\")[0].text_content()\n",
    "\n",
    "    def get_text(self):\n",
    "        return self.tree.xpath(\"/html/body/pre\")[0].text_content()\n",
    "\n",
    "    def get_author(self):\n",
    "        return self.tree.xpath(\"/html/body/p[4]/text()[3]\")[0].strip()\n",
    "\n",
    "    def get_metadata(self):\n",
    "        return {\"title\": self.get_title(), \"author\": self.get_author()}\n",
    "\n",
    "    def get_chapters(self):\n",
    "        return self.tree.xpath(\"/html/body/h3\")\n",
    "\n",
    "    def get_chapter(self, chapter):\n",
    "        return self.tree.xpath(\"/html/body/h3\")[chapter].text_content()\n",
    "\n",
    "    def get_chapter_text(self, chapter):\n",
    "        return self.tree.xpath(\"/html/body/h3\")[chapter].tail"
   ]
  },
  {
   "cell_type": "code",
   "execution_count": 21,
   "id": "7847d569-2670-49fc-b135-9ac1306c2304",
   "metadata": {},
   "outputs": [],
   "source": [
    "g = Gutenberg(\"https://gutenberg.net.au/ebooks01/0100011h.html\")"
   ]
  },
  {
   "cell_type": "code",
   "execution_count": 22,
   "id": "51dbcc22-a63f-4f96-8508-4446040b52e1",
   "metadata": {},
   "outputs": [
    {
     "data": {
      "text/plain": [
       "'Animal Farm'"
      ]
     },
     "execution_count": 22,
     "metadata": {},
     "output_type": "execute_result"
    }
   ],
   "source": [
    "g.get_title()"
   ]
  },
  {
   "cell_type": "code",
   "execution_count": 24,
   "id": "7fa01b37-5856-4800-9bc4-7d4dddb0d4a2",
   "metadata": {},
   "outputs": [
    {
     "data": {
      "text/plain": [
       "\"\\nBeasts of England, beasts of Ireland,\\nBeasts of every land and clime,\\nHearken to my joyful tidings\\nOf the golden future time.\\n\\nSoon or late the day is coming,\\nTyrant Man shall be o'erthrown,\\nAnd the fruitful fields of England\\nShall be trod by beasts alone.\\n\\nRings shall vanish from our noses,\\nAnd the harness from our back,\\nBit and spur shall rust forever,\\nCruel whips no more shall crack.\\n\\nRiches more than mind can picture,\\nWheat and barley, oats and hay,\\nClover, beans, and mangel-wurzels\\nShall be ours upon that day.\\n\\nBright will shine the fields of England,\\nPurer shall its waters be,\\nSweeter yet shall blow its breezes\\nOn the day that sets us free.\\n\\nFor that day we all must labour,\\nThough we die before it break;\\nCows and horses, geese and turkeys,\\nAll must toil for freedom's sake.\\n\\nBeasts of England, beasts of Ireland,\\nBeasts of every land and clime,\\nHearken well and spread my tidings\\nOf the golden future time.\\n\\n\""
      ]
     },
     "execution_count": 24,
     "metadata": {},
     "output_type": "execute_result"
    }
   ],
   "source": [
    "g.get_text()"
   ]
  },
  {
   "cell_type": "code",
   "execution_count": 23,
   "id": "c616d3d5-3660-4dcc-91a3-f1beff910817",
   "metadata": {},
   "outputs": [
    {
     "data": {
      "text/plain": [
       "'George Orwell'"
      ]
     },
     "execution_count": 23,
     "metadata": {},
     "output_type": "execute_result"
    }
   ],
   "source": [
    "g.get_author().strip()"
   ]
  },
  {
   "cell_type": "code",
   "execution_count": null,
   "id": "7d2141d2-4a22-4e22-8359-9e8922ad6284",
   "metadata": {},
   "outputs": [],
   "source": [
    "class TestGutenberg:\n",
    "    url = \"https://gutenberg.net.au/ebooks01/0100011h.html\"\n",
    "    title = 'Animal Farm'\n",
    "    author = 'George Orwell'\n",
    "\n",
    "    def test_var_positive(self) -> None:\n",
    "        assert self.VAR >= 0"
   ]
  },
  {
   "cell_type": "code",
   "execution_count": null,
   "id": "c1eb3b75-8e25-43f8-a3cb-d1469077d665",
   "metadata": {},
   "outputs": [],
   "source": [
    "g = Gutenberg(\"https://gutenberg.net.au/ebooks01/0100011h.html\")"
   ]
  }
 ],
 "metadata": {
  "kernelspec": {
   "display_name": "Python 3 (ipykernel)",
   "language": "python",
   "name": "python3"
  },
  "language_info": {
   "codemirror_mode": {
    "name": "ipython",
    "version": 3
   },
   "file_extension": ".py",
   "mimetype": "text/x-python",
   "name": "python",
   "nbconvert_exporter": "python",
   "pygments_lexer": "ipython3",
   "version": "3.12.2"
  }
 },
 "nbformat": 4,
 "nbformat_minor": 5
}
