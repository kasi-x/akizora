{
 "cells": [
  {
   "cell_type": "code",
   "execution_count": 1,
   "id": "81a40d9d-53cc-4bfe-8468-d637d5a60b16",
   "metadata": {},
   "outputs": [
    {
     "ename": "IndentationError",
     "evalue": "unindent does not match any outer indentation level (data_structure.py, line 427)",
     "output_type": "error",
     "traceback": [
      "Traceback \u001b[0;36m(most recent call last)\u001b[0m:\n",
      "\u001b[0m  File \u001b[1;32m~/dev/kasi-x/akizora/.venv/lib/python3.12/site-packages/IPython/core/interactiveshell.py:3577\u001b[0m in \u001b[1;35mrun_code\u001b[0m\n    exec(code_obj, self.user_global_ns, self.user_ns)\u001b[0m\n",
      "\u001b[0;36m  Cell \u001b[0;32mIn[1], line 1\u001b[0;36m\n\u001b[0;31m    from src.data_structure import *\u001b[0;36m\n",
      "\u001b[0;36m  File \u001b[0;32m~/dev/kasi-x/akizora/src/data_structure.py:427\u001b[0;36m\u001b[0m\n\u001b[0;31m    def make_multi_line_translate_prompt(context: PromptContext) -> Prompt:\u001b[0m\n\u001b[0m                                                                           ^\u001b[0m\n\u001b[0;31mIndentationError\u001b[0m\u001b[0;31m:\u001b[0m unindent does not match any outer indentation level\n"
     ]
    }
   ],
   "source": [
    "from src.data_structure import *"
   ]
  },
  {
   "cell_type": "code",
   "execution_count": 2,
   "id": "af1a2066-3bde-4559-b389-2ea4a28d3974",
   "metadata": {},
   "outputs": [
    {
     "ename": "IndentationError",
     "evalue": "unindent does not match any outer indentation level (data_structure.py, line 427)",
     "output_type": "error",
     "traceback": [
      "Traceback \u001b[0;36m(most recent call last)\u001b[0m:\n",
      "\u001b[0m  File \u001b[1;32m~/dev/kasi-x/akizora/.venv/lib/python3.12/site-packages/IPython/core/interactiveshell.py:3577\u001b[0m in \u001b[1;35mrun_code\u001b[0m\n    exec(code_obj, self.user_global_ns, self.user_ns)\u001b[0m\n",
      "\u001b[0m  Cell \u001b[1;32mIn[2], line 1\u001b[0m\n    from src.tag import *\u001b[0m\n",
      "\u001b[0;36m  File \u001b[0;32m~/dev/kasi-x/akizora/src/tag.py:6\u001b[0;36m\n\u001b[0;31m    from src.data_structure import Book\u001b[0;36m\n",
      "\u001b[0;36m  File \u001b[0;32m~/dev/kasi-x/akizora/src/data_structure.py:427\u001b[0;36m\u001b[0m\n\u001b[0;31m    def make_multi_line_translate_prompt(context: PromptContext) -> Prompt:\u001b[0m\n\u001b[0m                                                                           ^\u001b[0m\n\u001b[0;31mIndentationError\u001b[0m\u001b[0;31m:\u001b[0m unindent does not match any outer indentation level\n"
     ]
    }
   ],
   "source": [
    "from src.tag import *"
   ]
  },
  {
   "cell_type": "code",
   "execution_count": 3,
   "id": "81ca4927-32f1-4fb7-896c-c93cdb394721",
   "metadata": {},
   "outputs": [],
   "source": [
    "import pprint"
   ]
  },
  {
   "cell_type": "code",
   "execution_count": 4,
   "id": "f1921ad5-9a0c-4cf5-a39b-96e1416412be",
   "metadata": {},
   "outputs": [],
   "source": [
    "text = open(\"sample.txt\").read()\n",
    "\n",
    "start_tag_added_text = mark_sections(text)\n",
    "\n",
    "start_tag_and_placeholder_text, text_placeholders = replace_text_with_placeholder(\n",
    "        start_tag_added_text\n",
    "    )\n",
    "\n",
    "prioritized_tag_text = replace_tags_with_rules(start_tag_and_placeholder_text)\n",
    "tag_complited_text = parse_and_correct_html(prioritized_tag_text)\n",
    "result = restore_text_from_placeholder(tag_complited_text, text_placeholders)\n",
    "\n",
    "html_text = result\n",
    "\n",
    "from bs4 import BeautifulSoup\n",
    "import re\n",
    "\n",
    "def find_section_boundaries(html, tags):\n",
    "    tags_regex = '|'.join(tags)\n",
    "    pattern = re.compile(f\"<(/)?({tags_regex})(:\\\\d*)?>\")\n",
    "    boundaries = []\n",
    "    for match in pattern.finditer(html):\n",
    "        tag_full, is_closing, tag_name, span = match.group(0), bool(match.group(1)), match.group(2), match.span()\n",
    "        boundaries.append((is_closing, tag_name, span))\n",
    "    return boundaries\n",
    "\n",
    "def construct_sections(html, boundaries):\n",
    "    sections = []\n",
    "    open_tag = None\n",
    "    section_start = 0\n",
    "    for is_closing, tag_name, span in boundaries:\n",
    "        if not is_closing:\n",
    "            if open_tag is not None:\n",
    "                sections.append((open_tag, html[section_start:span[0]].strip()))\n",
    "            open_tag = tag_name\n",
    "            section_start = span[1]\n",
    "        else:\n",
    "            if open_tag == tag_name:\n",
    "                sections.append((tag_name, html[section_start:span[0]].strip()))\n",
    "                open_tag = None\n",
    "    return sections\n",
    "\n",
    "def extract_content_from_section(section):\n",
    "    soup = BeautifulSoup(section, 'html.parser')\n",
    "    title = extract_title_or_body(soup, 'TITLE', True)\n",
    "    body = extract_title_or_body(soup, 'body')\n",
    "    \n",
    "    # Adjust title or body if they are not found\n",
    "    if not title and not body:\n",
    "        # If both title and body are missing, use raw text as the title.\n",
    "        title = soup.get_text(strip=True)\n",
    "    elif title and not body:\n",
    "        # If title exists but body is missing, use raw text as the body.\n",
    "        body = [soup.get_text(strip=True)]\n",
    "    \n",
    "    return title, body\n",
    "\n",
    "def extract_title_or_body(soup, tag, is_title=False):\n",
    "    if is_title:\n",
    "        title_tag = soup.find(lambda tag: tag.name.upper().endswith('TITLE'))\n",
    "        return title_tag.get_text(strip=True) if title_tag else \"\"\n",
    "    else:\n",
    "        body_tag = soup.find(tag)\n",
    "        return body_tag.get_text(strip=True).split(\"\\n\") if body_tag else []\n",
    "\n",
    "def process_html_into_sections(html_text, tag_list):\n",
    "    boundaries = find_section_boundaries(html_text, tag_list)\n",
    "    raw_sections = construct_sections(html_text, boundaries)\n",
    "    processed_sections = [Section(*extract_content_from_section(section)) for _, section in raw_sections]\n",
    "    return processed_sections\n",
    "\n",
    "# 使用例\n",
    "tag_list = ['PROLOGUE', 'CHAPTER', 'EPILOGUE', 'THE_END', 'TRANSCRIBER_NOTES']\n",
    "\n",
    "#processed_sections = process_html_into_sections(html_text, tag_list)\n",
    "\n",
    "from bs4 import BeautifulSoup\n",
    "import re\n",
    "\n",
    "class Section:\n",
    "    def __init__(self, title, body):\n",
    "        self.title = title\n",
    "        self.body = body\n",
    "\n",
    "class HTMLSectionProcessor:\n",
    "    def __init__(self, html, tags):\n",
    "        self.html = html\n",
    "        self.tags = tags\n",
    "\n",
    "    def _find_section_boundaries(self):\n",
    "        tags_regex = '|'.join(self.tags)\n",
    "        pattern = re.compile(f\"<(/)?({tags_regex})(:\\\\d*)?>\")\n",
    "        return [(bool(match.group(1)), match.group(2), match.span()) for match in pattern.finditer(self.html)]\n",
    "\n",
    "\n",
    "    # _construct_sectionsメソッドの修正例\n",
    "    def _construct_sections(self, boundaries):\n",
    "        sections = []\n",
    "        open_tag = None\n",
    "        section_start = None\n",
    "        for is_closing, tag_name, span in boundaries:\n",
    "            if not is_closing and open_tag is None:\n",
    "                open_tag = tag_name\n",
    "                section_start = span[1]  # タグの終了直後からセクションを開始\n",
    "            elif is_closing and open_tag == tag_name:\n",
    "                sections.append((tag_name, self.html[section_start:span[0]].strip()))\n",
    "                open_tag = None\n",
    "        return sections\n",
    "    \n",
    "    # extract_content_from_sectionメソッドの調整\n",
    "    @staticmethod\n",
    "    def extract_content_from_section(section):\n",
    "        soup = BeautifulSoup(section, 'html.parser')\n",
    "        title, body = extract_title_or_body(soup, 'TITLE', True), extract_title_or_body(soup, 'body')\n",
    "        \n",
    "        if not title and not body:\n",
    "            title = soup.get_text(strip=True)\n",
    "        elif title and not body:\n",
    "            body = [soup.get_text(strip=True)]\n",
    "        \n",
    "        return title, body\n",
    "\n",
    "    @staticmethod\n",
    "    def _extract_title_or_body(soup, tag, is_title=False):\n",
    "        tag_func = lambda tag: tag.name.upper().endswith('TITLE') if is_title else tag.name.lower() == tag\n",
    "        found_tag = soup.find(tag_func)\n",
    "        if found_tag:\n",
    "            text = found_tag.get_text(strip=True)\n",
    "            return text if is_title else text.split(\"\\n\")\n",
    "        return \"\" if is_title else []\n",
    "\n",
    "    def process(self):\n",
    "        boundaries = self._find_section_boundaries()\n",
    "        raw_sections = self._construct_sections(boundaries)\n",
    "        return [Section(*self.extract_content_from_section(section)) for _, section in raw_sections]\n",
    "\n",
    "import re\n",
    "\n",
    "def replace_single_newline_with_space(text):\n",
    "    # 単独の改行を空白に置換。(?<!\\n)と(?!\\n)は直前直後に改行がないことを確認する\n",
    "    return re.sub(r'(?<!\\n)\\n(?!\\n)', ' ', text)\n",
    "\n",
    "\n",
    "\n",
    "tag_list = ['PROLOGUE', 'CHAPTER', 'EPILOGUE', 'THE_END', 'TRANSCRIBER_NOTES']\n",
    "processor = HTMLSectionProcessor(result, tag_list)\n",
    "processed_sections = processor.process()\n",
    "chapters = []\n",
    "for section in processed_sections:\n",
    "    # print(f\"Title: {section.title}\")\n",
    "    # print(\"Body:\", section.body)\n",
    "    # print(\"---\")\n",
    "    lines = []\n",
    "    joined = \"\\n\".join(section.body).split(\"\\n\\n\")\n",
    "    for one_line_text in joined: \n",
    "        one_line_text = replace_single_newline_with_space(one_line_text)\n",
    "        lines.append(Line(one_line_text))\n",
    "    chapters.append(Chapter(_title=section.title, contents=lines))\n"
   ]
  },
  {
   "cell_type": "code",
   "execution_count": 5,
   "id": "f48a25a8-76e8-4198-9107-e93269f31cec",
   "metadata": {},
   "outputs": [],
   "source": [
    "a = Book(_title = \"lost horizon\", contents = chapters)"
   ]
  },
  {
   "cell_type": "code",
   "execution_count": 13,
   "id": "48a16feb-1b7d-438a-979c-9050404c04e6",
   "metadata": {},
   "outputs": [
    {
     "data": {
      "text/plain": [
       "{1: 'Misspelled words and printer errors have been corrected. Where multiple spellings occur, majority use has been employed.',\n",
       " 2: 'Punctuation has been maintained except where obvious printer errors occur.',\n",
       " 3: '[The end of _Lost Horizon_ by James Hilton]',\n",
       " 4: '“Much more than glanced at it. I should have returned it, by the way, but you left no address.”',\n",
       " 5: 'Rutherford nodded. “I wonder what you made of it?”',\n",
       " 6: 'Rutherford flicked his cigar as if the narration had excited him quite as much as he hoped it had me. Continuing, he said: “The little fellow looked at me solemnly for a moment, and then answered in that funny clipped English that the educated Chinese have—‘Oh no, she was most old—most old of anyone I have ever seen.’”',\n",
       " 7: '',\n",
       " 8: 'We sat for a long time in silence, and then talked again of Conway as I remembered him, boyish and gifted and full of charm, and of the War that had altered him, and of so many mysteries of time and age and of the mind, and of the little Manchu who had been ‘most old,’ and of the strange ultimate dream of Blue Moon. “Do you think he will ever find it?” I asked.',\n",
       " 9: 'WOODFORD GREEN April 1933',\n",
       " 10: '“Good-bye, then.”',\n",
       " 11: 'They shook hands, and Mallinson left.',\n",
       " 12: '',\n",
       " 13: 'Conway sat alone in the lantern-light. It seemed to him, in a phrase engraved on memory, that all the loveliest things were transient and perishable, that the two worlds were finally beyond reconciliation, and that one of them hung, as always, by a thread. After he had pondered for some time he looked at his watch; it was ten minutes to three.'}"
      ]
     },
     "execution_count": 13,
     "metadata": {},
     "output_type": "execute_result"
    }
   ],
   "source": [
    "a.get_all_line_texts_with_numbers()"
   ]
  },
  {
   "cell_type": "code",
   "execution_count": 14,
   "id": "5bc08ca7-d16f-4abe-8682-ebf3ce938fc9",
   "metadata": {},
   "outputs": [
    {
     "data": {
      "text/plain": [
       "Book(_title='lost horizon', contents=[Chapter(_title='PROLOGUE', contents=[Line(Cigars had burned low, and we were beginning to sample the disillusionment...)]), Chapter(_title='CHAPTER 1', contents=[Line(During that third week of May the situation in Baskul had become much worse...)]), Chapter(_title='CHAPTER 2', contents=[Line(The journey was expected to be long and perilous...), Line(gave him a most charming smile, but her eyes were all for the boy. “What life?”), Line(“The life you’re thinking of . . . dinners . . . dances . . . polo . . . all that. . . .”), Line(“But I never said anything about dances and polo! Anyhow, what’s wrong with them? D’you mean that you’re not coming with me? You’re going to stay here like the other two? Then at least you shan’t stop _me_ from clearing out of it!” Mallinson threw down his cigarette and sprang towards the door with eyes blazing. “You’re off your head!” he cried wildly. “You’re mad, Conway, that’s what’s the matter with you! I know you’re always calm, and I’m always excited, but I’m sane, at any rate, and you’re not! They warned me about it before I joined you at Baskul, and I thought they were wrong, but now I can see they weren’t——”), Line(“To Lo-Tsen?”), Line(“Yes, if you want to know.”), Line(Conway got up and held out his hand. “Good-bye, Mallinson.”), Line(“For the last time, you’re not coming?”), Line(“I can’t.”), Line(“Good-bye, then.”), Line(They shook hands, and Mallinson left.), Line(), Line(Conway sat alone in the lantern-light. It seemed to him, in a phrase engraved on memory, that all the loveliest things were transient and perishable, that the two worlds were finally beyond reconciliation, and that one of them hung, as always, by a thread. After he had pondered for some time he looked at his watch; it was ten minutes to three.)]), Chapter(_title='EPILOGUE', contents=[Line(IT WAS in Delhi that I met Rutherford again. We had been guests at a Viceregal dinner-party, but distance and ceremonial kept us apart until the turbaned flunkeys handed us our hats afterwards. “Come back to my hotel and have a drink,” he invited.), Line(“You thought it might be easier to look for the valley of Blue Moon?”), Line(“Well, it did seem as if it might be a more fixed proposition. I suppose you glanced at that manuscript of mine?”), Line(“Much more than glanced at it. I should have returned it, by the way, but you left no address.”), Line(Rutherford nodded. “I wonder what you made of it?”), Line(Rutherford flicked his cigar as if the narration had excited him quite as much as he hoped it had me. Continuing, he said: “The little fellow looked at me solemnly for a moment, and then answered in that funny clipped English that the educated Chinese have—‘Oh no, she was most old—most old of anyone I have ever seen.’”), Line(), Line(We sat for a long time in silence, and then talked again of Conway as I remembered him, boyish and gifted and full of charm, and of the War that had altered him, and of so many mysteries of time and age and of the mind, and of the little Manchu who had been ‘most old,’ and of the strange ultimate dream of Blue Moon. “Do you think he will ever find it?” I asked.), Line(WOODFORD GREEN April 1933)]), Chapter(_title='THE END', contents=[Line()]), Chapter(_title='TRANSCRIBER NOTES', contents=[Line(Misspelled words and printer errors have been corrected. Where multiple spellings occur, majority use has been employed.), Line(Punctuation has been maintained except where obvious printer errors occur.), Line([The end of _Lost Horizon_ by James Hilton])])])"
      ]
     },
     "execution_count": 14,
     "metadata": {},
     "output_type": "execute_result"
    }
   ],
   "source": [
    "a"
   ]
  },
  {
   "cell_type": "code",
   "execution_count": 6,
   "id": "e8106658-5525-4937-b5fb-056e52696aef",
   "metadata": {},
   "outputs": [
    {
     "data": {
      "text/plain": [
       "567"
      ]
     },
     "execution_count": 6,
     "metadata": {},
     "output_type": "execute_result"
    }
   ],
   "source": [
    "a.word_count"
   ]
  },
  {
   "cell_type": "code",
   "execution_count": 7,
   "id": "30d1db70-9cbf-4075-900a-93920356dd24",
   "metadata": {},
   "outputs": [],
   "source": [
    "# a.show_conets"
   ]
  },
  {
   "cell_type": "code",
   "execution_count": 8,
   "id": "1d58c9d9-b239-4627-92c6-1c425007aad7",
   "metadata": {},
   "outputs": [
    {
     "data": {
      "text/plain": [
       "Book(_title='lost horizon', contents=[Chapter(_title='PROLOGUE', contents=[Line(Cigars had burned low, and we were beginning to sample the disillusionment...)]), Chapter(_title='CHAPTER 1', contents=[Line(During that third week of May the situation in Baskul had become much worse...)]), Chapter(_title='CHAPTER 2', contents=[Line(The journey was expected to be long and perilous...), Line(gave him a most charming smile, but her eyes were all for the boy. “What life?”), Line(“The life you’re thinking of . . . dinners . . . dances . . . polo . . . all that. . . .”), Line(“But I never said anything about dances and polo! Anyhow, what’s wrong with them? D’you mean that you’re not coming with me? You’re going to stay here like the other two? Then at least you shan’t stop _me_ from clearing out of it!” Mallinson threw down his cigarette and sprang towards the door with eyes blazing. “You’re off your head!” he cried wildly. “You’re mad, Conway, that’s what’s the matter with you! I know you’re always calm, and I’m always excited, but I’m sane, at any rate, and you’re not! They warned me about it before I joined you at Baskul, and I thought they were wrong, but now I can see they weren’t——”), Line(“To Lo-Tsen?”), Line(“Yes, if you want to know.”), Line(Conway got up and held out his hand. “Good-bye, Mallinson.”), Line(“For the last time, you’re not coming?”), Line(“I can’t.”), Line(“Good-bye, then.”), Line(They shook hands, and Mallinson left.), Line(), Line(Conway sat alone in the lantern-light. It seemed to him, in a phrase engraved on memory, that all the loveliest things were transient and perishable, that the two worlds were finally beyond reconciliation, and that one of them hung, as always, by a thread. After he had pondered for some time he looked at his watch; it was ten minutes to three.)]), Chapter(_title='EPILOGUE', contents=[Line(IT WAS in Delhi that I met Rutherford again. We had been guests at a Viceregal dinner-party, but distance and ceremonial kept us apart until the turbaned flunkeys handed us our hats afterwards. “Come back to my hotel and have a drink,” he invited.), Line(“You thought it might be easier to look for the valley of Blue Moon?”), Line(“Well, it did seem as if it might be a more fixed proposition. I suppose you glanced at that manuscript of mine?”), Line(“Much more than glanced at it. I should have returned it, by the way, but you left no address.”), Line(Rutherford nodded. “I wonder what you made of it?”), Line(Rutherford flicked his cigar as if the narration had excited him quite as much as he hoped it had me. Continuing, he said: “The little fellow looked at me solemnly for a moment, and then answered in that funny clipped English that the educated Chinese have—‘Oh no, she was most old—most old of anyone I have ever seen.’”), Line(), Line(We sat for a long time in silence, and then talked again of Conway as I remembered him, boyish and gifted and full of charm, and of the War that had altered him, and of so many mysteries of time and age and of the mind, and of the little Manchu who had been ‘most old,’ and of the strange ultimate dream of Blue Moon. “Do you think he will ever find it?” I asked.), Line(WOODFORD GREEN April 1933)]), Chapter(_title='THE END', contents=[Line()]), Chapter(_title='TRANSCRIBER NOTES', contents=[Line(Misspelled words and printer errors have been corrected. Where multiple spellings occur, majority use has been employed.), Line(Punctuation has been maintained except where obvious printer errors occur.), Line([The end of _Lost Horizon_ by James Hilton])])])"
      ]
     },
     "execution_count": 8,
     "metadata": {},
     "output_type": "execute_result"
    }
   ],
   "source": [
    "a"
   ]
  },
  {
   "cell_type": "code",
   "execution_count": 9,
   "id": "2f2e524e-c25d-462d-929b-fbb80a871553",
   "metadata": {},
   "outputs": [
    {
     "name": "stdout",
     "output_type": "stream",
     "text": [
      "-----chapter : PROLOGUE-----\n",
      "\n",
      "Cigars had burned low, and we were beginning to sample the disillusionment...\n",
      "\n",
      "-----chapter : CHAPTER 1-----\n",
      "\n",
      "During that third week of May the situation in Baskul had become much worse...\n",
      "\n",
      "-----chapter : CHAPTER 2-----\n",
      "\n",
      "The journey was expected to be long and perilous...\n",
      "gave him a most charming smile, but her eyes were all for the boy. “What life?”\n",
      "“The life you’re thinking of . . . dinners . . . dances . . . polo . . . all that. . . .”\n",
      "“But I never said anything about dances and polo! Anyhow, what’s wrong with them? D’you mean that you’re not coming with me? You’re going to stay here like the other two? Then at least you shan’t stop _me_ from clearing out of it!” Mallinson threw down his cigarette and sprang towards the door with eyes blazing. “You’re off your head!” he cried wildly. “You’re mad, Conway, that’s what’s the matter with you! I know you’re always calm, and I’m always excited, but I’m sane, at any rate, and you’re not! They warned me about it before I joined you at Baskul, and I thought they were wrong, but now I can see they weren’t——”\n",
      "“To Lo-Tsen?”\n",
      "“Yes, if you want to know.”\n",
      "Conway got up and held out his hand. “Good-bye, Mallinson.”\n",
      "“For the last time, you’re not coming?”\n",
      "“I can’t.”\n",
      "“Good-bye, then.”\n",
      "They shook hands, and Mallinson left.\n",
      "\n",
      "Conway sat alone in the lantern-light. It seemed to him, in a phrase engraved on memory, that all the loveliest things were transient and perishable, that the two worlds were finally beyond reconciliation, and that one of them hung, as always, by a thread. After he had pondered for some time he looked at his watch; it was ten minutes to three.\n",
      "\n",
      "-----chapter : EPILOGUE-----\n",
      "\n",
      "IT WAS in Delhi that I met Rutherford again. We had been guests at a Viceregal dinner-party, but distance and ceremonial kept us apart until the turbaned flunkeys handed us our hats afterwards. “Come back to my hotel and have a drink,” he invited.\n",
      "“You thought it might be easier to look for the valley of Blue Moon?”\n",
      "“Well, it did seem as if it might be a more fixed proposition. I suppose you glanced at that manuscript of mine?”\n",
      "“Much more than glanced at it. I should have returned it, by the way, but you left no address.”\n",
      "Rutherford nodded. “I wonder what you made of it?”\n",
      "Rutherford flicked his cigar as if the narration had excited him quite as much as he hoped it had me. Continuing, he said: “The little fellow looked at me solemnly for a moment, and then answered in that funny clipped English that the educated Chinese have—‘Oh no, she was most old—most old of anyone I have ever seen.’”\n",
      "\n",
      "We sat for a long time in silence, and then talked again of Conway as I remembered him, boyish and gifted and full of charm, and of the War that had altered him, and of so many mysteries of time and age and of the mind, and of the little Manchu who had been ‘most old,’ and of the strange ultimate dream of Blue Moon. “Do you think he will ever find it?” I asked.\n",
      "WOODFORD GREEN April 1933\n",
      "\n",
      "-----chapter : THE END-----\n",
      "\n",
      "\n",
      "\n",
      "-----chapter : TRANSCRIBER NOTES-----\n",
      "\n",
      "Misspelled words and printer errors have been corrected. Where multiple spellings occur, majority use has been employed.\n",
      "Punctuation has been maintained except where obvious printer errors occur.\n",
      "[The end of _Lost Horizon_ by James Hilton]\n",
      "\n",
      "\n"
     ]
    }
   ],
   "source": [
    "print(a)"
   ]
  },
  {
   "cell_type": "code",
   "execution_count": null,
   "id": "4e9f4fec-7bea-431e-9e0f-93cee6349bfb",
   "metadata": {},
   "outputs": [],
   "source": [
    "a."
   ]
  },
  {
   "cell_type": "code",
   "execution_count": 10,
   "id": "b6efd105-6293-4f32-a153-8d206d717a3f",
   "metadata": {},
   "outputs": [
    {
     "data": {
      "text/plain": [
       "[Line(Cigars had burned low, and we were beginning to sample the disillusionment...)]"
      ]
     },
     "execution_count": 10,
     "metadata": {},
     "output_type": "execute_result"
    }
   ],
   "source": [
    "a.contents[0].contents"
   ]
  },
  {
   "cell_type": "code",
   "execution_count": 11,
   "id": "99fdc065-4642-48b2-ac37-9b41acf8305f",
   "metadata": {},
   "outputs": [],
   "source": [
    "response = model.generate_content(\"What is the meaning of life?\", stream=True)"
   ]
  },
  {
   "cell_type": "code",
   "execution_count": 12,
   "id": "53879595-4f24-49c9-b33b-92b275908393",
   "metadata": {},
   "outputs": [
    {
     "ename": "TypeError",
     "evalue": "GenerateContentResponse.from_response() missing 1 required positional argument: 'response'",
     "output_type": "error",
     "traceback": [
      "\u001b[0;31m---------------------------------------------------------------------------\u001b[0m",
      "\u001b[0;31mTypeError\u001b[0m                                 Traceback (most recent call last)",
      "Cell \u001b[0;32mIn[12], line 1\u001b[0m\n\u001b[0;32m----> 1\u001b[0m \u001b[43mresponse\u001b[49m\u001b[38;5;241;43m.\u001b[39;49m\u001b[43mfrom_response\u001b[49m\u001b[43m(\u001b[49m\u001b[43m)\u001b[49m\n",
      "\u001b[0;31mTypeError\u001b[0m: GenerateContentResponse.from_response() missing 1 required positional argument: 'response'"
     ]
    }
   ],
   "source": [
    "response.from_response()"
   ]
  },
  {
   "cell_type": "code",
   "execution_count": null,
   "id": "3971c1e2-db9f-47b9-a89d-b33f807ce652",
   "metadata": {},
   "outputs": [],
   "source": [
    "response = model.generate_content(\"Translate in Japanese of this novel sentence. ==cigars had burned low, and we were beginning to sample the disillusionment\", stream=False)\n",
    "\n",
    "\n",
    "for chunk in response:\n",
    "  print(chunk.text)\n",
    "  print(\"_\"*80)"
   ]
  },
  {
   "cell_type": "code",
   "execution_count": null,
   "id": "eebcb264-f0c2-47ff-9325-9e09e0a00850",
   "metadata": {},
   "outputs": [],
   "source": []
  }
 ],
 "metadata": {
  "kernelspec": {
   "display_name": "Python 3 (ipykernel)",
   "language": "python",
   "name": "python3"
  },
  "language_info": {
   "codemirror_mode": {
    "name": "ipython",
    "version": 3
   },
   "file_extension": ".py",
   "mimetype": "text/x-python",
   "name": "python",
   "nbconvert_exporter": "python",
   "pygments_lexer": "ipython3",
   "version": "3.12.2"
  }
 },
 "nbformat": 4,
 "nbformat_minor": 5
}
