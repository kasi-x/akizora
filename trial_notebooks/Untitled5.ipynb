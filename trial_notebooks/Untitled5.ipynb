{
 "cells": [
  {
   "cell_type": "code",
   "execution_count": 3,
   "id": "7a0bb537-c018-4cb1-9988-d06c9e393d12",
   "metadata": {},
   "outputs": [
    {
     "name": "stdout",
     "output_type": "stream",
     "text": [
      "はい。\n",
      "このようにpythonライブラリとしても使えます！\n"
     ]
    }
   ],
   "source": [
    "from bunkai import Bunkai\n",
    "bunkai = Bunkai()\n",
    "for sentence in bunkai(\"はい。このようにpythonライブラリとしても使えます！\"):\n",
    "    print(sentence)"
   ]
  },
  {
   "cell_type": "code",
   "execution_count": 5,
   "id": "9810e561-d75c-4bc0-9012-4b334448e389",
   "metadata": {},
   "outputs": [
    {
     "data": {
      "text/plain": [
       "['はい。', 'このようにpythonライブラリとしても使えます！']"
      ]
     },
     "execution_count": 5,
     "metadata": {},
     "output_type": "execute_result"
    }
   ],
   "source": [
    "list(bunkai(\"はい。このようにpythonライブラリとしても使えます！\"))"
   ]
  },
  {
   "cell_type": "code",
   "execution_count": null,
   "id": "5df75904-1e73-4aa7-98be-381718f32569",
   "metadata": {},
   "outputs": [],
   "source": []
  },
  {
   "cell_type": "code",
   "execution_count": null,
   "id": "d0fb06b4-621b-4859-9dfb-8e11191223bc",
   "metadata": {},
   "outputs": [],
   "source": []
  }
 ],
 "metadata": {
  "kernelspec": {
   "display_name": "Python 3 (ipykernel)",
   "language": "python",
   "name": "python3"
  },
  "language_info": {
   "codemirror_mode": {
    "name": "ipython",
    "version": 3
   },
   "file_extension": ".py",
   "mimetype": "text/x-python",
   "name": "python",
   "nbconvert_exporter": "python",
   "pygments_lexer": "ipython3",
   "version": "3.12.2"
  }
 },
 "nbformat": 4,
 "nbformat_minor": 5
}
