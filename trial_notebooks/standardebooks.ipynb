{
 "cells": [
  {
   "cell_type": "code",
   "execution_count": 11,
   "id": "5f2575f6-0143-473c-909d-22040a46a080",
   "metadata": {},
   "outputs": [],
   "source": [
    "import requests\n",
    "import lxml.html"
   ]
  },
  {
   "cell_type": "code",
   "execution_count": 14,
   "id": "db361ff7-936e-4048-b1eb-52a94311192e",
   "metadata": {},
   "outputs": [],
   "source": [
    "response = requests.get(\"https://standardebooks.org/ebooks/john-maynard-keynes/the-economic-consequences-of-the-peace\")\n",
    "tree = lxml.html.fromstring(response.text.encode('utf-8'))"
   ]
  },
  {
   "cell_type": "code",
   "execution_count": 36,
   "id": "65ba70f8-5ada-4f4c-90ed-01245859811f",
   "metadata": {},
   "outputs": [],
   "source": [
    "#response.text"
   ]
  },
  {
   "cell_type": "code",
   "execution_count": 77,
   "id": "831b0167-0c5a-46a4-bcb9-0c3a7f9018ab",
   "metadata": {},
   "outputs": [],
   "source": [
    "def get_text_from_xpath(xpath:str):\n",
    "    element = tree.xpath(xpath)\n",
    "    return \" \".join([a_element.text_content()for a_element in element])"
   ]
  },
  {
   "cell_type": "code",
   "execution_count": null,
   "id": "6d2ae44e-4d2f-4b72-a634-e5bfe07bc29d",
   "metadata": {},
   "outputs": [],
   "source": []
  },
  {
   "cell_type": "code",
   "execution_count": 134,
   "id": "f0c7fd3b-04e1-42e9-8dfb-46072ddeceb5",
   "metadata": {},
   "outputs": [],
   "source": [
    "def get_url_from_xpath(xpath:str):\n",
    "    element = tree.xpath(xpath)[0]\n",
    "    return element"
   ]
  },
  {
   "cell_type": "code",
   "execution_count": 78,
   "id": "90127ddc-4b57-460d-a013-80c92df0b65a",
   "metadata": {},
   "outputs": [
    {
     "data": {
      "text/plain": [
       "'The Economic Consequences of the Peace'"
      ]
     },
     "execution_count": 78,
     "metadata": {},
     "output_type": "execute_result"
    }
   ],
   "source": [
    "get_text_from_xpath('//h1[@property=\"schema:name\"]')"
   ]
  },
  {
   "cell_type": "code",
   "execution_count": 92,
   "id": "cbbd25df-84aa-4c4b-9f9e-911eee62a6d0",
   "metadata": {},
   "outputs": [
    {
     "data": {
      "text/plain": [
       "'Before becoming one of the twentieth century’s most celebrated economists, John Maynard Keynes served as a financial representative for the British Treasury at the 1919 Paris Peace Conference to negotiate the Versailles treaty which would officially end World War I. Keynes resigned from the treasury in protest about a month before the final treaty was signed, and The Economic Consequences of the Peace describes his reasons for doing so. Keynes contends that domestic political considerations and a desire for revenge led to an unreasonably high burden being placed on the defeated Germany. In making the argument he paints unflattering portraits of the then French President Georges Clemenceau, the British Prime Minister David Lloyd George, and the American President Woodrow Wilson. According to Keynes, the effect of a negotiated treaty on the population of an already impoverished enemy was considered a far lower priority than disputes involving borders. Meanwhile, the exceptionally high cost of reparations placed on an economically-spent Germany could never be repaid, and was mainly an act of political grandstanding. Keynes predicted widespread suffering in the defeated powers, resulting in a turn towards political extremism. Unfortunately, subsequent events would prove his predictions right. The Economic Consequences of the Peace was an immediate bestseller in both the U.S. and the U.K. and has never been out of print. Though today some economists contend that Keynes may have been overly pessimistic about Germany’s ability to pay and the leniency of the Allies, many of the recommendations presented in the book were adopted as part of the Marshall Plan after the conclusion of World War II.'"
      ]
     },
     "execution_count": 92,
     "metadata": {},
     "output_type": "execute_result"
    }
   ],
   "source": [
    "# discription\n",
    "get_text_from_xpath('//*[@id=\"description\"]/p')"
   ]
  },
  {
   "cell_type": "code",
   "execution_count": 111,
   "id": "4298bf49-1eb6-4fa9-9fc8-016721b038da",
   "metadata": {},
   "outputs": [
    {
     "data": {
      "text/plain": [
       "[]"
      ]
     },
     "execution_count": 111,
     "metadata": {},
     "output_type": "execute_result"
    }
   ],
   "source": [
    "tree.xpath(\n",
    "    '//div[@class=\"downloads-container\"]/ul/li[2]/p/a')"
   ]
  },
  {
   "cell_type": "code",
   "execution_count": null,
   "id": "99aaec5a-a9c6-4f3e-b16c-3348ce4f1067",
   "metadata": {},
   "outputs": [],
   "source": [
    "/html/body/main/article/section[2]/div[3]/div/section[2]/ul/li[2]/p/a"
   ]
  },
  {
   "cell_type": "code",
   "execution_count": 124,
   "id": "c5da3984-bba4-4f00-a97a-4685f8be9bbd",
   "metadata": {},
   "outputs": [
    {
     "name": "stdout",
     "output_type": "stream",
     "text": [
      "\n",
      "\u001b[31;1mCould not find a matching version of package urlparse\u001b[39;22m\n"
     ]
    }
   ],
   "source": [
    "rllib.parse.urljoin(base, url, allow_fragments=True)"
   ]
  },
  {
   "cell_type": "code",
   "execution_count": 129,
   "id": "6a6ce741-65b1-4194-8d11-8bb3c1f82953",
   "metadata": {},
   "outputs": [
    {
     "data": {
      "text/plain": [
       "'/ebooks/john-maynard-keynes/the-economic-consequences-of-the-peace/text/single-page'"
      ]
     },
     "execution_count": 129,
     "metadata": {},
     "output_type": "execute_result"
    }
   ],
   "source": [
    "link_url"
   ]
  },
  {
   "cell_type": "code",
   "execution_count": 136,
   "id": "f89f08dc-2acf-4bb0-829e-c3ccae0aa2dd",
   "metadata": {},
   "outputs": [],
   "source": [
    "# URLの完全化\n",
    "from urllib.parse import urljoin\n",
    "base_url = \"https://standardebooks.org\"\n",
    "page_url = urljoin(base_url, link_url)"
   ]
  },
  {
   "cell_type": "code",
   "execution_count": 135,
   "id": "b7829acf-2596-455d-be6b-96c1c30e17bb",
   "metadata": {},
   "outputs": [
    {
     "data": {
      "text/plain": [
       "'/ebooks/john-maynard-keynes/the-economic-consequences-of-the-peace/text/single-page'"
      ]
     },
     "execution_count": 135,
     "metadata": {},
     "output_type": "execute_result"
    }
   ],
   "source": [
    "# discription\n",
    "get_url_from_xpath(\"//div[@class='downloads-container']//a[@property='schema:contentUrl' and contains(@class, 'page')]/@href\")"
   ]
  },
  {
   "cell_type": "code",
   "execution_count": 137,
   "id": "7ce55af8-1078-480a-9b50-bd656f8a86fd",
   "metadata": {},
   "outputs": [
    {
     "data": {
      "text/plain": [
       "'https://standardebooks.org/ebooks/john-maynard-keynes/the-economic-consequences-of-the-peace/text/single-page'"
      ]
     },
     "execution_count": 137,
     "metadata": {},
     "output_type": "execute_result"
    }
   ],
   "source": [
    "page_url"
   ]
  },
  {
   "cell_type": "code",
   "execution_count": 144,
   "id": "141ae869-4b5f-4829-a3f5-c0f9808f5cee",
   "metadata": {},
   "outputs": [
    {
     "data": {
      "text/plain": [
       "'https://github.com/standardebooks/john-maynard-keynes_the-economic-consequences-of-the-peace'"
      ]
     },
     "execution_count": 144,
     "metadata": {},
     "output_type": "execute_result"
    }
   ],
   "source": [
    "git_url"
   ]
  },
  {
   "cell_type": "code",
   "execution_count": 142,
   "id": "d7f6a986-75df-486d-9881-48c4af3a8cad",
   "metadata": {},
   "outputs": [],
   "source": [
    "# discription\n",
    "git_url = get_url_from_xpath('//*[@id=\"details\"]/ul/li[1]/p/a/@href')"
   ]
  },
  {
   "cell_type": "code",
   "execution_count": 146,
   "id": "9652d089-c970-465d-9f0e-546042c51681",
   "metadata": {},
   "outputs": [
    {
     "data": {
      "text/plain": [
       "'https://github.com/standardebooks/john-maynard-keynes_the-economic-consequences-of-the-peace/tree/master/src/epub/text'"
      ]
     },
     "execution_count": 146,
     "metadata": {},
     "output_type": "execute_result"
    }
   ],
   "source": [
    "git_url + \"/tree/master/src/epub/text\""
   ]
  },
  {
   "cell_type": "code",
   "execution_count": null,
   "id": "30e48da9-b8ff-4b98-9be3-15a3d71deb64",
   "metadata": {},
   "outputs": [],
   "source": [
    "https://github.com/standardebooks/john-maynard-keynes_the-economic-consequences-of-the-peace/tree/master/src/epub/text"
   ]
  },
  {
   "cell_type": "code",
   "execution_count": null,
   "id": "753c67af-2ff6-4dd0-ad15-e09922e5f650",
   "metadata": {},
   "outputs": [],
   "source": [
    "<?xml version=\"1.0\" encoding=\"utf-8\"?>\n",
    "<html xmlns=\"http://www.w3.org/1999/xhtml\" xmlns:epub=\"http://www.idpf.org/2007/ops\" epub:prefix=\"z3998: http://www.daisy.org/z3998/2012/vocab/structure/, se: https://standardebooks.org/vocab/1.0\" xml:lang=\"en-GB\">\n",
    "\t<head>\n",
    "\t\t<title>I: Introductory</title>\n",
    "\t\t<link href=\"../css/core.css\" rel=\"stylesheet\" type=\"text/css\"/>\n",
    "\t\t<link href=\"../css/local.css\" rel=\"stylesheet\" type=\"text/css\"/>\n",
    "\t</head>\n",
    "\t<body epub:type=\"bodymatter z3998:fiction\">\n",
    "\t\t<section id=\"chapter-1\" epub:type=\"chapter\">\n",
    "\t\t\t<hgroup>\n",
    "\t\t\t\t<h2 epub:type=\"ordinal z3998:roman\">I</h2>\n",
    "\t\t\t\t<p epub:type=\"title\">Introductory</p>\n",
    "\t\t\t</hgroup>\n",
    "\t\t\t<p>The power.</p>\n",
    "\t\t\t<p>In England.</p>\n",
    "\t\t\t<p>But perhaps.</p>\n",
    "\t\t\t<hr/>\n",
    "\t\t\t<p>For only hs a member of the Supreme Economic Council of the Allied Powers, was bound to become, for him a new experience, a European in his cares.</p>\n",
    "\t\t\t<p>of no effect, dissociated from events; and one felt most strongly the impression, described by Tolstoy in <i epub:type=\"se:name.publication.book\">War and Peace</i> or by Hardy in <i epub:type=\"se:name.publication.play\">The Dynasts</i>, of events marching on to their fated conclusion uninfluenced and unaffected by the cerebrations of Statesmen in Council:</p>\n",
    "\t\t\t<blockquote epub:type=\"z3998:verse\">\n",
    "\t\t\t\t<div>\n",
    "\t\t\t\t\t<header>\n",
    "\t\t\t\t\t\t<p>Spirit of the Years</p>\n",
    "\t\t\t\t\t</header>\n",
    "\t\t\t\t\t<p>\n",
    "\t\t\t\t\t\t<span>Observe that all wide sight and self-command</span>\n",
    "\t\t\t\t\t\t<br/>\n",
    "\t\t\t\t\t\t<span>Deserts these throngs now driven to demonry</span>\n",
    "\t\t\t\t\t\t<br/>\n",
    "\t\t\t\t\t\t<span>By the Immanent Unrecking. Nought remains</span>\n",
    "\t\t\t\t\t\t<br/>\n",
    "\t\t\t\t\t\t<span>But vindictiveness here amid the strong,</span>\n",
    "\t\t\t\t\t\t<br/>\n",
    "\t\t\t\t\t\t<span>And there amid the weak an impotent rage.</span>\n",
    "\t\t\t\t\t</p>\n",
    "\t\t\t\t</div>\n",
    "\t\t\t\t<div>\n",
    "\t\t\t\t\t<header>\n",
    "\t\t\t\t\t\t<p>Spirit of the Pities</p>\n",
    "\t\t\t\t\t</header>\n",
    "\t\t\t\t\t<p>\n",
    "\t\t\t\t\t\t<span>Why prompts the Will so senseless-shaped a doing?</span>\n",
    "\t\t\t\t\t</p>\n",
    "\t\t\t\t</div>\n",
    "\t\t\t\t<div>\n",
    "\t\t\t\t\t<header>\n",
    "\t\t\t\t\t\t<p>Spirit of the Years</p>\n",
    "\t\t\t\t\t</header>\n",
    "\t\t\t\t\t<p>\n",
    "\t\t\t\t\t\t<span>I have told thee that It works unwittingly,</span>\n",
    "\t\t\t\t\t\t<br/>\n",
    "\t\t\t\t\t\t<span>As one possessed not judging.</span>\n",
    "\t\t\t\t\t</p>\n",
    "\t\t\t\t</div>\n",
    "\t\t\t</blockquote>\n",
    "\t\t\t<p>In Paris, where those connected with the Supreme Economic Council, received almost hourly the reports of the misery, disorder, and decaying organization of all Central and Eastern Europe, allied and enemy alike, and learnt from the lips of the financial representatives of Germany and Austria unanswerable evidence, of the terrible exhaustion of their countries, an occasional visit to the hot, dry room in the President’s house, where the Four fulfilled their destinies in empty and arid intrigue, only added to the sense of nightmare. Yet there in Paris the problems of Europe were terrible and clamant, and an occasional return to the vast unconcern of London a little disconcerting. For in London these questions were very far away, and our own lesser problems alone troubling. London believed that Paris was making a great confusion of its business, but remained uninterested. In this spirit the British people received the Treaty without reading it. But it is under the influence of Paris, not London, that this book has been written by one who, though an Englishman, feels himself a European also, and, because of too vivid recent experience, cannot disinterest himself from the further unfolding of the great historic drama of these days which will destroy great institutions, but may also create a new world.</p>\n",
    "\t\t</section>\n",
    "\t</body>\n",
    "</html>"
   ]
  }
 ],
 "metadata": {
  "kernelspec": {
   "display_name": "Python 3 (ipykernel)",
   "language": "python",
   "name": "python3"
  },
  "language_info": {
   "codemirror_mode": {
    "name": "ipython",
    "version": 3
   },
   "file_extension": ".py",
   "mimetype": "text/x-python",
   "name": "python",
   "nbconvert_exporter": "python",
   "pygments_lexer": "ipython3",
   "version": "3.12.2"
  }
 },
 "nbformat": 4,
 "nbformat_minor": 5
}
