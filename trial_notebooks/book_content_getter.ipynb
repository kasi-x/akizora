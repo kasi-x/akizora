{
 "cells": [
  {
   "cell_type": "code",
   "execution_count": 62,
   "id": "140b5391-c2c1-4ab6-8882-372f98dfb38f",
   "metadata": {},
   "outputs": [
    {
     "name": "stdout",
     "output_type": "stream",
     "text": [
      "/home/user/dev/kasi-x/akizora/trial_notebooks\n"
     ]
    }
   ],
   "source": [
    "!pwd"
   ]
  },
  {
   "cell_type": "code",
   "execution_count": 53,
   "id": "af58f17a-aff1-4ab9-a9c9-a004342932d3",
   "metadata": {},
   "outputs": [],
   "source": [
    "import json\n",
    "import os\n",
    "from collections import Counter\n",
    "from dataclasses import asdict\n",
    "from dataclasses import dataclass\n",
    "from dataclasses import field\n",
    "from pathlib import Path\n",
    "from pprint import pprint\n",
    "from typing import Self\n",
    "\n",
    "import structlog\n",
    "from lxml import etree\n",
    "from lxml.etree import HTMLParser\n",
    "from lxml.etree import _Element as Element\n",
    "from structlog.stdlib import BoundLogger\n",
    "\n",
    "# from data_adapter.standard_ebook_toc import Chapter\n",
    "from utils.data_io import read_dict\n",
    "from utils.data_io import read_xhtml\n",
    "from utils.data_io import save_chunk\n",
    "from utils.data_io import save_xhtml\n",
    "from utils.logger_config import configure_logger\n",
    "\n",
    "BOOK_DIR = Path(os.environ.get(\"BOOK_DIR\", \"/books\"))\n",
    "file_name_counter = Counter()\n",
    "\n",
    "\n",
    "def grep_chapter_books():\n",
    "    good_repos = []\n",
    "    for repo_dir in list(BOOK_DIR.glob(\"*\")):\n",
    "        if repo_dir.is_dir():\n",
    "            for file_path in repo_dir.glob(\"*\"):\n",
    "                if file_path.is_file() and file_path.name.startswith(\"chapter-1\"):\n",
    "                    good_repos.append(repo_dir)\n",
    "                    break\n",
    "    return good_repos\n",
    "\n",
    "\n",
    "def get_max_nest_level(chapters):\n",
    "    max_result = 0\n",
    "    for chapter in chapters:\n",
    "        if sub_chapters := chapter.get(\"subchapters\"):\n",
    "            max_result = max(get_max_nest_level(sub_chapters), max_result)\n",
    "        else:\n",
    "            max_result = max(chapter[\"nest_level\"], max_result)\n",
    "    return max_result\n",
    "\n",
    "\n",
    "def grep_shallow_nested_books(repos: list[Path]):\n",
    "    results = []\n",
    "    for repo_dir in repos:\n",
    "        chapters = read_dict(repo_dir / \"toc.json\")\n",
    "        print(f\"f{repo_dir} has {len(chapters)} chapters.\")\n",
    "        if not chapters:\n",
    "            continue\n",
    "        nest_level = get_max_nest_level(chapters)\n",
    "        if 1 <= nest_level < 2:\n",
    "            print(f\"{repo_dir} append: {nest_level}\")\n",
    "            results.append(repo_dir)\n",
    "        else:\n",
    "            print(f\"{repo_dir} has deep nest level: {nest_level}\")\n",
    "    return results\n",
    "\n",
    "\n",
    "@dataclass\n",
    "class Chapter:\n",
    "    title: str\n",
    "    number: str\n",
    "    name: str\n",
    "    href: str\n",
    "    nest_level: int\n",
    "    query: str\n",
    "    url: str\n",
    "    subchapters: list[Self]\n",
    "\n",
    "\n",
    "def from_dict(chapter_data: dict) -> Chapter:\n",
    "    \"\"\"辞書データから `Chapter` オブジェクトを生成します。.\n",
    "\n",
    "    Args:\n",
    "        chapter_data (dict): 辞書データ\n",
    "\n",
    "    Returns:\n",
    "        Chapter: `Chapter` オブジェクト\n",
    "    \"\"\"\n",
    "    subchapters = []\n",
    "    if \"subchapters\" in chapter_data:\n",
    "        for subchapter_data in chapter_data[\"subchapters\"]:\n",
    "            subchapters.append(from_dict(subchapter_data))\n",
    "\n",
    "    return Chapter(\n",
    "        title=chapter_data[\"title\"],\n",
    "        number=chapter_data[\"number\"],\n",
    "        name=chapter_data[\"name\"],\n",
    "        href=chapter_data[\"href\"],\n",
    "        nest_level=chapter_data[\"nest_level\"],\n",
    "        query=chapter_data[\"query\"],\n",
    "        url=chapter_data[\"url\"],\n",
    "        subchapters=subchapters,\n",
    "    )\n",
    "\n",
    "\n",
    "def load_chapters_from_json(json_path: str) -> list[Chapter]:\n",
    "    \"\"\"保存された JSON ファイルから `Chapter` オブジェクトのリストを読み込みます。.\n",
    "\n",
    "    Args:\n",
    "        json_path (str): JSON ファイルのパス\n",
    "\n",
    "    Returns:\n",
    "        List[Chapter]: `Chapter` オブジェクトのリスト\n",
    "    \"\"\"\n",
    "    with open(json_path) as fp:\n",
    "        data = json.load(fp)\n",
    "\n",
    "    chapters = []\n",
    "    for chapter_data in data:\n",
    "        chapters.append(from_dict(chapter_data))\n",
    "\n",
    "    return chapters\n",
    "\n",
    "\n",
    "# def get_content_from_xhtml(xhtml: str) -> str:\n",
    "#     parser = HTMLParser()\n",
    "#     tree: Element = etree.fromstring(xhtml, parser)\n",
    "#     content = tree.xpath(\"//body\")[3]\n",
    "#     return etree.tostring(content, pretty_print=True).decode(\"utf-8\")\n",
    "\n",
    "\n",
    "def show(element: Element | list[Element]) -> None:\n",
    "    # This is for debugging.\n",
    "    if len(element) == 0:\n",
    "        print(\"No elements are found.\")\n",
    "    if isinstance(element, list):\n",
    "        print(f\"{len(element)} elements are found.\")\n",
    "        print(\"{:=^30}\".format(\" Show Data \"))\n",
    "        for _i, e in enumerate(element, 1):\n",
    "            print(f\"{_i:=^30}\")\n",
    "            show(e)\n",
    "    if isinstance(element, Element):\n",
    "        print(etree.tostring(element, pretty_print=True, encoding=str))\n",
    "    else:\n",
    "        print(\"No elements are found.\")"
   ]
  },
  {
   "cell_type": "code",
   "execution_count": 58,
   "id": "04122559-a835-4010-a4c0-6550f358ab7e",
   "metadata": {},
   "outputs": [],
   "source": [
    "def main():\n",
    "    configure_logger()\n",
    "    logger = structlog.get_logger(__name__)\n",
    "    book_paths = read_dict(BOOK_DIR / \"easy_readable_books.json\", logger)\n",
    "    target_book = book_paths[0]\n",
    "    toc: list[Chapter] = load_chapters_from_json(target_book + \"/toc.json\")\n",
    "\n",
    "    print(target_book)\n",
    "    target_files = []\n",
    "    for file in toc:\n",
    "        match file.title:\n",
    "            case \"Titlepage\":\n",
    "                pass\n",
    "            case \"Imprint\":\n",
    "                pass\n",
    "            case \"Colophon\":\n",
    "                pass\n",
    "            case \"Uncopyright\":\n",
    "                pass\n",
    "            case \"halftitlepage\":\n",
    "                pass\n",
    "            case _:\n",
    "                target_files.append(file)\n",
    "                # target_file_and_id[target_book + \"/\" + file.href.split(\"text/\")[-1]] = (\n",
    "                # file.href.split(\"text/\")[-1].split(\"#\")[-1].split(\".xhtml\")[0]\n",
    "                # )\n",
    "                # pprint(file)\n",
    "                pprint(file.title)\n",
    "\n",
    "                # read_xhtml(target_book + \"/\" + file.href.split(\"text/\")[-1], logger))\n",
    "    result_dict = {}\n",
    "    for target_file in target_files:\n",
    "        id = target_file.href.split(\"text/\")[-1].split(\"#\")[-1].split(\".xhtml\")[0]\n",
    "        # print(\"=\" * 40)\n",
    "        # print(id)\n",
    "\n",
    "        parser = HTMLParser()\n",
    "        file_path = target_book + \"/\" + target_file.href.split(\"text/\")[-1]\n",
    "        xhtml = read_xhtml(file_path).encode(\"utf-8\")\n",
    "        tree = etree.fromstring(xhtml, parser)\n",
    "        show(tree)\n",
    "        # show(tree.xpath(\"//body\")[0])\n",
    "        etree.tostring(tree, pretty_print=True).decode(\"utf-8\")\n",
    "\n",
    "        # print(tree.xpath(f\"//section[@id={id}\"))\n",
    "        print(\"=\" * 40)\n",
    "        # print(tree.xpath(f\"//body/section[@id={id}]\"))\n",
    "\n",
    "        show(tree.xpath(f\"//section[@id='{id}']/p\"))\n",
    "        for element in tree.xpath(f\"//section[@id='{id}']/p\"):\n",
    "            for text in element.itertext():\n",
    "                print(text.strip())\n",
    "        print(\"+\" * 40)\n",
    "        result = []\n",
    "        for element in tree.xpath(f\"//section[@id='{id}']/p\"):\n",
    "            for text in element.itertext():\n",
    "                text = text.strip()\n",
    "                if len(text) == 0:\n",
    "                    result.append(\"\\n\")\n",
    "                else:\n",
    "                    result.append(text)\n",
    "        print(\" \".join(result))\n",
    "        result_dict[target_file.title] = \" \".join(result)\n",
    "    return result_dict\n",
    "\n"
   ]
  },
  {
   "cell_type": "code",
   "execution_count": 59,
   "id": "345b8e30-ad3d-4a13-933f-970d54ac6b68",
   "metadata": {},
   "outputs": [
    {
     "name": "stdout",
     "output_type": "stream",
     "text": [
      "\u001b[2m2024-04-19 06:43.19\u001b[0m [\u001b[32m\u001b[1minfo     \u001b[0m] \u001b[1mReading data.                 \u001b[0m [\u001b[0m\u001b[1m\u001b[34m__main__\u001b[0m]\u001b[0m \u001b[36mpath\u001b[0m=\u001b[35mPosixPath('/home/user/dev/kasi-x/akizora/books/easy_readable_books.json')\u001b[0m\n",
      "\u001b[2m2024-04-19 06:43.19\u001b[0m [\u001b[32m\u001b[1minfo     \u001b[0m] \u001b[1mReading data.                 \u001b[0m [\u001b[0m\u001b[1m\u001b[34m__main__\u001b[0m]\u001b[0m \u001b[36mpath\u001b[0m=\u001b[35mPosixPath('/home/user/dev/kasi-x/akizora/books/easy_readable_books.json')\u001b[0m\n",
      "\u001b[2m2024-04-19 06:43.19\u001b[0m [\u001b[32m\u001b[1minfo     \u001b[0m] \u001b[1mReading data.                 \u001b[0m [\u001b[0m\u001b[1m\u001b[34m__main__\u001b[0m]\u001b[0m \u001b[36mpath\u001b[0m=\u001b[35mPosixPath('/home/user/dev/kasi-x/akizora/books/easy_readable_books.json')\u001b[0m\n",
      "\u001b[2m2024-04-19 06:43.19\u001b[0m [\u001b[32m\u001b[1minfo     \u001b[0m] \u001b[1mReading data.                 \u001b[0m [\u001b[0m\u001b[1m\u001b[34m__main__\u001b[0m]\u001b[0m \u001b[36mpath\u001b[0m=\u001b[35mPosixPath('/home/user/dev/kasi-x/akizora/books/easy_readable_books.json')\u001b[0m\n",
      "\u001b[2m2024-04-19 06:43.19\u001b[0m [\u001b[32m\u001b[1minfo     \u001b[0m] \u001b[1mReading data.                 \u001b[0m [\u001b[0m\u001b[1m\u001b[34m__main__\u001b[0m]\u001b[0m \u001b[36mpath\u001b[0m=\u001b[35mPosixPath('/home/user/dev/kasi-x/akizora/books/easy_readable_books.json')\u001b[0m\n",
      "\u001b[2m2024-04-19 06:43.19\u001b[0m [\u001b[32m\u001b[1minfo     \u001b[0m] \u001b[1mReading data.                 \u001b[0m [\u001b[0m\u001b[1m\u001b[34m__main__\u001b[0m]\u001b[0m \u001b[36mpath\u001b[0m=\u001b[35mPosixPath('/home/user/dev/kasi-x/akizora/books/easy_readable_books.json')\u001b[0m\n",
      "\u001b[2m2024-04-19 06:43.19\u001b[0m [\u001b[32m\u001b[1minfo     \u001b[0m] \u001b[1mReading data.                 \u001b[0m [\u001b[0m\u001b[1m\u001b[34m__main__\u001b[0m]\u001b[0m \u001b[36mpath\u001b[0m=\u001b[35mPosixPath('/home/user/dev/kasi-x/akizora/books/easy_readable_books.json')\u001b[0m\n",
      "\u001b[2m2024-04-19 06:43.19\u001b[0m [\u001b[32m\u001b[1minfo     \u001b[0m] \u001b[1mReading data.                 \u001b[0m [\u001b[0m\u001b[1m\u001b[34m__main__\u001b[0m]\u001b[0m \u001b[36mpath\u001b[0m=\u001b[35mPosixPath('/home/user/dev/kasi-x/akizora/books/easy_readable_books.json')\u001b[0m\n",
      "\u001b[2m2024-04-19 06:43.19\u001b[0m [\u001b[32m\u001b[1minfo     \u001b[0m] \u001b[1mReading data.                 \u001b[0m [\u001b[0m\u001b[1m\u001b[34m__main__\u001b[0m]\u001b[0m \u001b[36mpath\u001b[0m=\u001b[35mPosixPath('/home/user/dev/kasi-x/akizora/books/easy_readable_books.json')\u001b[0m\n",
      "\u001b[2m2024-04-19 06:43.19\u001b[0m [\u001b[32m\u001b[1minfo     \u001b[0m] \u001b[1mReading data.                 \u001b[0m [\u001b[0m\u001b[1m\u001b[34m__main__\u001b[0m]\u001b[0m \u001b[36mpath\u001b[0m=\u001b[35mPosixPath('/home/user/dev/kasi-x/akizora/books/easy_readable_books.json')\u001b[0m\n",
      "\u001b[2m2024-04-19 06:43.19\u001b[0m [\u001b[32m\u001b[1minfo     \u001b[0m] \u001b[1mReading data.                 \u001b[0m [\u001b[0m\u001b[1m\u001b[34m__main__\u001b[0m]\u001b[0m \u001b[36mpath\u001b[0m=\u001b[35mPosixPath('/home/user/dev/kasi-x/akizora/books/easy_readable_books.json')\u001b[0m\n",
      "\u001b[2m2024-04-19 06:43.19\u001b[0m [\u001b[32m\u001b[1minfo     \u001b[0m] \u001b[1mReading data.                 \u001b[0m [\u001b[0m\u001b[1m\u001b[34m__main__\u001b[0m]\u001b[0m \u001b[36mpath\u001b[0m=\u001b[35mPosixPath('/home/user/dev/kasi-x/akizora/books/easy_readable_books.json')\u001b[0m\n",
      "\u001b[2m2024-04-19 06:43.19\u001b[0m [\u001b[32m\u001b[1minfo     \u001b[0m] \u001b[1mReading data.                 \u001b[0m [\u001b[0m\u001b[1m\u001b[34m__main__\u001b[0m]\u001b[0m \u001b[36mpath\u001b[0m=\u001b[35mPosixPath('/home/user/dev/kasi-x/akizora/books/easy_readable_books.json')\u001b[0m\n",
      "\u001b[2m2024-04-19 06:43.19\u001b[0m [\u001b[32m\u001b[1minfo     \u001b[0m] \u001b[1mReading data.                 \u001b[0m [\u001b[0m\u001b[1m\u001b[34m__main__\u001b[0m]\u001b[0m \u001b[36mpath\u001b[0m=\u001b[35mPosixPath('/home/user/dev/kasi-x/akizora/books/easy_readable_books.json')\u001b[0m\n",
      "\u001b[2m2024-04-19 06:43.19\u001b[0m [\u001b[32m\u001b[1minfo     \u001b[0m] \u001b[1mReading data.                 \u001b[0m [\u001b[0m\u001b[1m\u001b[34m__main__\u001b[0m]\u001b[0m \u001b[36mpath\u001b[0m=\u001b[35mPosixPath('/home/user/dev/kasi-x/akizora/books/easy_readable_books.json')\u001b[0m\n",
      "\u001b[2m2024-04-19 06:43.19\u001b[0m [\u001b[32m\u001b[1minfo     \u001b[0m] \u001b[1mReading data.                 \u001b[0m [\u001b[0m\u001b[1m\u001b[34m__main__\u001b[0m]\u001b[0m \u001b[36mpath\u001b[0m=\u001b[35mPosixPath('/home/user/dev/kasi-x/akizora/books/easy_readable_books.json')\u001b[0m\n",
      "\u001b[2m2024-04-19 06:43.19\u001b[0m [\u001b[32m\u001b[1minfo     \u001b[0m] \u001b[1mReading data.                 \u001b[0m [\u001b[0m\u001b[1m\u001b[34m__main__\u001b[0m]\u001b[0m \u001b[36mpath\u001b[0m=\u001b[35mPosixPath('/home/user/dev/kasi-x/akizora/books/easy_readable_books.json')\u001b[0m\n",
      "\u001b[2m2024-04-19 06:43.19\u001b[0m [\u001b[32m\u001b[1minfo     \u001b[0m] \u001b[1mReading data.                 \u001b[0m [\u001b[0m\u001b[1m\u001b[34m__main__\u001b[0m]\u001b[0m \u001b[36mpath\u001b[0m=\u001b[35mPosixPath('/home/user/dev/kasi-x/akizora/books/easy_readable_books.json')\u001b[0m\n",
      "\u001b[2m2024-04-19 06:43.19\u001b[0m [\u001b[32m\u001b[1minfo     \u001b[0m] \u001b[1mReading data.                 \u001b[0m [\u001b[0m\u001b[1m\u001b[34m__main__\u001b[0m]\u001b[0m \u001b[36mpath\u001b[0m=\u001b[35mPosixPath('/home/user/dev/kasi-x/akizora/books/easy_readable_books.json')\u001b[0m\n",
      "\u001b[2m2024-04-19 06:43.19\u001b[0m [\u001b[32m\u001b[1minfo     \u001b[0m] \u001b[1mReading data.                 \u001b[0m [\u001b[0m\u001b[1m\u001b[34m__main__\u001b[0m]\u001b[0m \u001b[36mpath\u001b[0m=\u001b[35mPosixPath('/home/user/dev/kasi-x/akizora/books/easy_readable_books.json')\u001b[0m\n",
      "\u001b[2m2024-04-19 06:43.19\u001b[0m [\u001b[32m\u001b[1minfo     \u001b[0m] \u001b[1mReading data.                 \u001b[0m [\u001b[0m\u001b[1m\u001b[34m__main__\u001b[0m]\u001b[0m \u001b[36mpath\u001b[0m=\u001b[35mPosixPath('/home/user/dev/kasi-x/akizora/books/easy_readable_books.json')\u001b[0m\n",
      "\u001b[2m2024-04-19 06:43.19\u001b[0m [\u001b[32m\u001b[1minfo     \u001b[0m] \u001b[1mReading data.                 \u001b[0m [\u001b[0m\u001b[1m\u001b[34m__main__\u001b[0m]\u001b[0m \u001b[36mpath\u001b[0m=\u001b[35mPosixPath('/home/user/dev/kasi-x/akizora/books/easy_readable_books.json')\u001b[0m\n",
      "\u001b[2m2024-04-19 06:43.19\u001b[0m [\u001b[32m\u001b[1minfo     \u001b[0m] \u001b[1mReading data.                 \u001b[0m [\u001b[0m\u001b[1m\u001b[34m__main__\u001b[0m]\u001b[0m \u001b[36mpath\u001b[0m=\u001b[35mPosixPath('/home/user/dev/kasi-x/akizora/books/easy_readable_books.json')\u001b[0m\n",
      "\u001b[2m2024-04-19 06:43.19\u001b[0m [\u001b[32m\u001b[1minfo     \u001b[0m] \u001b[1mReading data.                 \u001b[0m [\u001b[0m\u001b[1m\u001b[34m__main__\u001b[0m]\u001b[0m \u001b[36mpath\u001b[0m=\u001b[35mPosixPath('/home/user/dev/kasi-x/akizora/books/easy_readable_books.json')\u001b[0m\n",
      "\u001b[2m2024-04-19 06:43.19\u001b[0m [\u001b[32m\u001b[1minfo     \u001b[0m] \u001b[1mReading data.                 \u001b[0m [\u001b[0m\u001b[1m\u001b[34m__main__\u001b[0m]\u001b[0m \u001b[36mpath\u001b[0m=\u001b[35mPosixPath('/home/user/dev/kasi-x/akizora/books/easy_readable_books.json')\u001b[0m\n",
      "\u001b[2m2024-04-19 06:43.19\u001b[0m [\u001b[32m\u001b[1minfo     \u001b[0m] \u001b[1mReading data.                 \u001b[0m [\u001b[0m\u001b[1m\u001b[34m__main__\u001b[0m]\u001b[0m \u001b[36mpath\u001b[0m=\u001b[35mPosixPath('/home/user/dev/kasi-x/akizora/books/easy_readable_books.json')\u001b[0m\n",
      "\u001b[2m2024-04-19 06:43.19\u001b[0m [\u001b[32m\u001b[1minfo     \u001b[0m] \u001b[1mReading data.                 \u001b[0m [\u001b[0m\u001b[1m\u001b[34m__main__\u001b[0m]\u001b[0m \u001b[36mpath\u001b[0m=\u001b[35mPosixPath('/home/user/dev/kasi-x/akizora/books/easy_readable_books.json')\u001b[0m\n",
      "\u001b[2m2024-04-19 06:43.19\u001b[0m [\u001b[32m\u001b[1minfo     \u001b[0m] \u001b[1mReading data.                 \u001b[0m [\u001b[0m\u001b[1m\u001b[34m__main__\u001b[0m]\u001b[0m \u001b[36mpath\u001b[0m=\u001b[35mPosixPath('/home/user/dev/kasi-x/akizora/books/easy_readable_books.json')\u001b[0m\n",
      "\u001b[2m2024-04-19 06:43.19\u001b[0m [\u001b[32m\u001b[1minfo     \u001b[0m] \u001b[1mReading data.                 \u001b[0m [\u001b[0m\u001b[1m\u001b[34m__main__\u001b[0m]\u001b[0m \u001b[36mpath\u001b[0m=\u001b[35mPosixPath('/home/user/dev/kasi-x/akizora/books/easy_readable_books.json')\u001b[0m\n",
      "\u001b[2m2024-04-19 06:43.19\u001b[0m [\u001b[32m\u001b[1minfo     \u001b[0m] \u001b[1mReading data.                 \u001b[0m [\u001b[0m\u001b[1m\u001b[34m__main__\u001b[0m]\u001b[0m \u001b[36mpath\u001b[0m=\u001b[35mPosixPath('/home/user/dev/kasi-x/akizora/books/easy_readable_books.json')\u001b[0m\n",
      "\u001b[2m2024-04-19 06:43.19\u001b[0m [\u001b[32m\u001b[1minfo     \u001b[0m] \u001b[1mReading data.                 \u001b[0m [\u001b[0m\u001b[1m\u001b[34m__main__\u001b[0m]\u001b[0m \u001b[36mpath\u001b[0m=\u001b[35mPosixPath('/home/user/dev/kasi-x/akizora/books/easy_readable_books.json')\u001b[0m\n",
      "/home/user/dev/kasi-x/akizora/books/agatha-christie_the-mystery-of-the-blue-train\n",
      "'Dedication'\n",
      "'The Mystery of the Blue Train'\n",
      "<html xmlns=\"http://www.w3.org/1999/xhtml\" xmlns:epub=\"http://www.idpf.org/2007/ops\" epub:prefix=\"z3998: http://www.daisy.org/z3998/2012/vocab/structure/, se: https://standardebooks.org/vocab/1.0\" xml:lang=\"en-GB\">\n",
      "\t<head>\n",
      "\t\t<title>Dedication</title>\n",
      "\t\t<link href=\"../css/core.css\" rel=\"stylesheet\" type=\"text/css\"/>\n",
      "\t\t<link href=\"../css/local.css\" rel=\"stylesheet\" type=\"text/css\"/>\n",
      "\t</head>\n",
      "\t<body epub:type=\"frontmatter z3998:fiction\">\n",
      "\t\t<section id=\"dedication\" epub:type=\"dedication\">\n",
      "\t\t\t<p><span>Dedicated to</span><br/>\n",
      "\t\t\ttwo distinguished members<br/>\n",
      "\t\t\tof the <abbr class=\"eoc\" epub:type=\"z3998:initialism\">O.F.D.</abbr></p>\n",
      "\t\t\t<p>\n",
      "\t\t\t\t<b>Carlotta</b>\n",
      "\t\t\t\t<i>and</i>\n",
      "\t\t\t\t<b>Peter</b>\n",
      "\t\t\t</p>\n",
      "\t\t</section>\n",
      "\t</body>\n",
      "</html>\n",
      "\n",
      "========================================\n",
      "2 elements are found.\n",
      "========= Show Data ==========\n",
      "==============1===============\n",
      "<p><span>Dedicated to</span><br/>\n",
      "\t\t\ttwo distinguished members<br/>\n",
      "\t\t\tof the <abbr class=\"eoc\" epub:type=\"z3998:initialism\">O.F.D.</abbr></p>\n",
      "\t\t\t\n",
      "\n",
      "==============2===============\n",
      "<p>\n",
      "\t\t\t\t<b>Carlotta</b>\n",
      "\t\t\t\t<i>and</i>\n",
      "\t\t\t\t<b>Peter</b>\n",
      "\t\t\t</p>\n",
      "\t\t\n",
      "\n",
      "No elements are found.\n",
      "Dedicated to\n",
      "two distinguished members\n",
      "of the\n",
      "O.F.D.\n",
      "\n",
      "Carlotta\n",
      "\n",
      "and\n",
      "\n",
      "Peter\n",
      "\n",
      "++++++++++++++++++++++++++++++++++++++++\n",
      "Dedicated to two distinguished members of the O.F.D. \n",
      " Carlotta \n",
      " and \n",
      " Peter \n",
      "\n",
      "<html xmlns=\"http://www.w3.org/1999/xhtml\" xmlns:epub=\"http://www.idpf.org/2007/ops\" epub:prefix=\"z3998: http://www.daisy.org/z3998/2012/vocab/structure/, se: https://standardebooks.org/vocab/1.0\" xml:lang=\"en-GB\">\n",
      "\t<head>\n",
      "\t\t<title>The Mystery of the Blue Train</title>\n",
      "\t\t<link href=\"../css/core.css\" rel=\"stylesheet\" type=\"text/css\"/>\n",
      "\t\t<link href=\"../css/local.css\" rel=\"stylesheet\" type=\"text/css\"/>\n",
      "\t</head>\n",
      "\t<body epub:type=\"frontmatter\">\n",
      "\t\t<section id=\"halftitlepage\" epub:type=\"halftitlepage\">\n",
      "\t\t\t<h2 epub:type=\"fulltitle\">The Mystery of the Blue Train</h2>\n",
      "\t\t</section>\n",
      "\t</body>\n",
      "</html>\n",
      "\n",
      "========================================\n",
      "No elements are found.\n",
      "0 elements are found.\n",
      "========= Show Data ==========\n",
      "No elements are found.\n",
      "++++++++++++++++++++++++++++++++++++++++\n",
      "\n"
     ]
    }
   ],
   "source": [
    "a = main()"
   ]
  },
  {
   "cell_type": "code",
   "execution_count": 60,
   "id": "a3617900-83c2-4ae3-b57b-5a6cbd466ac5",
   "metadata": {},
   "outputs": [
    {
     "data": {
      "text/plain": [
       "{'Dedication': 'Dedicated to two distinguished members of the O.F.D. \\n Carlotta \\n and \\n Peter \\n',\n",
       " 'The Mystery of the Blue Train': ''}"
      ]
     },
     "execution_count": 60,
     "metadata": {},
     "output_type": "execute_result"
    }
   ],
   "source": [
    "a"
   ]
  },
  {
   "cell_type": "code",
   "execution_count": 61,
   "id": "4dec7c7e-24fa-4e4c-8a6e-bb2ece03ce75",
   "metadata": {},
   "outputs": [
    {
     "name": "stdout",
     "output_type": "stream",
     "text": [
      "{'Dedication': 'Dedicated to two distinguished members of the O.F.D. \\n'\n",
      "               ' Carlotta \\n'\n",
      "               ' and \\n'\n",
      "               ' Peter \\n',\n",
      " 'The Mystery of the Blue Train': ''}\n"
     ]
    }
   ],
   "source": [
    "pprint(a)"
   ]
  },
  {
   "cell_type": "code",
   "execution_count": 11,
   "id": "12776627-118c-4ef0-ab25-7aadb6dd28d8",
   "metadata": {},
   "outputs": [],
   "source": [
    "target_file = '/home/user/dev/kasi-x/akizora/books/agatha-christie_the-mystery-of-the-blue-train/dedication.xhtml'"
   ]
  },
  {
   "cell_type": "code",
   "execution_count": null,
   "id": "f2d862e8-e9bc-45de-ae92-de61c6221ed5",
   "metadata": {},
   "outputs": [],
   "source": []
  },
  {
   "cell_type": "code",
   "execution_count": 16,
   "id": "941970a0-3cb5-4fe1-8706-396b642021ed",
   "metadata": {},
   "outputs": [],
   "source": [
    "xhtml = read_xhtml(target_file).encode(\"utf-8\")"
   ]
  },
  {
   "cell_type": "code",
   "execution_count": 17,
   "id": "63306530-9f62-4a76-aab2-f4eac9d35eca",
   "metadata": {},
   "outputs": [],
   "source": [
    "parser = HTMLParser()\n",
    "tree = etree.fromstring(xhtml, parser)\n",
    "content = tree.xpath(\"//body\")[0]\n",
    "a = etree.tostring(content, pretty_print=True).decode(\"utf-8\")\n",
    "show(tree.xpath(\"//section[@id='dedication'][1]/p\"))\n"
   ]
  },
  {
   "cell_type": "code",
   "execution_count": 26,
   "id": "925ea114-3b90-4f43-9ebf-d3f87a7598cf",
   "metadata": {},
   "outputs": [],
   "source": [
    "def show(element: Element | list[Element]) -> None:\n",
    "    # This is for debugging.\n",
    "    if len(element) == 0:\n",
    "        print(\"No elements are found.\")\n",
    "    if isinstance(element, list):\n",
    "        print(f\"{len(element)} elements are found.\")\n",
    "        print(\"{:=^30}\".format(\" Show Data \"))\n",
    "        for _i, e in enumerate(element, 1):\n",
    "            print(f\"{_i:=^30}\")\n",
    "            show(e)\n",
    "    if isinstance(element, Element):\n",
    "        print(etree.tostring(element, pretty_print=True, encoding=str))\n",
    "    else:\n",
    "        print(\"No elements are found.\")"
   ]
  },
  {
   "cell_type": "code",
   "execution_count": 27,
   "id": "2616a79b-3301-47b4-9453-11875bd9df2e",
   "metadata": {},
   "outputs": [
    {
     "name": "stdout",
     "output_type": "stream",
     "text": [
      "<html xmlns=\"http://www.w3.org/1999/xhtml\" xmlns:epub=\"http://www.idpf.org/2007/ops\" epub:prefix=\"z3998: http://www.daisy.org/z3998/2012/vocab/structure/, se: https://standardebooks.org/vocab/1.0\" xml:lang=\"en-GB\">\n",
      "\t<head>\n",
      "\t\t<title>Dedication</title>\n",
      "\t\t<link href=\"../css/core.css\" rel=\"stylesheet\" type=\"text/css\"/>\n",
      "\t\t<link href=\"../css/local.css\" rel=\"stylesheet\" type=\"text/css\"/>\n",
      "\t</head>\n",
      "\t<body epub:type=\"frontmatter z3998:fiction\">\n",
      "\t\t<section id=\"dedication\" epub:type=\"dedication\">\n",
      "\t\t\t<p><span>Dedicated to</span><br/>\n",
      "\t\t\ttwo distinguished members<br/>\n",
      "\t\t\tof the <abbr class=\"eoc\" epub:type=\"z3998:initialism\">O.F.D.</abbr></p>\n",
      "\t\t\t<p>\n",
      "\t\t\t\t<b>Carlotta</b>\n",
      "\t\t\t\t<i>and</i>\n",
      "\t\t\t\t<b>Peter</b>\n",
      "\t\t\t</p>\n",
      "\t\t</section>\n",
      "\t</body>\n",
      "</html>\n",
      "\n"
     ]
    }
   ],
   "source": [
    "show(tree)"
   ]
  },
  {
   "cell_type": "code",
   "execution_count": null,
   "id": "ce406dd9-cc31-4749-8c4e-0698f12ee5fc",
   "metadata": {},
   "outputs": [],
   "source": [
    "//section[@id='dedication'][1]/@epub:type"
   ]
  },
  {
   "cell_type": "code",
   "execution_count": 29,
   "id": "b43d030d-5584-44d4-ba64-cbe3a6481214",
   "metadata": {},
   "outputs": [
    {
     "name": "stdout",
     "output_type": "stream",
     "text": [
      "2 elements are found.\n",
      "========= Show Data ==========\n",
      "==============1===============\n",
      "<p><span>Dedicated to</span><br/>\n",
      "\t\t\ttwo distinguished members<br/>\n",
      "\t\t\tof the <abbr class=\"eoc\" epub:type=\"z3998:initialism\">O.F.D.</abbr></p>\n",
      "\t\t\t\n",
      "\n",
      "==============2===============\n",
      "<p>\n",
      "\t\t\t\t<b>Carlotta</b>\n",
      "\t\t\t\t<i>and</i>\n",
      "\t\t\t\t<b>Peter</b>\n",
      "\t\t\t</p>\n",
      "\t\t\n",
      "\n",
      "No elements are found.\n"
     ]
    }
   ],
   "source": [
    "show(tree.xpath(\"//section[@id='dedication'][1]/p\"))"
   ]
  },
  {
   "cell_type": "code",
   "execution_count": 15,
   "id": "bb40d166-896d-4c71-96d0-75dcad5f9487",
   "metadata": {},
   "outputs": [
    {
     "data": {
      "text/plain": [
       "{'title': 'Titlepage',\n",
       " 'number': '',\n",
       " 'name': 'Titlepage',\n",
       " 'href': 'text/titlepage.xhtml',\n",
       " 'nest_level': 0,\n",
       " 'query': \"//html/body/nav[@id='toc'][1]/ol/li[1]\",\n",
       " 'url': '',\n",
       " 'subchapters': []}"
      ]
     },
     "execution_count": 15,
     "metadata": {},
     "output_type": "execute_result"
    }
   ],
   "source": [
    "file"
   ]
  },
  {
   "cell_type": "code",
   "execution_count": 16,
   "id": "1ab7c51d-1b2b-45f3-8841-8e6293682773",
   "metadata": {},
   "outputs": [
    {
     "data": {
      "text/plain": [
       "'titlepage.xhtml'"
      ]
     },
     "execution_count": 16,
     "metadata": {},
     "output_type": "execute_result"
    }
   ],
   "source": [
    "file[\"href\"].split(\"/\")[-1]"
   ]
  },
  {
   "cell_type": "code",
   "execution_count": 20,
   "id": "a59bf990-355c-4985-a1e4-e04db83bb302",
   "metadata": {},
   "outputs": [],
   "source": [
    "a = 'text/chapter-35.xhtml'"
   ]
  },
  {
   "cell_type": "code",
   "execution_count": 21,
   "id": "1bd3c7a1-69e7-46d4-8760-eeee85711641",
   "metadata": {},
   "outputs": [
    {
     "data": {
      "text/plain": [
       "'chapter-35.xhtml'"
      ]
     },
     "execution_count": 21,
     "metadata": {},
     "output_type": "execute_result"
    }
   ],
   "source": [
    "a.split(\"/\")[-1]"
   ]
  },
  {
   "cell_type": "code",
   "execution_count": null,
   "id": "7813001d-c407-407f-b6c4-7a8b07e35597",
   "metadata": {},
   "outputs": [],
   "source": []
  }
 ],
 "metadata": {
  "kernelspec": {
   "display_name": "Python 3 (ipykernel)",
   "language": "python",
   "name": "python3"
  },
  "language_info": {
   "codemirror_mode": {
    "name": "ipython",
    "version": 3
   },
   "file_extension": ".py",
   "mimetype": "text/x-python",
   "name": "python",
   "nbconvert_exporter": "python",
   "pygments_lexer": "ipython3",
   "version": "3.12.2"
  }
 },
 "nbformat": 4,
 "nbformat_minor": 5
}
