{
 "cells": [
  {
   "cell_type": "code",
   "execution_count": 2,
   "id": "5f2575f6-0143-473c-909d-22040a46a080",
   "metadata": {},
   "outputs": [],
   "source": [
    "import requests\n",
    "import lxml.html"
   ]
  },
  {
   "cell_type": "code",
   "execution_count": 3,
   "id": "db361ff7-936e-4048-b1eb-52a94311192e",
   "metadata": {},
   "outputs": [],
   "source": [
    "response = requests.get(\"https://gutenberg.net.au/ebooks01/0100251h.html\")"
   ]
  },
  {
   "cell_type": "code",
   "execution_count": 10,
   "id": "0f12e508-8b98-4c07-850b-f3f681b9e561",
   "metadata": {},
   "outputs": [
    {
     "data": {
      "text/plain": [
       "'Anne of Windy Poplars'"
      ]
     },
     "execution_count": 10,
     "metadata": {},
     "output_type": "execute_result"
    }
   ],
   "source": [
    "tree = lxml.html.fromstring(response.text)\n",
    "tree.xpath('/html/body/h1')[0].text_content()"
   ]
  },
  {
   "cell_type": "code",
   "execution_count": 13,
   "id": "9b17e218-127e-462f-bade-7b2773bafbea",
   "metadata": {},
   "outputs": [
    {
     "data": {
      "text/plain": [
       "b'<h1>Animal Farm</h1>\\n\\n'"
      ]
     },
     "execution_count": 13,
     "metadata": {},
     "output_type": "execute_result"
    }
   ],
   "source": [
    "lxml.html.tostring(tree.xpath('/html/body/h1')[0])"
   ]
  },
  {
   "cell_type": "code",
   "execution_count": 37,
   "id": "4587cd85-6d10-4f73-83f0-2b4032c3b1df",
   "metadata": {},
   "outputs": [],
   "source": [
    "import re\n",
    "from abc import ABC\n",
    "from abc import abstractmethod\n",
    "\n",
    "import lxml.html\n",
    "import requests\n",
    "\n",
    "\n",
    "class Scraper(ABC):\n",
    "    def __init__(self, url):\n",
    "        self.url = url\n",
    "        self.response = requests.get(url)\n",
    "        self.tree = lxml.html.fromstring(self.response.text)\n",
    "\n",
    "    @abstractmethod\n",
    "    def get_title(self):\n",
    "        pass\n",
    "\n",
    "    @abstractmethod\n",
    "    def get_language(self):\n",
    "        pass\n",
    "\n",
    "    @abstractmethod\n",
    "    def get_text(self):\n",
    "        pass\n",
    "\n",
    "    @abstractmethod\n",
    "    def get_author(self):\n",
    "        pass\n",
    "\n",
    "    @abstractmethod\n",
    "    def get_metadata(self):\n",
    "        pass\n",
    "\n",
    "    @abstractmethod\n",
    "    def get_chapters(self):\n",
    "        pass\n",
    "\n",
    "    @abstractmethod\n",
    "    def get_chapter(self, chapter):\n",
    "        pass\n",
    "\n",
    "    @abstractmethod\n",
    "    def get_chapter_text(self, chapter):\n",
    "        pass\n",
    "\n",
    "\n",
    "class Gutenberg(ABC):\n",
    "    def __init__(self, url):\n",
    "        self.url = url\n",
    "        self.response = requests.get(url)\n",
    "        self.tree = lxml.html.fromstring(self.response.text)\n",
    "\n",
    "    @staticmethod\n",
    "    def _parse_ebook_metadata(text):\n",
    "        metadata = {}\n",
    "        for line in text.splitlines():\n",
    "            match = re.match(r\"(.*?):\\s*(.*)\", line)\n",
    "            if match:\n",
    "                key, value = match.groups()\n",
    "                metadata[key] = value\n",
    "        return metadata\n",
    "\n",
    "    def _get_meta_data(self):\n",
    "        return self.tree.xpath(\"/html/body/p[1]\")[0].text_content()\n",
    "\n",
    "    def get_title(self):\n",
    "        return self._parse_ebook_metadata(self._get_meta_data())[\"Title\"]\n",
    "\n",
    "    def get_language(self):\n",
    "        return self._parse_ebook_metadata(self._get_meta_data())[\"Language\"]\n",
    "\n",
    "    def get_author(self):\n",
    "        return self._parse_ebook_metadata(self._get_meta_data())[\"Author\"]\n",
    "\n",
    "    def get_chapters(self):\n",
    "        return [\n",
    "            chapter.text_content()\n",
    "            for chapter in self.tree.xpath(\"/html/body/h2\")\n",
    "            if chapter.text_content() != \"Contents\"\n",
    "        ]  # First one is the table of contents"
   ]
  },
  {
   "cell_type": "code",
   "execution_count": 46,
   "id": "1a3a1588-3613-4b75-b348-d81a984e49fd",
   "metadata": {},
   "outputs": [],
   "source": [
    "g = Gutenberg(\"https://gutenberg.net.au/ebooks05/0500141h.html\")"
   ]
  },
  {
   "cell_type": "code",
   "execution_count": 38,
   "id": "c1eb3b75-8e25-43f8-a3cb-d1469077d665",
   "metadata": {},
   "outputs": [],
   "source": [
    "g = Gutenberg(\"https://gutenberg.net.au/ebooks01/0100011h.html\")"
   ]
  },
  {
   "cell_type": "code",
   "execution_count": 49,
   "id": "a6c43497-e4e2-4089-9e9e-a8c7e3679442",
   "metadata": {},
   "outputs": [
    {
     "data": {
      "text/plain": [
       "'Cigars had burned low, and we were beginning to sample the\\n  disillusionment that usually afflicts old school friends who have met again\\n  as men and found themselves with less in common than they had believed they\\n  had. Rutherford wrote novels; Wyland was one of the Embassy secretaries; he\\n  had just given us dinner at Tempelhof—not very cheerfully, I fancied,\\n  but with the equanimity which a diplomat must always keep on tap for such\\n  occasions. It seemed likely that nothing but the fact of being three celibate\\n  Englishmen in a foreign capital could have brought us together, and I had\\n  already reached the conclusion that the slight touch of priggishness which I\\n  remembered in Wyland Tertius had not diminished with years and an M.V.O.\\n  Rutherford I liked more; he had ripened well out of the skinny, precocious\\n  infant whom I had once alternately bullied and patronized. The probability\\n  that he was making much more money and having a more interesting life than\\n  either of us gave Wyland and me our one mutual emotion—a touch of\\n  envy.'"
      ]
     },
     "execution_count": 49,
     "metadata": {},
     "output_type": "execute_result"
    }
   ],
   "source": [
    "g._get_meta_data()"
   ]
  },
  {
   "cell_type": "code",
   "execution_count": 47,
   "id": "19e60389-2185-4923-9a63-82e13f5766c3",
   "metadata": {},
   "outputs": [
    {
     "ename": "KeyError",
     "evalue": "'Title'",
     "output_type": "error",
     "traceback": [
      "\u001b[0;31m---------------------------------------------------------------------------\u001b[0m",
      "\u001b[0;31mKeyError\u001b[0m                                  Traceback (most recent call last)",
      "Cell \u001b[0;32mIn[47], line 1\u001b[0m\n\u001b[0;32m----> 1\u001b[0m \u001b[43mg\u001b[49m\u001b[38;5;241;43m.\u001b[39;49m\u001b[43mget_title\u001b[49m\u001b[43m(\u001b[49m\u001b[43m)\u001b[49m\n",
      "Cell \u001b[0;32mIn[37], line 68\u001b[0m, in \u001b[0;36mGutenberg.get_title\u001b[0;34m(self)\u001b[0m\n\u001b[1;32m     67\u001b[0m \u001b[38;5;28;01mdef\u001b[39;00m \u001b[38;5;21mget_title\u001b[39m(\u001b[38;5;28mself\u001b[39m):\n\u001b[0;32m---> 68\u001b[0m     \u001b[38;5;28;01mreturn\u001b[39;00m \u001b[38;5;28;43mself\u001b[39;49m\u001b[38;5;241;43m.\u001b[39;49m\u001b[43m_parse_ebook_metadata\u001b[49m\u001b[43m(\u001b[49m\u001b[38;5;28;43mself\u001b[39;49m\u001b[38;5;241;43m.\u001b[39;49m\u001b[43m_get_meta_data\u001b[49m\u001b[43m(\u001b[49m\u001b[43m)\u001b[49m\u001b[43m)\u001b[49m\u001b[43m[\u001b[49m\u001b[38;5;124;43m\"\u001b[39;49m\u001b[38;5;124;43mTitle\u001b[39;49m\u001b[38;5;124;43m\"\u001b[39;49m\u001b[43m]\u001b[49m\n",
      "\u001b[0;31mKeyError\u001b[0m: 'Title'"
     ]
    }
   ],
   "source": [
    "g.get_title()"
   ]
  },
  {
   "cell_type": "code",
   "execution_count": 48,
   "id": "cfa4f9b4-90e1-4be5-a48f-e71298986449",
   "metadata": {},
   "outputs": [
    {
     "ename": "KeyError",
     "evalue": "'Language'",
     "output_type": "error",
     "traceback": [
      "\u001b[0;31m---------------------------------------------------------------------------\u001b[0m",
      "\u001b[0;31mKeyError\u001b[0m                                  Traceback (most recent call last)",
      "Cell \u001b[0;32mIn[48], line 1\u001b[0m\n\u001b[0;32m----> 1\u001b[0m \u001b[43mg\u001b[49m\u001b[38;5;241;43m.\u001b[39;49m\u001b[43mget_language\u001b[49m\u001b[43m(\u001b[49m\u001b[43m)\u001b[49m\n",
      "Cell \u001b[0;32mIn[37], line 71\u001b[0m, in \u001b[0;36mGutenberg.get_language\u001b[0;34m(self)\u001b[0m\n\u001b[1;32m     70\u001b[0m \u001b[38;5;28;01mdef\u001b[39;00m \u001b[38;5;21mget_language\u001b[39m(\u001b[38;5;28mself\u001b[39m):\n\u001b[0;32m---> 71\u001b[0m     \u001b[38;5;28;01mreturn\u001b[39;00m \u001b[38;5;28;43mself\u001b[39;49m\u001b[38;5;241;43m.\u001b[39;49m\u001b[43m_parse_ebook_metadata\u001b[49m\u001b[43m(\u001b[49m\u001b[38;5;28;43mself\u001b[39;49m\u001b[38;5;241;43m.\u001b[39;49m\u001b[43m_get_meta_data\u001b[49m\u001b[43m(\u001b[49m\u001b[43m)\u001b[49m\u001b[43m)\u001b[49m\u001b[43m[\u001b[49m\u001b[38;5;124;43m\"\u001b[39;49m\u001b[38;5;124;43mLanguage\u001b[39;49m\u001b[38;5;124;43m\"\u001b[39;49m\u001b[43m]\u001b[49m\n",
      "\u001b[0;31mKeyError\u001b[0m: 'Language'"
     ]
    }
   ],
   "source": [
    "g.get_language()"
   ]
  },
  {
   "cell_type": "code",
   "execution_count": 36,
   "id": "ae5bea1a-edfb-4d2d-9a63-3d1a6cd37d56",
   "metadata": {},
   "outputs": [
    {
     "data": {
      "text/plain": [
       "'George Orwell'"
      ]
     },
     "execution_count": 36,
     "metadata": {},
     "output_type": "execute_result"
    }
   ],
   "source": [
    "g.get_author()"
   ]
  },
  {
   "cell_type": "code",
   "execution_count": 43,
   "id": "7b07aca7-8845-489a-8487-7b353b04717a",
   "metadata": {},
   "outputs": [
    {
     "data": {
      "text/plain": [
       "['Chapter I',\n",
       " 'Chapter II',\n",
       " 'Chapter III',\n",
       " 'Chapter IV',\n",
       " 'Chapter V',\n",
       " 'Chapter VI',\n",
       " 'Chapter VII',\n",
       " 'Chapter VIII',\n",
       " 'Chapter IX',\n",
       " 'Chapter X',\n",
       " 'THE END']"
      ]
     },
     "execution_count": 43,
     "metadata": {},
     "output_type": "execute_result"
    }
   ],
   "source": [
    "g.get_chapters()"
   ]
  }
 ],
 "metadata": {
  "kernelspec": {
   "display_name": "Python 3 (ipykernel)",
   "language": "python",
   "name": "python3"
  },
  "language_info": {
   "codemirror_mode": {
    "name": "ipython",
    "version": 3
   },
   "file_extension": ".py",
   "mimetype": "text/x-python",
   "name": "python",
   "nbconvert_exporter": "python",
   "pygments_lexer": "ipython3",
   "version": "3.12.2"
  }
 },
 "nbformat": 4,
 "nbformat_minor": 5
}
