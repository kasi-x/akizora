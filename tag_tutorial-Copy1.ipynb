{
 "cells": [
  {
   "cell_type": "code",
   "execution_count": 1,
   "id": "af1a2066-3bde-4559-b389-2ea4a28d3974",
   "metadata": {},
   "outputs": [
    {
     "name": "stderr",
     "output_type": "stream",
     "text": [
      "/home/user/dev/kasi-x/akizora/.venv/lib/python3.12/site-packages/tqdm/auto.py:21: TqdmWarning: IProgress not found. Please update jupyter and ipywidgets. See https://ipywidgets.readthedocs.io/en/stable/user_install.html\n",
      "  from .autonotebook import tqdm as notebook_tqdm\n"
     ]
    }
   ],
   "source": [
    "from src.translate_domain import *\n",
    "from src.tag_to_book import *\n",
    "from src.llm_domain import *\n",
    "from src.tag import *\n",
    "from src.tag import main as tag_main"
   ]
  },
  {
   "cell_type": "code",
   "execution_count": 2,
   "id": "81ca4927-32f1-4fb7-896c-c93cdb394721",
   "metadata": {},
   "outputs": [],
   "source": [
    "import pprint"
   ]
  },
  {
   "cell_type": "code",
   "execution_count": 3,
   "id": "f1921ad5-9a0c-4cf5-a39b-96e1416412be",
   "metadata": {},
   "outputs": [
    {
     "name": "stdout",
     "output_type": "stream",
     "text": [
      "[<src.tag.ProtoChapter object at 0x7f43abe3b0b0>, <src.tag.ProtoChapter object at 0x7f43abe3b260>, <src.tag.ProtoChapter object at 0x7f43abe3b680>, <src.tag.ProtoChapter object at 0x7f43abe3b980>, <src.tag.ProtoChapter object at 0x7f43abe3bb30>]\n",
      "Cigars had burned low, and we were beginning to sample the disillusionment...\n"
     ]
    }
   ],
   "source": [
    "proto_chapters = tag_main()"
   ]
  },
  {
   "cell_type": "code",
   "execution_count": 4,
   "id": "7f7ee603-32fd-4adc-aa90-7e73e1e9944e",
   "metadata": {},
   "outputs": [
    {
     "data": {
      "text/plain": [
       "[<src.tag.ProtoChapter at 0x7f43abe3b0b0>,\n",
       " <src.tag.ProtoChapter at 0x7f43abe3b260>,\n",
       " <src.tag.ProtoChapter at 0x7f43abe3b680>,\n",
       " <src.tag.ProtoChapter at 0x7f43abe3b980>,\n",
       " <src.tag.ProtoChapter at 0x7f43abe3bb30>]"
      ]
     },
     "execution_count": 4,
     "metadata": {},
     "output_type": "execute_result"
    }
   ],
   "source": [
    "proto_chapters"
   ]
  },
  {
   "cell_type": "code",
   "execution_count": 5,
   "id": "ca17f42f-9b06-4adc-9ca5-eb6d5e3e63d7",
   "metadata": {},
   "outputs": [],
   "source": [
    "l = []\n",
    "for chapter in proto_chapters:\n",
    "   l.append(proto_to_domain(chapter))"
   ]
  },
  {
   "cell_type": "code",
   "execution_count": 6,
   "id": "c8534579-e8ef-4b2b-ada4-c8eeb19b5016",
   "metadata": {},
   "outputs": [],
   "source": [
    "b = Book(contents=l, base_language=LanguageEnum.eng)"
   ]
  },
  {
   "cell_type": "code",
   "execution_count": 7,
   "id": "3131dd7a-3089-4df5-88f2-b71022e2d41d",
   "metadata": {},
   "outputs": [],
   "source": [
    "g = call_gemini()"
   ]
  },
  {
   "cell_type": "code",
   "execution_count": 8,
   "id": "e2d57962-bf11-41c6-94e7-9e9ff3256e51",
   "metadata": {},
   "outputs": [
    {
     "data": {
      "text/plain": [
       "25"
      ]
     },
     "execution_count": 8,
     "metadata": {},
     "output_type": "execute_result"
    }
   ],
   "source": [
    "len(b.lines)"
   ]
  },
  {
   "cell_type": "code",
   "execution_count": 31,
   "id": "1b3197db-5d7d-446b-82ee-83d7f3089222",
   "metadata": {},
   "outputs": [],
   "source": [
    "class BookTranslaor:\n",
    "    def __init__(\n",
    "        self, book: Book, model: LLM, to_language: Language, from_language: Language | None = None\n",
    "    ) -> None:\n",
    "        self.book = book\n",
    "        self.model = model\n",
    "        self.to_language = to_language\n",
    "        if not from_language:\n",
    "            self.from_language = book.base_language\n",
    "        else:\n",
    "            self.from_language = from_language\n",
    "        self.calc_book_token_count()\n",
    "        self.translater = Translater(model)\n",
    "        self.prompt_manager = PromptManager(model)\n",
    "\n",
    "    def calc_book_token_count(self, force_update=False) -> None:\n",
    "        self.book.set_token_count(self.from_language, self.model, force_update)\n",
    "\n",
    "    def create_context(self, component: SomeTextComponent, contextual_lines=None) -> PromptContext:\n",
    "        lines = component_to_lines(component)\n",
    "        return PromptContext(lines, self.from_language, self.to_language, contextual_lines)\n",
    "\n",
    "    def get_all_prompt_contexts(self) -> list[PromptContext]:\n",
    "        return self.create_segment_prompt_context_from_any(self.book)\n",
    "\n",
    "    def reduce_output_from_components(\n",
    "        self, components: list[TextComponent]\n",
    "    ) -> list[PromptContext]:\n",
    "        if len(components) == 1:\n",
    "            return self.create_segment_prompt_context_from_any(components[0])\n",
    "        index = 0\n",
    "        result = []\n",
    "        while len(components[:-index]) > 1:\n",
    "            current_context = self.create_context(components[:-index], None)\n",
    "            if self.prompt_manager.is_able_to_get_output(current_context):\n",
    "                result.extend(self.create_segment_prompt_context_from_any(components[:-index]))\n",
    "                result.extend(self.create_segment_prompt_context_from_any(components[-index:]))\n",
    "                return result\n",
    "            else:\n",
    "                index += 1\n",
    "        result.extend(self.create_segment_prompt_context_from_any(components[0].contents))\n",
    "        result.extend(self.create_segment_prompt_context_from_any(components[1:]))\n",
    "        return result\n",
    "\n",
    "    def reduce_output_from_a_componnent(self, a_component: TextComponent) -> list[PromptContext]:\n",
    "        if isinstance(a_component, Line):\n",
    "            logger.error(\n",
    "                \"failed to create prompt\",\n",
    "                at=\"create_segment_prompt_from_any\",\n",
    "                error=\"The line is too big to translate.\",\n",
    "                line=a_component.text,\n",
    "            )\n",
    "            msg = f\"The line is too big to translate.{a_component}\"\n",
    "            raise PromptSizeError(msg)\n",
    "        else:\n",
    "            return self.reduce_output(a_component.contents)\n",
    "\n",
    "    def reduce_output(self, component: SomeTextComponent) -> list[PromptContext]:\n",
    "        if isinstance(component, list):\n",
    "            return self.reduce_output_from_components(component)\n",
    "        else:\n",
    "            return self.reduce_output_from_a_componnent(component)\n",
    "\n",
    "    def create_segment_prompt_context_from_any(\n",
    "        self, component: SomeTextComponent\n",
    "    ) -> list[PromptContext]:\n",
    "        try:\n",
    "            result: list[PromptContext] = []\n",
    "            current_context = self.create_context(component)\n",
    "            if not self.prompt_manager.is_able_to_get_output(current_context):\n",
    "                print(\"not able to get output\")\n",
    "                result.extend(self.reduce_output(component))\n",
    "            print(\"able to get output\")\n",
    "\n",
    "            if not self.prompt_manager.is_able_to_send_prompt(current_context):\n",
    "                print(\"not able to send prompt\")\n",
    "                result.extend(self.reduce_output(component))\n",
    "            print(\"able to send prompt\")\n",
    "            context_lines = self.append_some_context_as_long_as_affordable(component)\n",
    "            # print(\"context_lines\", context_lines)\n",
    "            result.append(self.create_context(component, context_lines))\n",
    "            return result\n",
    "\n",
    "        except Exception as e:\n",
    "            logger.exception(\n",
    "                \"failed to create prompt\",\n",
    "                at=\"create_segment_prompt_from_any\",\n",
    "                error=e,\n",
    "                component=component,\n",
    "            )\n",
    "            msg = f\"failed to create prompt {e}\"\n",
    "            raise ValueError(msg)\n",
    "\n",
    "    def find_context_start_index(\n",
    "        self,\n",
    "        component: SomeTextComponent,\n",
    "        target_line_start_index: int,\n",
    "        target_line_end_index: int,\n",
    "    ) -> int:  # type: ignore\n",
    "        # TODO: Not clever code here.\n",
    "\n",
    "        move_count = 1\n",
    "        book_lines = self.book.lines\n",
    "        while True:\n",
    "            start_index_trial = target_line_start_index - move_count\n",
    "            if start_index_trial < 0:\n",
    "                return 0\n",
    "            current_context = self.create_context(\n",
    "                component, book_lines[start_index_trial : target_line_end_index + 1]\n",
    "            )\n",
    "            if self.prompt_manager.is_able_to_send_prompt(current_context):\n",
    "                move_count += 1\n",
    "            else:\n",
    "                return start_index_trial + 1\n",
    "\n",
    "    def find_context_end_index(\n",
    "        self,\n",
    "        component: SomeTextComponent,\n",
    "        target_line_start_index: int,\n",
    "        target_line_end_index: int,\n",
    "    ) -> int:  # type: ignore\n",
    "        move_count = 1\n",
    "        book_lines = self.book.lines\n",
    "        while True:\n",
    "            end_index_trial = target_line_end_index + move_count\n",
    "            if end_index_trial > len(book_lines) - 1:\n",
    "                return len(book_lines) - 1\n",
    "            # TODO: Not clever code here.\n",
    "            current_context = self.create_context(\n",
    "                component, book_lines[target_line_start_index : end_index_trial + 1]\n",
    "            )\n",
    "            if self.prompt_manager.is_able_to_send_prompt(current_context):\n",
    "                move_count += 1\n",
    "            else:\n",
    "                return end_index_trial - 1\n",
    "\n",
    "    def append_some_context_as_long_as_affordable(\n",
    "        self, component: SomeTextComponent\n",
    "    ) -> Lines | None:\n",
    "        if isinstance(component, list):\n",
    "            target_line_start_index = component[0].lines[0].id\n",
    "            target_line_end_index = component[-1].lines[-1].id\n",
    "        else:\n",
    "            target_line_start_index = component.lines[0].id\n",
    "            target_line_end_index = component.lines[-1].id\n",
    "\n",
    "        book_lines = self.book.lines\n",
    "        start_index = self.find_context_start_index(\n",
    "            component, target_line_start_index, target_line_end_index\n",
    "        )\n",
    "        end_index = self.find_context_end_index(component, start_index, target_line_end_index)\n",
    "        if start_index == target_line_start_index and end_index == target_line_end_index:\n",
    "            return []\n",
    "        else:\n",
    "            return book_lines[start_index:end_index]"
   ]
  },
  {
   "cell_type": "code",
   "execution_count": 9,
   "id": "da046ba0-b852-4b7e-bd82-3f64f05db967",
   "metadata": {},
   "outputs": [],
   "source": [
    "bt = BookTranslaor(b, g, LanguageEnum.jpn)"
   ]
  },
  {
   "cell_type": "code",
   "execution_count": 10,
   "id": "e404892a-74ae-4352-bfe2-2d39c69399b4",
   "metadata": {},
   "outputs": [
    {
     "name": "stdout",
     "output_type": "stream",
     "text": [
      "not able to get output\n",
      "able to get output\n",
      "able to send prompt\n",
      "able to get output\n",
      "able to send prompt\n",
      "able to get output\n",
      "able to send prompt\n"
     ]
    }
   ],
   "source": [
    "cps = bt.create_segment_prompt_context_from_any(b)"
   ]
  },
  {
   "cell_type": "code",
   "execution_count": null,
   "id": "467b4345-b932-4f78-a475-54ec1197631e",
   "metadata": {},
   "outputs": [],
   "source": []
  },
  {
   "cell_type": "code",
   "execution_count": 11,
   "id": "b18aaee3-c91b-438c-bba4-042eb79af3b6",
   "metadata": {},
   "outputs": [
    {
     "data": {
      "text/plain": [
       "3"
      ]
     },
     "execution_count": 11,
     "metadata": {},
     "output_type": "execute_result"
    }
   ],
   "source": [
    "len(cps)"
   ]
  },
  {
   "cell_type": "code",
   "execution_count": 12,
   "id": "003f60e1-2107-460f-b655-d8980aa6c721",
   "metadata": {},
   "outputs": [
    {
     "data": {
      "text/plain": [
       "1"
      ]
     },
     "execution_count": 12,
     "metadata": {},
     "output_type": "execute_result"
    }
   ],
   "source": [
    "len(cps[0].lines)"
   ]
  },
  {
   "cell_type": "code",
   "execution_count": 13,
   "id": "cfc86a97-51c4-421d-8672-eb7efb85ee3e",
   "metadata": {},
   "outputs": [
    {
     "data": {
      "text/plain": [
       "1"
      ]
     },
     "execution_count": 13,
     "metadata": {},
     "output_type": "execute_result"
    }
   ],
   "source": [
    "len(cps[1].lines)"
   ]
  },
  {
   "cell_type": "code",
   "execution_count": 14,
   "id": "f640205e-806f-47da-8b11-cc8f03abf599",
   "metadata": {},
   "outputs": [
    {
     "data": {
      "text/plain": [
       "25"
      ]
     },
     "execution_count": 14,
     "metadata": {},
     "output_type": "execute_result"
    }
   ],
   "source": [
    "len(cps[2].lines)"
   ]
  },
  {
   "cell_type": "code",
   "execution_count": 15,
   "id": "0fdbac92-be83-491a-ae83-2213a30aa5f1",
   "metadata": {},
   "outputs": [
    {
     "data": {
      "text/plain": [
       "3950"
      ]
     },
     "execution_count": 15,
     "metadata": {},
     "output_type": "execute_result"
    }
   ],
   "source": [
    "cps[2].get_input_token_count(g)\n",
    "cps[2].get_output_token_count(g)"
   ]
  },
  {
   "cell_type": "code",
   "execution_count": 16,
   "id": "d17c0a5d-e0b2-4b3c-b054-d3c3d681dd87",
   "metadata": {},
   "outputs": [
    {
     "data": {
      "text/plain": [
       "2048"
      ]
     },
     "execution_count": 16,
     "metadata": {},
     "output_type": "execute_result"
    }
   ],
   "source": [
    "g.output_token_limit"
   ]
  },
  {
   "cell_type": "code",
   "execution_count": 17,
   "id": "acd86a8f-19db-4856-8b49-d0d7b1f6d3ee",
   "metadata": {},
   "outputs": [
    {
     "data": {
      "text/plain": [
       "25"
      ]
     },
     "execution_count": 17,
     "metadata": {},
     "output_type": "execute_result"
    }
   ],
   "source": [
    "len(b.lines)"
   ]
  },
  {
   "cell_type": "code",
   "execution_count": 18,
   "id": "3e25e4f2-3e32-4c20-a0ba-65721615fe8e",
   "metadata": {},
   "outputs": [
    {
     "data": {
      "text/plain": [
       "17"
      ]
     },
     "execution_count": 18,
     "metadata": {},
     "output_type": "execute_result"
    }
   ],
   "source": [
    "cps[0].get_input_token_count(g)"
   ]
  },
  {
   "cell_type": "code",
   "execution_count": 19,
   "id": "7dfb7d0d-5ae3-4a1a-bba8-4c09898ad1a2",
   "metadata": {},
   "outputs": [
    {
     "data": {
      "text/plain": [
       "80"
      ]
     },
     "execution_count": 19,
     "metadata": {},
     "output_type": "execute_result"
    }
   ],
   "source": [
    "cps[1].get_output_token_count(g)"
   ]
  },
  {
   "cell_type": "code",
   "execution_count": 20,
   "id": "1ce2f10c-55b6-49c9-9374-e5a6983f416e",
   "metadata": {},
   "outputs": [
    {
     "data": {
      "text/plain": [
       "1"
      ]
     },
     "execution_count": 20,
     "metadata": {},
     "output_type": "execute_result"
    }
   ],
   "source": [
    "len(cps[1].lines)"
   ]
  },
  {
   "cell_type": "code",
   "execution_count": 21,
   "id": "abd200f0-d5ec-4812-a906-51029c01fe4d",
   "metadata": {},
   "outputs": [
    {
     "data": {
      "text/plain": [
       "24"
      ]
     },
     "execution_count": 21,
     "metadata": {},
     "output_type": "execute_result"
    }
   ],
   "source": [
    "len(cps[0].contextual_lines)"
   ]
  },
  {
   "cell_type": "code",
   "execution_count": 22,
   "id": "16640d03-ade2-49c2-99bb-1f9aaf7ee7be",
   "metadata": {},
   "outputs": [
    {
     "data": {
      "text/plain": [
       "24"
      ]
     },
     "execution_count": 22,
     "metadata": {},
     "output_type": "execute_result"
    }
   ],
   "source": [
    "len(cps[0].contextual_lines)"
   ]
  },
  {
   "cell_type": "code",
   "execution_count": 23,
   "id": "d968ed80-6b09-4133-b24d-1d479ca956df",
   "metadata": {},
   "outputs": [
    {
     "data": {
      "text/plain": [
       "1"
      ]
     },
     "execution_count": 23,
     "metadata": {},
     "output_type": "execute_result"
    }
   ],
   "source": [
    "len(cps[0].lines)"
   ]
  },
  {
   "cell_type": "code",
   "execution_count": 24,
   "id": "536f6ce5-1d15-4a7c-95ee-05b438c7f504",
   "metadata": {},
   "outputs": [],
   "source": [
    "all = bt.create_context(b)"
   ]
  },
  {
   "cell_type": "code",
   "execution_count": 25,
   "id": "ee393155-c75b-439f-be5b-a4f6822a79cf",
   "metadata": {},
   "outputs": [
    {
     "data": {
      "text/plain": [
       "2048"
      ]
     },
     "execution_count": 25,
     "metadata": {},
     "output_type": "execute_result"
    }
   ],
   "source": [
    "g.output_token_limit"
   ]
  },
  {
   "cell_type": "code",
   "execution_count": 26,
   "id": "e95110ad-007c-4559-9bdf-b20814a09652",
   "metadata": {},
   "outputs": [
    {
     "data": {
      "text/plain": [
       "3950"
      ]
     },
     "execution_count": 26,
     "metadata": {},
     "output_type": "execute_result"
    }
   ],
   "source": [
    "bt.prompt_manager.calculate_output_token(all)"
   ]
  },
  {
   "cell_type": "code",
   "execution_count": 27,
   "id": "39d6d102-5030-4ca1-a7b2-e5e1f6fa772b",
   "metadata": {},
   "outputs": [
    {
     "data": {
      "text/plain": [
       "798"
      ]
     },
     "execution_count": 27,
     "metadata": {},
     "output_type": "execute_result"
    }
   ],
   "source": [
    "bt.prompt_manager.calculate_input_token(all)"
   ]
  },
  {
   "cell_type": "code",
   "execution_count": 28,
   "id": "e37bafb0-29d4-4489-ad21-27a101ba3f68",
   "metadata": {},
   "outputs": [
    {
     "data": {
      "text/plain": [
       "80"
      ]
     },
     "execution_count": 28,
     "metadata": {},
     "output_type": "execute_result"
    }
   ],
   "source": [
    "cps[1].get_output_token_count(g)"
   ]
  },
  {
   "cell_type": "code",
   "execution_count": 29,
   "id": "c5e41f1c-9341-4fe8-ac76-26ef3e3dd63e",
   "metadata": {},
   "outputs": [
    {
     "data": {
      "text/plain": [
       "16"
      ]
     },
     "execution_count": 29,
     "metadata": {},
     "output_type": "execute_result"
    }
   ],
   "source": [
    "cps[1].get_input_token_count(g)"
   ]
  },
  {
   "cell_type": "code",
   "execution_count": 30,
   "id": "3b5ad552-5060-48ac-a7b1-e928eca47732",
   "metadata": {},
   "outputs": [
    {
     "ename": "NameError",
     "evalue": "name 'a' is not defined",
     "output_type": "error",
     "traceback": [
      "\u001b[0;31m---------------------------------------------------------------------------\u001b[0m",
      "\u001b[0;31mNameError\u001b[0m                                 Traceback (most recent call last)",
      "Cell \u001b[0;32mIn[30], line 1\u001b[0m\n\u001b[0;32m----> 1\u001b[0m \u001b[38;5;28mlen\u001b[39m(\u001b[43ma\u001b[49m\u001b[38;5;241m.\u001b[39mcontextual_lines)\n",
      "\u001b[0;31mNameError\u001b[0m: name 'a' is not defined"
     ]
    }
   ],
   "source": [
    "len(a.contextual_lines)"
   ]
  },
  {
   "cell_type": "code",
   "execution_count": null,
   "id": "d7610b61-5570-47d7-ae9b-ba88e745d103",
   "metadata": {},
   "outputs": [],
   "source": [
    "ll = component_to_lines(b)"
   ]
  },
  {
   "cell_type": "code",
   "execution_count": null,
   "id": "eb80153e-ffbf-421d-af14-a6d5b6d68d2c",
   "metadata": {},
   "outputs": [],
   "source": [
    "ll[0].text"
   ]
  },
  {
   "cell_type": "code",
   "execution_count": null,
   "id": "67c5e5e3-03af-4a63-a35e-ee5d6cfe8da2",
   "metadata": {},
   "outputs": [],
   "source": [
    "remove_empty_lines(ll)"
   ]
  },
  {
   "cell_type": "code",
   "execution_count": null,
   "id": "2a03b3e4-31f0-403d-ab47-4285ac54db34",
   "metadata": {},
   "outputs": [],
   "source": [
    "bt.create_context(b)"
   ]
  },
  {
   "cell_type": "code",
   "execution_count": null,
   "id": "dcc26145-e702-4ca1-b68c-cb9fc08fb327",
   "metadata": {},
   "outputs": [],
   "source": []
  }
 ],
 "metadata": {
  "kernelspec": {
   "display_name": "Python 3 (ipykernel)",
   "language": "python",
   "name": "python3"
  },
  "language_info": {
   "codemirror_mode": {
    "name": "ipython",
    "version": 3
   },
   "file_extension": ".py",
   "mimetype": "text/x-python",
   "name": "python",
   "nbconvert_exporter": "python",
   "pygments_lexer": "ipython3",
   "version": "3.12.2"
  }
 },
 "nbformat": 4,
 "nbformat_minor": 5
}
