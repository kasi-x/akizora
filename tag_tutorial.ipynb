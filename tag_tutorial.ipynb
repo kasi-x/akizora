{
 "cells": [
  {
   "cell_type": "code",
   "execution_count": 1,
   "id": "81a40d9d-53cc-4bfe-8468-d637d5a60b16",
   "metadata": {},
   "outputs": [
    {
     "ename": "IndentationError",
     "evalue": "unindent does not match any outer indentation level (data_structure.py, line 427)",
     "output_type": "error",
     "traceback": [
      "Traceback \u001b[0;36m(most recent call last)\u001b[0m:\n",
      "\u001b[0m  File \u001b[1;32m~/dev/kasi-x/akizora/.venv/lib/python3.12/site-packages/IPython/core/interactiveshell.py:3577\u001b[0m in \u001b[1;35mrun_code\u001b[0m\n    exec(code_obj, self.user_global_ns, self.user_ns)\u001b[0m\n",
      "\u001b[0;36m  Cell \u001b[0;32mIn[1], line 1\u001b[0;36m\n\u001b[0;31m    from src.data_structure import *\u001b[0;36m\n",
      "\u001b[0;36m  File \u001b[0;32m~/dev/kasi-x/akizora/src/data_structure.py:427\u001b[0;36m\u001b[0m\n\u001b[0;31m    def make_multi_line_translate_prompt(context: PromptContext) -> Prompt:\u001b[0m\n\u001b[0m                                                                           ^\u001b[0m\n\u001b[0;31mIndentationError\u001b[0m\u001b[0;31m:\u001b[0m unindent does not match any outer indentation level\n"
     ]
    }
   ],
   "source": [
    "from src.data_structure import *"
   ]
  },
  {
   "cell_type": "code",
   "execution_count": 2,
   "id": "af1a2066-3bde-4559-b389-2ea4a28d3974",
   "metadata": {},
   "outputs": [],
   "source": [
    "from src.tag import *"
   ]
  },
  {
   "cell_type": "code",
   "execution_count": 3,
   "id": "81ca4927-32f1-4fb7-896c-c93cdb394721",
   "metadata": {},
   "outputs": [],
   "source": [
    "import pprint"
   ]
  },
  {
   "cell_type": "code",
   "execution_count": 4,
   "id": "f1921ad5-9a0c-4cf5-a39b-96e1416412be",
   "metadata": {},
   "outputs": [],
   "source": [
    "text = open(\"sample.txt\").read()\n",
    "\n",
    "start_tag_added_text = mark_sections(text)\n",
    "\n",
    "start_tag_and_placeholder_text, text_placeholders = replace_text_with_placeholder(\n",
    "        start_tag_added_text\n",
    "    )\n",
    "\n",
    "prioritized_tag_text = replace_tags_with_rules(start_tag_and_placeholder_text)\n",
    "tag_complited_text = parse_and_correct_html(prioritized_tag_text)\n",
    "result = restore_text_from_placeholder(tag_complited_text, text_placeholders)\n",
    "\n",
    "#pprint.pprint(result)\n"
   ]
  },
  {
   "cell_type": "code",
   "execution_count": 5,
   "id": "64c02bc0-0146-4d6a-ac56-0cc1d71de26a",
   "metadata": {},
   "outputs": [],
   "source": [
    "html_text = result"
   ]
  },
  {
   "cell_type": "code",
   "execution_count": 6,
   "id": "422f4f96-c46f-4f63-ab8d-aaf502cac2e0",
   "metadata": {},
   "outputs": [
    {
     "name": "stdout",
     "output_type": "stream",
     "text": [
      "Title: PROLOGUE\n",
      "Body: ['Cigars had burned low, and we were beginning to sample the disillusionment...']\n",
      "---\n",
      "Title: CHAPTER 1\n",
      "Body: ['During that third week of May the situation in Baskul had become much worse...']\n",
      "---\n",
      "Title: CHAPTER 2\n",
      "Body: ['The journey was expected to be long and perilous...', '', 'gave him a most charming smile, but her eyes were all for the boy.', '“What life?”', '', '“The life you’re thinking of . . . dinners . . . dances . . . polo . . .', 'all that. . . .”', '', '“But I never said anything about dances and polo! Anyhow, what’s wrong', 'with them? D’you mean that you’re not coming with me? You’re going to', 'stay here like the other two? Then at least you shan’t stop _me_ from', 'clearing out of it!” Mallinson threw down his cigarette and sprang', 'towards the door with eyes blazing. “You’re off your head!” he cried', 'wildly. “You’re mad, Conway, that’s what’s the matter with you! I know', 'you’re always calm, and I’m always excited, but I’m sane, at any rate,', 'and you’re not! They warned me about it before I joined you at Baskul,', 'and I thought they were wrong, but now I can see they weren’t——”', '', '“To Lo-Tsen?”', '', '“Yes, if you want to know.”', '', 'Conway got up and held out his hand. “Good-bye, Mallinson.”', '', '“For the last time, you’re not coming?”', '', '“I can’t.”', '', '“Good-bye, then.”', '', 'They shook hands, and Mallinson left.', '', '', '', 'Conway sat alone in the lantern-light. It seemed to him, in a phrase', 'engraved on memory, that all the loveliest things were transient and', 'perishable, that the two worlds were finally beyond reconciliation, and', 'that one of them hung, as always, by a thread. After he had pondered for', 'some time he looked at his watch; it was ten minutes to three.']\n",
      "---\n",
      "Title: EPILOGUE\n",
      "Body: ['IT WAS in Delhi that I met Rutherford again. We had been guests at a', 'Viceregal dinner-party, but distance and ceremonial kept us apart until', 'the turbaned flunkeys handed us our hats afterwards. “Come back to my', 'hotel and have a drink,” he invited.', '', '“You thought it might be easier to look for the valley of Blue Moon?”', '', '“Well, it did seem as if it might be a more fixed proposition. I suppose', 'you glanced at that manuscript of mine?”', '', '“Much more than glanced at it. I should have returned it, by the way,', 'but you left no address.”', '', 'Rutherford nodded. “I wonder what you made of it?”', '', 'Rutherford flicked his cigar as if the narration had excited him quite', 'as much as he hoped it had me. Continuing, he said: “The little fellow', 'looked at me solemnly for a moment, and then answered in that funny', 'clipped English that the educated Chinese have—‘Oh no, she was most', 'old—most old of anyone I have ever seen.’”', '', '', '', 'We sat for a long time in silence, and then talked again of Conway as I', 'remembered him, boyish and gifted and full of charm, and of the War that', 'had altered him, and of so many mysteries of time and age and of the', 'mind, and of the little Manchu who had been ‘most old,’ and of the', 'strange ultimate dream of Blue Moon. “Do you think he will ever find', 'it?” I asked.', '', 'WOODFORD GREEN', 'April 1933']\n",
      "---\n",
      "Title: THE END\n",
      "Body: []\n",
      "---\n",
      "Title: TRANSCRIBER NOTES\n",
      "Body: ['Misspelled words and printer errors have been corrected. Where multiple', 'spellings occur, majority use has been employed.', '', 'Punctuation has been maintained except where obvious printer errors', 'occur.', '', '[The end of _Lost Horizon_ by James Hilton]']\n",
      "---\n"
     ]
    }
   ],
   "source": [
    "from bs4 import BeautifulSoup\n",
    "import re\n",
    "\n",
    "class Section:\n",
    "    def __init__(self, title, body):\n",
    "        self.title = title\n",
    "        self.body = body\n",
    "\n",
    "def find_section_boundaries(html, tags):\n",
    "    tags_regex = '|'.join(tags)\n",
    "    pattern = re.compile(f\"<(/)?({tags_regex})(:\\\\d*)?>\")\n",
    "    boundaries = []\n",
    "    for match in pattern.finditer(html):\n",
    "        tag_full, is_closing, tag_name, span = match.group(0), bool(match.group(1)), match.group(2), match.span()\n",
    "        boundaries.append((is_closing, tag_name, span))\n",
    "    return boundaries\n",
    "\n",
    "def construct_sections(html, boundaries):\n",
    "    sections = []\n",
    "    open_tag = None\n",
    "    section_start = 0\n",
    "    for is_closing, tag_name, span in boundaries:\n",
    "        if not is_closing:\n",
    "            if open_tag is not None:\n",
    "                sections.append((open_tag, html[section_start:span[0]].strip()))\n",
    "            open_tag = tag_name\n",
    "            section_start = span[1]\n",
    "        else:\n",
    "            if open_tag == tag_name:\n",
    "                sections.append((tag_name, html[section_start:span[0]].strip()))\n",
    "                open_tag = None\n",
    "    return sections\n",
    "\n",
    "def extract_content_from_section(section):\n",
    "    soup = BeautifulSoup(section, 'html.parser')\n",
    "    title = extract_title_or_body(soup, 'TITLE', True)\n",
    "    body = extract_title_or_body(soup, 'body')\n",
    "    \n",
    "    # Adjust title or body if they are not found\n",
    "    if not title and not body:\n",
    "        # If both title and body are missing, use raw text as the title.\n",
    "        title = soup.get_text(strip=True)\n",
    "    elif title and not body:\n",
    "        # If title exists but body is missing, use raw text as the body.\n",
    "        body = [soup.get_text(strip=True)]\n",
    "    \n",
    "    return title, body\n",
    "\n",
    "def extract_title_or_body(soup, tag, is_title=False):\n",
    "    if is_title:\n",
    "        title_tag = soup.find(lambda tag: tag.name.upper().endswith('TITLE'))\n",
    "        return title_tag.get_text(strip=True) if title_tag else \"\"\n",
    "    else:\n",
    "        body_tag = soup.find(tag)\n",
    "        return body_tag.get_text(strip=True).split(\"\\n\") if body_tag else []\n",
    "\n",
    "def process_html_into_sections(html_text, tag_list):\n",
    "    boundaries = find_section_boundaries(html_text, tag_list)\n",
    "    raw_sections = construct_sections(html_text, boundaries)\n",
    "    processed_sections = [Section(*extract_content_from_section(section)) for _, section in raw_sections]\n",
    "    return processed_sections\n",
    "\n",
    "# 使用例\n",
    "tag_list = ['PROLOGUE', 'CHAPTER', 'EPILOGUE', 'THE_END', 'TRANSCRIBER_NOTES']\n",
    "\n",
    "processed_sections = process_html_into_sections(html_text, tag_list)\n",
    "for section in processed_sections:\n",
    "    print(f\"Title: {section.title}\")\n",
    "    print(\"Body:\", section.body)\n",
    "    print(\"---\")\n"
   ]
  },
  {
   "cell_type": "code",
   "execution_count": 7,
   "id": "35d836e8-c83c-4c0d-92d0-a27cb05b3faf",
   "metadata": {},
   "outputs": [
    {
     "name": "stdout",
     "output_type": "stream",
     "text": [
      "Title: PROLOGUE\n",
      "Body: ['Cigars had burned low, and we were beginning to sample the disillusionment...']\n",
      "---\n",
      "Title: CHAPTER 1\n",
      "Body: ['During that third week of May the situation in Baskul had become much worse...']\n",
      "---\n",
      "Title: CHAPTER 2\n",
      "Body: ['The journey was expected to be long and perilous...', '', 'gave him a most charming smile, but her eyes were all for the boy.', '“What life?”', '', '“The life you’re thinking of . . . dinners . . . dances . . . polo . . .', 'all that. . . .”', '', '“But I never said anything about dances and polo! Anyhow, what’s wrong', 'with them? D’you mean that you’re not coming with me? You’re going to', 'stay here like the other two? Then at least you shan’t stop _me_ from', 'clearing out of it!” Mallinson threw down his cigarette and sprang', 'towards the door with eyes blazing. “You’re off your head!” he cried', 'wildly. “You’re mad, Conway, that’s what’s the matter with you! I know', 'you’re always calm, and I’m always excited, but I’m sane, at any rate,', 'and you’re not! They warned me about it before I joined you at Baskul,', 'and I thought they were wrong, but now I can see they weren’t——”', '', '“To Lo-Tsen?”', '', '“Yes, if you want to know.”', '', 'Conway got up and held out his hand. “Good-bye, Mallinson.”', '', '“For the last time, you’re not coming?”', '', '“I can’t.”', '', '“Good-bye, then.”', '', 'They shook hands, and Mallinson left.', '', '', '', 'Conway sat alone in the lantern-light. It seemed to him, in a phrase', 'engraved on memory, that all the loveliest things were transient and', 'perishable, that the two worlds were finally beyond reconciliation, and', 'that one of them hung, as always, by a thread. After he had pondered for', 'some time he looked at his watch; it was ten minutes to three.']\n",
      "---\n",
      "Title: EPILOGUE\n",
      "Body: ['IT WAS in Delhi that I met Rutherford again. We had been guests at a', 'Viceregal dinner-party, but distance and ceremonial kept us apart until', 'the turbaned flunkeys handed us our hats afterwards. “Come back to my', 'hotel and have a drink,” he invited.', '', '“You thought it might be easier to look for the valley of Blue Moon?”', '', '“Well, it did seem as if it might be a more fixed proposition. I suppose', 'you glanced at that manuscript of mine?”', '', '“Much more than glanced at it. I should have returned it, by the way,', 'but you left no address.”', '', 'Rutherford nodded. “I wonder what you made of it?”', '', 'Rutherford flicked his cigar as if the narration had excited him quite', 'as much as he hoped it had me. Continuing, he said: “The little fellow', 'looked at me solemnly for a moment, and then answered in that funny', 'clipped English that the educated Chinese have—‘Oh no, she was most', 'old—most old of anyone I have ever seen.’”', '', '', '', 'We sat for a long time in silence, and then talked again of Conway as I', 'remembered him, boyish and gifted and full of charm, and of the War that', 'had altered him, and of so many mysteries of time and age and of the', 'mind, and of the little Manchu who had been ‘most old,’ and of the', 'strange ultimate dream of Blue Moon. “Do you think he will ever find', 'it?” I asked.', '', 'WOODFORD GREEN', 'April 1933']\n",
      "---\n",
      "Title: THE END\n",
      "Body: []\n",
      "---\n",
      "Title: TRANSCRIBER NOTES\n",
      "Body: ['Misspelled words and printer errors have been corrected. Where multiple', 'spellings occur, majority use has been employed.', '', 'Punctuation has been maintained except where obvious printer errors', 'occur.', '', '[The end of _Lost Horizon_ by James Hilton]']\n",
      "---\n"
     ]
    }
   ],
   "source": [
    "from bs4 import BeautifulSoup\n",
    "import re\n",
    "\n",
    "class Section:\n",
    "    def __init__(self, title, body):\n",
    "        self.title = title\n",
    "        self.body = body\n",
    "\n",
    "class HTMLSectionProcessor:\n",
    "    def __init__(self, html, tags):\n",
    "        self.html = html\n",
    "        self.tags = tags\n",
    "\n",
    "    def _find_section_boundaries(self):\n",
    "        tags_regex = '|'.join(self.tags)\n",
    "        pattern = re.compile(f\"<(/)?({tags_regex})(:\\\\d*)?>\")\n",
    "        return [(bool(match.group(1)), match.group(2), match.span()) for match in pattern.finditer(self.html)]\n",
    "\n",
    "\n",
    "    # _construct_sectionsメソッドの修正例\n",
    "    def _construct_sections(self, boundaries):\n",
    "        sections = []\n",
    "        open_tag = None\n",
    "        section_start = None\n",
    "        for is_closing, tag_name, span in boundaries:\n",
    "            if not is_closing and open_tag is None:\n",
    "                open_tag = tag_name\n",
    "                section_start = span[1]  # タグの終了直後からセクションを開始\n",
    "            elif is_closing and open_tag == tag_name:\n",
    "                sections.append((tag_name, self.html[section_start:span[0]].strip()))\n",
    "                open_tag = None\n",
    "        return sections\n",
    "    \n",
    "    # extract_content_from_sectionメソッドの調整\n",
    "    @staticmethod\n",
    "    def extract_content_from_section(section):\n",
    "        soup = BeautifulSoup(section, 'html.parser')\n",
    "        title, body = extract_title_or_body(soup, 'TITLE', True), extract_title_or_body(soup, 'body')\n",
    "        \n",
    "        if not title and not body:\n",
    "            title = soup.get_text(strip=True)\n",
    "        elif title and not body:\n",
    "            body = [soup.get_text(strip=True)]\n",
    "        \n",
    "        return title, body\n",
    "\n",
    "    @staticmethod\n",
    "    def _extract_title_or_body(soup, tag, is_title=False):\n",
    "        tag_func = lambda tag: tag.name.upper().endswith('TITLE') if is_title else tag.name.lower() == tag\n",
    "        found_tag = soup.find(tag_func)\n",
    "        if found_tag:\n",
    "            text = found_tag.get_text(strip=True)\n",
    "            return text if is_title else text.split(\"\\n\")\n",
    "        return \"\" if is_title else []\n",
    "\n",
    "    def process(self):\n",
    "        boundaries = self._find_section_boundaries()\n",
    "        raw_sections = self._construct_sections(boundaries)\n",
    "        return [Section(*self.extract_content_from_section(section)) for _, section in raw_sections]\n",
    "\n",
    "import re\n",
    "\n",
    "def replace_single_newline_with_space(text):\n",
    "    # 単独の改行を空白に置換。(?<!\\n)と(?!\\n)は直前直後に改行がないことを確認する\n",
    "    return re.sub(r'(?<!\\n)\\n(?!\\n)', ' ', text)\n",
    "\n",
    "\n",
    "\n",
    "tag_list = ['PROLOGUE', 'CHAPTER', 'EPILOGUE', 'THE_END', 'TRANSCRIBER_NOTES']\n",
    "processor = HTMLSectionProcessor(result, tag_list)\n",
    "processed_sections = processor.process()\n",
    "chapters = []\n",
    "for section in processed_sections:\n",
    "    print(f\"Title: {section.title}\")\n",
    "    print(\"Body:\", section.body)\n",
    "    print(\"---\")\n",
    "    lines = []\n",
    "    joined = \"\\n\".join(section.body).split(\"\\n\\n\")\n",
    "    for one_line_text in joined: \n",
    "        one_line_text = replace_single_newline_with_space(one_line_text)\n",
    "        lines.append(Line(one_line_text))\n",
    "    chapters.append(Chapter(_title=section.title, contents=lines))"
   ]
  },
  {
   "cell_type": "code",
   "execution_count": 8,
   "id": "f48a25a8-76e8-4198-9107-e93269f31cec",
   "metadata": {},
   "outputs": [],
   "source": [
    "a = Book(_title = \"lost horizon\", contents = chapters)"
   ]
  },
  {
   "cell_type": "code",
   "execution_count": 9,
   "id": "e8106658-5525-4937-b5fb-056e52696aef",
   "metadata": {},
   "outputs": [
    {
     "data": {
      "text/plain": [
       "567"
      ]
     },
     "execution_count": 9,
     "metadata": {},
     "output_type": "execute_result"
    }
   ],
   "source": [
    "a.word_count"
   ]
  },
  {
   "cell_type": "code",
   "execution_count": 10,
   "id": "30d1db70-9cbf-4075-900a-93920356dd24",
   "metadata": {},
   "outputs": [
    {
     "data": {
      "text/plain": [
       "[['Cigars had burned low, and we were beginning to sample the disillusionment...'],\n",
       " ['During that third week of May the situation in Baskul had become much worse...'],\n",
       " ['The journey was expected to be long and perilous...',\n",
       "  'gave him a most charming smile, but her eyes were all for the boy. “What life?”',\n",
       "  '“The life you’re thinking of . . . dinners . . . dances . . . polo . . . all that. . . .”',\n",
       "  '“But I never said anything about dances and polo! Anyhow, what’s wrong with them? D’you mean that you’re not coming with me? You’re going to stay here like the other two? Then at least you shan’t stop _me_ from clearing out of it!” Mallinson threw down his cigarette and sprang towards the door with eyes blazing. “You’re off your head!” he cried wildly. “You’re mad, Conway, that’s what’s the matter with you! I know you’re always calm, and I’m always excited, but I’m sane, at any rate, and you’re not! They warned me about it before I joined you at Baskul, and I thought they were wrong, but now I can see they weren’t——”',\n",
       "  '“To Lo-Tsen?”',\n",
       "  '“Yes, if you want to know.”',\n",
       "  'Conway got up and held out his hand. “Good-bye, Mallinson.”',\n",
       "  '“For the last time, you’re not coming?”',\n",
       "  '“I can’t.”',\n",
       "  '“Good-bye, then.”',\n",
       "  'They shook hands, and Mallinson left.',\n",
       "  '',\n",
       "  'Conway sat alone in the lantern-light. It seemed to him, in a phrase engraved on memory, that all the loveliest things were transient and perishable, that the two worlds were finally beyond reconciliation, and that one of them hung, as always, by a thread. After he had pondered for some time he looked at his watch; it was ten minutes to three.'],\n",
       " ['IT WAS in Delhi that I met Rutherford again. We had been guests at a Viceregal dinner-party, but distance and ceremonial kept us apart until the turbaned flunkeys handed us our hats afterwards. “Come back to my hotel and have a drink,” he invited.',\n",
       "  '“You thought it might be easier to look for the valley of Blue Moon?”',\n",
       "  '“Well, it did seem as if it might be a more fixed proposition. I suppose you glanced at that manuscript of mine?”',\n",
       "  '“Much more than glanced at it. I should have returned it, by the way, but you left no address.”',\n",
       "  'Rutherford nodded. “I wonder what you made of it?”',\n",
       "  'Rutherford flicked his cigar as if the narration had excited him quite as much as he hoped it had me. Continuing, he said: “The little fellow looked at me solemnly for a moment, and then answered in that funny clipped English that the educated Chinese have—‘Oh no, she was most old—most old of anyone I have ever seen.’”',\n",
       "  '',\n",
       "  'We sat for a long time in silence, and then talked again of Conway as I remembered him, boyish and gifted and full of charm, and of the War that had altered him, and of so many mysteries of time and age and of the mind, and of the little Manchu who had been ‘most old,’ and of the strange ultimate dream of Blue Moon. “Do you think he will ever find it?” I asked.',\n",
       "  'WOODFORD GREEN April 1933'],\n",
       " [''],\n",
       " ['Misspelled words and printer errors have been corrected. Where multiple spellings occur, majority use has been employed.',\n",
       "  'Punctuation has been maintained except where obvious printer errors occur.',\n",
       "  '[The end of _Lost Horizon_ by James Hilton]']]"
      ]
     },
     "execution_count": 10,
     "metadata": {},
     "output_type": "execute_result"
    }
   ],
   "source": [
    "a.show_conets"
   ]
  },
  {
   "cell_type": "code",
   "execution_count": 12,
   "id": "2f2e524e-c25d-462d-929b-fbb80a871553",
   "metadata": {},
   "outputs": [],
   "source": [
    "aa = a.show_conets_with_title"
   ]
  },
  {
   "cell_type": "code",
   "execution_count": 13,
   "id": "8c38065b-e259-42dd-8eb9-edd9cfd13bc8",
   "metadata": {},
   "outputs": [],
   "source": [
    "import pprint"
   ]
  },
  {
   "cell_type": "code",
   "execution_count": 15,
   "id": "33270f3c-0eb2-4651-9879-7267fd2d7e54",
   "metadata": {},
   "outputs": [
    {
     "data": {
      "text/plain": [
       "'-----chapter : PROLOGUE-----\\n\\nCigars had burned low, and we were beginning to sample the disillusionment...\\n\\n-----chapter : CHAPTER 1-----\\n\\nDuring that third week of May the situation in Baskul had become much worse...\\n\\n-----chapter : CHAPTER 2-----\\n\\nThe journey was expected to be long and perilous...\\ngave him a most charming smile, but her eyes were all for the boy. “What life?”\\n“The life you’re thinking of . . . dinners . . . dances . . . polo . . . all that. . . .”\\n“But I never said anything about dances and polo! Anyhow, what’s wrong with them? D’you mean that you’re not coming with me? You’re going to stay here like the other two? Then at least you shan’t stop _me_ from clearing out of it!” Mallinson threw down his cigarette and sprang towards the door with eyes blazing. “You’re off your head!” he cried wildly. “You’re mad, Conway, that’s what’s the matter with you! I know you’re always calm, and I’m always excited, but I’m sane, at any rate, and you’re not! They warned me about it before I joined you at Baskul, and I thought they were wrong, but now I can see they weren’t——”\\n“To Lo-Tsen?”\\n“Yes, if you want to know.”\\nConway got up and held out his hand. “Good-bye, Mallinson.”\\n“For the last time, you’re not coming?”\\n“I can’t.”\\n“Good-bye, then.”\\nThey shook hands, and Mallinson left.\\n\\nConway sat alone in the lantern-light. It seemed to him, in a phrase engraved on memory, that all the loveliest things were transient and perishable, that the two worlds were finally beyond reconciliation, and that one of them hung, as always, by a thread. After he had pondered for some time he looked at his watch; it was ten minutes to three.\\n\\n-----chapter : EPILOGUE-----\\n\\nIT WAS in Delhi that I met Rutherford again. We had been guests at a Viceregal dinner-party, but distance and ceremonial kept us apart until the turbaned flunkeys handed us our hats afterwards. “Come back to my hotel and have a drink,” he invited.\\n“You thought it might be easier to look for the valley of Blue Moon?”\\n“Well, it did seem as if it might be a more fixed proposition. I suppose you glanced at that manuscript of mine?”\\n“Much more than glanced at it. I should have returned it, by the way, but you left no address.”\\nRutherford nodded. “I wonder what you made of it?”\\nRutherford flicked his cigar as if the narration had excited him quite as much as he hoped it had me. Continuing, he said: “The little fellow looked at me solemnly for a moment, and then answered in that funny clipped English that the educated Chinese have—‘Oh no, she was most old—most old of anyone I have ever seen.’”\\n\\nWe sat for a long time in silence, and then talked again of Conway as I remembered him, boyish and gifted and full of charm, and of the War that had altered him, and of so many mysteries of time and age and of the mind, and of the little Manchu who had been ‘most old,’ and of the strange ultimate dream of Blue Moon. “Do you think he will ever find it?” I asked.\\nWOODFORD GREEN April 1933\\n\\n-----chapter : THE END-----\\n\\n\\n\\n-----chapter : TRANSCRIBER NOTES-----\\n\\nMisspelled words and printer errors have been corrected. Where multiple spellings occur, majority use has been employed.\\nPunctuation has been maintained except where obvious printer errors occur.\\n[The end of _Lost Horizon_ by James Hilton]\\n\\n'"
      ]
     },
     "execution_count": 15,
     "metadata": {},
     "output_type": "execute_result"
    }
   ],
   "source": [
    "aa"
   ]
  },
  {
   "cell_type": "code",
   "execution_count": 16,
   "id": "625223bd-2da5-4502-bc88-de726d46ebfd",
   "metadata": {},
   "outputs": [
    {
     "name": "stdout",
     "output_type": "stream",
     "text": [
      "-----chapter : PROLOGUE-----\n",
      "\n",
      "Cigars had burned low, and we were beginning to sample the disillusionment...\n",
      "\n",
      "-----chapter : CHAPTER 1-----\n",
      "\n",
      "During that third week of May the situation in Baskul had become much worse...\n",
      "\n",
      "-----chapter : CHAPTER 2-----\n",
      "\n",
      "The journey was expected to be long and perilous...\n",
      "gave him a most charming smile, but her eyes were all for the boy. “What life?”\n",
      "“The life you’re thinking of . . . dinners . . . dances . . . polo . . . all that. . . .”\n",
      "“But I never said anything about dances and polo! Anyhow, what’s wrong with them? D’you mean that you’re not coming with me? You’re going to stay here like the other two? Then at least you shan’t stop _me_ from clearing out of it!” Mallinson threw down his cigarette and sprang towards the door with eyes blazing. “You’re off your head!” he cried wildly. “You’re mad, Conway, that’s what’s the matter with you! I know you’re always calm, and I’m always excited, but I’m sane, at any rate, and you’re not! They warned me about it before I joined you at Baskul, and I thought they were wrong, but now I can see they weren’t——”\n",
      "“To Lo-Tsen?”\n",
      "“Yes, if you want to know.”\n",
      "Conway got up and held out his hand. “Good-bye, Mallinson.”\n",
      "“For the last time, you’re not coming?”\n",
      "“I can’t.”\n",
      "“Good-bye, then.”\n",
      "They shook hands, and Mallinson left.\n",
      "\n",
      "Conway sat alone in the lantern-light. It seemed to him, in a phrase engraved on memory, that all the loveliest things were transient and perishable, that the two worlds were finally beyond reconciliation, and that one of them hung, as always, by a thread. After he had pondered for some time he looked at his watch; it was ten minutes to three.\n",
      "\n",
      "-----chapter : EPILOGUE-----\n",
      "\n",
      "IT WAS in Delhi that I met Rutherford again. We had been guests at a Viceregal dinner-party, but distance and ceremonial kept us apart until the turbaned flunkeys handed us our hats afterwards. “Come back to my hotel and have a drink,” he invited.\n",
      "“You thought it might be easier to look for the valley of Blue Moon?”\n",
      "“Well, it did seem as if it might be a more fixed proposition. I suppose you glanced at that manuscript of mine?”\n",
      "“Much more than glanced at it. I should have returned it, by the way, but you left no address.”\n",
      "Rutherford nodded. “I wonder what you made of it?”\n",
      "Rutherford flicked his cigar as if the narration had excited him quite as much as he hoped it had me. Continuing, he said: “The little fellow looked at me solemnly for a moment, and then answered in that funny clipped English that the educated Chinese have—‘Oh no, she was most old—most old of anyone I have ever seen.’”\n",
      "\n",
      "We sat for a long time in silence, and then talked again of Conway as I remembered him, boyish and gifted and full of charm, and of the War that had altered him, and of so many mysteries of time and age and of the mind, and of the little Manchu who had been ‘most old,’ and of the strange ultimate dream of Blue Moon. “Do you think he will ever find it?” I asked.\n",
      "WOODFORD GREEN April 1933\n",
      "\n",
      "-----chapter : THE END-----\n",
      "\n",
      "\n",
      "\n",
      "-----chapter : TRANSCRIBER NOTES-----\n",
      "\n",
      "Misspelled words and printer errors have been corrected. Where multiple spellings occur, majority use has been employed.\n",
      "Punctuation has been maintained except where obvious printer errors occur.\n",
      "[The end of _Lost Horizon_ by James Hilton]\n",
      "\n",
      "\n"
     ]
    }
   ],
   "source": [
    "print(aa)"
   ]
  }
 ],
 "metadata": {
  "kernelspec": {
   "display_name": "Python 3 (ipykernel)",
   "language": "python",
   "name": "python3"
  },
  "language_info": {
   "codemirror_mode": {
    "name": "ipython",
    "version": 3
   },
   "file_extension": ".py",
   "mimetype": "text/x-python",
   "name": "python",
   "nbconvert_exporter": "python",
   "pygments_lexer": "ipython3",
   "version": "3.12.2"
  }
 },
 "nbformat": 4,
 "nbformat_minor": 5
}
