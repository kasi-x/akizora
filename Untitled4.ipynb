{
 "cells": [
  {
   "cell_type": "code",
   "execution_count": 4,
   "id": "2fcaf223-7b10-48c1-b81d-73b5e82f7edd",
   "metadata": {},
   "outputs": [],
   "source": [
    "import re"
   ]
  },
  {
   "cell_type": "code",
   "execution_count": 5,
   "id": "381ba420-a841-4be3-ad81-9d6de037be81",
   "metadata": {},
   "outputs": [],
   "source": [
    "def parse_multi_translated_text_into_dict(text: str) -> dict[int, str]:\n",
    "    result = {}\n",
    "    # parse \"<1>hello <2>world.\" into {1: \"hello\", 2: \"world\"}\n",
    "    tag_and_contents_reg = re.compile(r\"<(\\d+)>(.*?)<(\\d+)>\")\n",
    "    matches = tag_and_contents_reg.findall(text)\n"
   ]
  },
  {
   "cell_type": "code",
   "execution_count": 12,
   "id": "5b74fcbb-3545-408a-9827-e8665e0080c7",
   "metadata": {},
   "outputs": [],
   "source": [
    "text = \"<1>hello <2>world.\""
   ]
  },
  {
   "cell_type": "code",
   "execution_count": 13,
   "id": "c3a5d671-329e-4abc-9cba-19d6ec3422da",
   "metadata": {},
   "outputs": [],
   "source": [
    "tag_and_contents_reg = re.compile(r\"<(\\d+)>(.*?)<\\/(\\d+)>\")\n",
    "matches = tag_and_contents_reg.finditer(text)"
   ]
  },
  {
   "cell_type": "code",
   "execution_count": 15,
   "id": "1ec1b82f-d41d-4b1f-a8c7-1f36d6d17483",
   "metadata": {},
   "outputs": [
    {
     "data": {
      "text/plain": [
       "[]"
      ]
     },
     "execution_count": 15,
     "metadata": {},
     "output_type": "execute_result"
    }
   ],
   "source": [
    "list(matches)"
   ]
  },
  {
   "cell_type": "code",
   "execution_count": 19,
   "id": "420a6889-42d2-4262-b6eb-801086e8ce70",
   "metadata": {},
   "outputs": [
    {
     "name": "stdout",
     "output_type": "stream",
     "text": [
      "{1: 'hello world<you>', 2: 'good morning'}\n"
     ]
    }
   ],
   "source": [
    "import re\n",
    "\n",
    "def text_to_dict_with_regex(text):\n",
    "    pattern = r\"<(\\d+)>(.*?)((?=<\\d+>)|$)\"\n",
    "    matches = re.findall(pattern, text)\n",
    "    data_dict = {}\n",
    "    for match in matches:\n",
    "        key = int(match[0])\n",
    "        value = match[1].strip()\n",
    "        data_dict[key] = value\n",
    "    return data_dict\n",
    "\n",
    "text = \"<1> hello world<you> <2>good morning\"\n",
    "result = text_to_dict_with_regex(text)\n",
    "print(result)\n"
   ]
  },
  {
   "cell_type": "code",
   "execution_count": 17,
   "id": "097e4b32-7674-4303-ab5e-6d50608635f4",
   "metadata": {},
   "outputs": [
    {
     "ename": "ValueError",
     "evalue": "タグが不正です: <1>hello <2>world.",
     "output_type": "error",
     "traceback": [
      "\u001b[0;31m---------------------------------------------------------------------------\u001b[0m",
      "\u001b[0;31mValueError\u001b[0m                                Traceback (most recent call last)",
      "Cell \u001b[0;32mIn[17], line 1\u001b[0m\n\u001b[0;32m----> 1\u001b[0m \u001b[43mparse_multi_translated_text_into_dict\u001b[49m\u001b[43m(\u001b[49m\u001b[43ma\u001b[49m\u001b[43m)\u001b[49m\n",
      "Cell \u001b[0;32mIn[16], line 22\u001b[0m, in \u001b[0;36mparse_multi_translated_text_into_dict\u001b[0;34m(text)\u001b[0m\n\u001b[1;32m     20\u001b[0m   start_tag, content, end_tag \u001b[38;5;241m=\u001b[39m match\u001b[38;5;241m.\u001b[39mgroups()\n\u001b[1;32m     21\u001b[0m   \u001b[38;5;28;01mif\u001b[39;00m start_tag \u001b[38;5;241m!=\u001b[39m end_tag:\n\u001b[0;32m---> 22\u001b[0m     \u001b[38;5;28;01mraise\u001b[39;00m \u001b[38;5;167;01mValueError\u001b[39;00m(\u001b[38;5;124mf\u001b[39m\u001b[38;5;124m\"\u001b[39m\u001b[38;5;124mタグが不正です: \u001b[39m\u001b[38;5;132;01m{\u001b[39;00mtext\u001b[38;5;132;01m}\u001b[39;00m\u001b[38;5;124m\"\u001b[39m)\n\u001b[1;32m     23\u001b[0m   result[\u001b[38;5;28mint\u001b[39m(start_tag)] \u001b[38;5;241m=\u001b[39m content\n\u001b[1;32m     25\u001b[0m \u001b[38;5;28;01mreturn\u001b[39;00m result\n",
      "\u001b[0;31mValueError\u001b[0m: タグが不正です: <1>hello <2>world."
     ]
    }
   ],
   "source": [
    "parse_multi_translated_text_into_dict(a)"
   ]
  },
  {
   "cell_type": "code",
   "execution_count": null,
   "id": "c88211ba-d318-4f72-b30e-cfa35e2f9240",
   "metadata": {},
   "outputs": [],
   "source": []
  }
 ],
 "metadata": {
  "kernelspec": {
   "display_name": "Python 3 (ipykernel)",
   "language": "python",
   "name": "python3"
  },
  "language_info": {
   "codemirror_mode": {
    "name": "ipython",
    "version": 3
   },
   "file_extension": ".py",
   "mimetype": "text/x-python",
   "name": "python",
   "nbconvert_exporter": "python",
   "pygments_lexer": "ipython3",
   "version": "3.12.2"
  }
 },
 "nbformat": 4,
 "nbformat_minor": 5
}
