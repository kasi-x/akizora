{
 "cells": [
  {
   "cell_type": "code",
   "execution_count": 1,
   "id": "af1a2066-3bde-4559-b389-2ea4a28d3974",
   "metadata": {},
   "outputs": [
    {
     "name": "stderr",
     "output_type": "stream",
     "text": [
      "/home/user/dev/kasi-x/akizora/.venv/lib/python3.12/site-packages/tqdm/auto.py:21: TqdmWarning: IProgress not found. Please update jupyter and ipywidgets. See https://ipywidgets.readthedocs.io/en/stable/user_install.html\n",
      "  from .autonotebook import tqdm as notebook_tqdm\n"
     ]
    }
   ],
   "source": [
    "from src.translate_domain import *\n",
    "from src.tag_to_book import *\n",
    "from src.llm_domain import *\n",
    "from src.tag import *"
   ]
  },
  {
   "cell_type": "code",
   "execution_count": 2,
   "id": "81ca4927-32f1-4fb7-896c-c93cdb394721",
   "metadata": {},
   "outputs": [],
   "source": [
    "import pprint"
   ]
  },
  {
   "cell_type": "code",
   "execution_count": 17,
   "id": "acf55fb7-3783-401a-b9e6-cb8e4960e2ec",
   "metadata": {},
   "outputs": [
    {
     "name": "stdout",
     "output_type": "stream",
     "text": [
      "[<src.tag.ProtoChapter object at 0x7f3126e93410>, <src.tag.ProtoChapter object at 0x7f3126d0ea50>, <src.tag.ProtoChapter object at 0x7f3126d0ef60>, <src.tag.ProtoChapter object at 0x7f3126d0e930>, <src.tag.ProtoChapter object at 0x7f3126d0fe60>]\n"
     ]
    }
   ],
   "source": [
    "def remove_single_newlines(text, newline=\"\\n\"):\n",
    "    \"\"\"二個以上、連続した改行コードは無視して、単個の改行コードを削除する.\n",
    "    \n",
    "    Args:\n",
    "      text: 処理対象の文字列\n",
    "      newline: 改行コードの種類\n",
    "    \n",
    "    Returns:\n",
    "      処理後の文字列\n",
    "    \"\"\"\n",
    "    text = text.replace(newline * 3, \"<TRIPLE_LINE>\")\n",
    "    text = text.replace(newline * 2, \"<DOUBLE_LINE>\")\n",
    "    text = text.replace(newline, \" \")\n",
    "    text = text.replace(\"<TRIPLE_LINE>\", \"\\n\\n\\n\")\n",
    "    text = text.replace(\"<DOUBLE_LINE>\", \"\\n\\n\")\n",
    "    \n",
    "    text = text.rstrip()\n",
    "    \n",
    "    return text\n",
    "\n",
    "\n",
    "\n",
    "text = open(\"sample.txt\").read()\n",
    "text = remove_single_newlines(text)\n",
    "\n",
    "start_tag_added_text = mark_sections(text)\n",
    "\n",
    "start_tag_and_placeholder_text, text_placeholders = replace_text_with_placeholder(\n",
    "    start_tag_added_text\n",
    ")\n",
    "\n",
    "prioritized_tag_text = replace_tags_with_rules(start_tag_and_placeholder_text)\n",
    "tag_complited_text = parse_and_correct_html(prioritized_tag_text)\n",
    "result = restore_text_from_placeholder(tag_complited_text, text_placeholders)\n",
    "\n",
    "processor = HTMLSectionProcessor(result, chapter_level_tag_list)\n",
    "processed_sections = processor.process()\n",
    "chapters = []\n",
    "for section in processed_sections:\n",
    "    lines = []\n",
    "    joined = \"\\n\".join(section.contents).split(\"\\n\\n\")\n",
    "    for one_line_text in joined:\n",
    "        lines.append(ProtoLine(one_line_text))\n",
    "    chapters.append(ProtoChapter(title=section.title, contents=lines))\n",
    "print(chapters)\n"
   ]
  },
  {
   "cell_type": "code",
   "execution_count": 18,
   "id": "ca17f42f-9b06-4adc-9ca5-eb6d5e3e63d7",
   "metadata": {},
   "outputs": [],
   "source": [
    "l = []\n",
    "for chapter in chapters:\n",
    "   l.append(proto_to_domain(chapter))"
   ]
  },
  {
   "cell_type": "code",
   "execution_count": 19,
   "id": "c8534579-e8ef-4b2b-ada4-c8eeb19b5016",
   "metadata": {},
   "outputs": [],
   "source": [
    "b = Book(contents=l, base_language=\"eng\")"
   ]
  },
  {
   "cell_type": "code",
   "execution_count": 20,
   "id": "3131dd7a-3089-4df5-88f2-b71022e2d41d",
   "metadata": {},
   "outputs": [],
   "source": [
    "g = call_gemini()"
   ]
  },
  {
   "cell_type": "code",
   "execution_count": 21,
   "id": "d5216307-e874-47ba-ab19-f4cd8caf8bea",
   "metadata": {},
   "outputs": [],
   "source": [
    "v = g.calc_tokens(\"hello\")"
   ]
  },
  {
   "cell_type": "code",
   "execution_count": 20,
   "id": "8108309c-052a-4674-8dcf-49230319d64a",
   "metadata": {},
   "outputs": [],
   "source": [
    "b.set_token_count(Language.eng, g)"
   ]
  },
  {
   "cell_type": "code",
   "execution_count": 17,
   "id": "9dac0358-a867-47b3-bc7b-2a264edeea4a",
   "metadata": {},
   "outputs": [
    {
     "name": "stdout",
     "output_type": "stream",
     "text": [
      "pass\n",
      "\u001b[2m2024-03-25 21:21.05\u001b[0m [\u001b[32m\u001b[1minfo     \u001b[0m] \u001b[1mtoken count is already set    \u001b[0m [\u001b[0m\u001b[1m\u001b[34msrc.book_domain\u001b[0m]\u001b[0m \u001b[36mat\u001b[0m=\u001b[35mset_token_count_map\u001b[0m \u001b[36mlanguage\u001b[0m=\u001b[35meng\u001b[0m \u001b[36mline\u001b[0m=\u001b[35mCigars had burned low, and we were beginning to sample the disillusionment...\u001b[0m \u001b[36mmodel\u001b[0m=\u001b[35mgemini-pro\u001b[0m \u001b[36mmodule\u001b[0m=\u001b[35mbook_domain\u001b[0m\n",
      "\u001b[2m2024-03-25 21:21.05\u001b[0m [\u001b[32m\u001b[1minfo     \u001b[0m] \u001b[1mtoken count is already set    \u001b[0m [\u001b[0m\u001b[1m\u001b[34msrc.book_domain\u001b[0m]\u001b[0m \u001b[36mat\u001b[0m=\u001b[35mset_token_count_map\u001b[0m \u001b[36mlanguage\u001b[0m=\u001b[35meng\u001b[0m \u001b[36mline\u001b[0m=\u001b[35mCigars had burned low, and we were beginning to sample the disillusionment...\u001b[0m \u001b[36mmodel\u001b[0m=\u001b[35mgemini-pro\u001b[0m \u001b[36mmodule\u001b[0m=\u001b[35mbook_domain\u001b[0m\n",
      "pass\n",
      "\u001b[2m2024-03-25 21:21.05\u001b[0m [\u001b[32m\u001b[1minfo     \u001b[0m] \u001b[1mtoken count is already set    \u001b[0m [\u001b[0m\u001b[1m\u001b[34msrc.book_domain\u001b[0m]\u001b[0m \u001b[36mat\u001b[0m=\u001b[35mset_token_count_map\u001b[0m \u001b[36mlanguage\u001b[0m=\u001b[35meng\u001b[0m \u001b[36mline\u001b[0m=\u001b[35mDuring that third week of May the situation in Baskul had become much worse...\u001b[0m \u001b[36mmodel\u001b[0m=\u001b[35mgemini-pro\u001b[0m \u001b[36mmodule\u001b[0m=\u001b[35mbook_domain\u001b[0m\n",
      "\u001b[2m2024-03-25 21:21.05\u001b[0m [\u001b[32m\u001b[1minfo     \u001b[0m] \u001b[1mtoken count is already set    \u001b[0m [\u001b[0m\u001b[1m\u001b[34msrc.book_domain\u001b[0m]\u001b[0m \u001b[36mat\u001b[0m=\u001b[35mset_token_count_map\u001b[0m \u001b[36mlanguage\u001b[0m=\u001b[35meng\u001b[0m \u001b[36mline\u001b[0m=\u001b[35mDuring that third week of May the situation in Baskul had become much worse...\u001b[0m \u001b[36mmodel\u001b[0m=\u001b[35mgemini-pro\u001b[0m \u001b[36mmodule\u001b[0m=\u001b[35mbook_domain\u001b[0m\n",
      "pass\n",
      "\u001b[2m2024-03-25 21:21.06\u001b[0m [\u001b[32m\u001b[1minfo     \u001b[0m] \u001b[1mtoken count is already set    \u001b[0m [\u001b[0m\u001b[1m\u001b[34msrc.book_domain\u001b[0m]\u001b[0m \u001b[36mat\u001b[0m=\u001b[35mset_token_count_map\u001b[0m \u001b[36mlanguage\u001b[0m=\u001b[35meng\u001b[0m \u001b[36mline\u001b[0m=\u001b[35mThe journey was expected to be long and perilous...\u001b[0m \u001b[36mmodel\u001b[0m=\u001b[35mgemini-pro\u001b[0m \u001b[36mmodule\u001b[0m=\u001b[35mbook_domain\u001b[0m\n",
      "\u001b[2m2024-03-25 21:21.06\u001b[0m [\u001b[32m\u001b[1minfo     \u001b[0m] \u001b[1mtoken count is already set    \u001b[0m [\u001b[0m\u001b[1m\u001b[34msrc.book_domain\u001b[0m]\u001b[0m \u001b[36mat\u001b[0m=\u001b[35mset_token_count_map\u001b[0m \u001b[36mlanguage\u001b[0m=\u001b[35meng\u001b[0m \u001b[36mline\u001b[0m=\u001b[35mThe journey was expected to be long and perilous...\u001b[0m \u001b[36mmodel\u001b[0m=\u001b[35mgemini-pro\u001b[0m \u001b[36mmodule\u001b[0m=\u001b[35mbook_domain\u001b[0m\n",
      "pass\n",
      "\u001b[2m2024-03-25 21:21.06\u001b[0m [\u001b[32m\u001b[1minfo     \u001b[0m] \u001b[1mtoken count is already set    \u001b[0m [\u001b[0m\u001b[1m\u001b[34msrc.book_domain\u001b[0m]\u001b[0m \u001b[36mat\u001b[0m=\u001b[35mset_token_count_map\u001b[0m \u001b[36mlanguage\u001b[0m=\u001b[35meng\u001b[0m \u001b[36mline\u001b[0m=\u001b[35mgave him a most charming smile, but her eyes were all for the boy. “What life?”\u001b[0m \u001b[36mmodel\u001b[0m=\u001b[35mgemini-pro\u001b[0m \u001b[36mmodule\u001b[0m=\u001b[35mbook_domain\u001b[0m\n",
      "\u001b[2m2024-03-25 21:21.06\u001b[0m [\u001b[32m\u001b[1minfo     \u001b[0m] \u001b[1mtoken count is already set    \u001b[0m [\u001b[0m\u001b[1m\u001b[34msrc.book_domain\u001b[0m]\u001b[0m \u001b[36mat\u001b[0m=\u001b[35mset_token_count_map\u001b[0m \u001b[36mlanguage\u001b[0m=\u001b[35meng\u001b[0m \u001b[36mline\u001b[0m=\u001b[35mgave him a most charming smile, but her eyes were all for the boy. “What life?”\u001b[0m \u001b[36mmodel\u001b[0m=\u001b[35mgemini-pro\u001b[0m \u001b[36mmodule\u001b[0m=\u001b[35mbook_domain\u001b[0m\n",
      "pass\n",
      "\u001b[2m2024-03-25 21:21.06\u001b[0m [\u001b[32m\u001b[1minfo     \u001b[0m] \u001b[1mtoken count is already set    \u001b[0m [\u001b[0m\u001b[1m\u001b[34msrc.book_domain\u001b[0m]\u001b[0m \u001b[36mat\u001b[0m=\u001b[35mset_token_count_map\u001b[0m \u001b[36mlanguage\u001b[0m=\u001b[35meng\u001b[0m \u001b[36mline\u001b[0m=\u001b[35m“The life you’re thinking of . . . dinners . . . dances . . . polo . . . all that. . . .”\u001b[0m \u001b[36mmodel\u001b[0m=\u001b[35mgemini-pro\u001b[0m \u001b[36mmodule\u001b[0m=\u001b[35mbook_domain\u001b[0m\n",
      "\u001b[2m2024-03-25 21:21.06\u001b[0m [\u001b[32m\u001b[1minfo     \u001b[0m] \u001b[1mtoken count is already set    \u001b[0m [\u001b[0m\u001b[1m\u001b[34msrc.book_domain\u001b[0m]\u001b[0m \u001b[36mat\u001b[0m=\u001b[35mset_token_count_map\u001b[0m \u001b[36mlanguage\u001b[0m=\u001b[35meng\u001b[0m \u001b[36mline\u001b[0m=\u001b[35m“The life you’re thinking of . . . dinners . . . dances . . . polo . . . all that. . . .”\u001b[0m \u001b[36mmodel\u001b[0m=\u001b[35mgemini-pro\u001b[0m \u001b[36mmodule\u001b[0m=\u001b[35mbook_domain\u001b[0m\n",
      "pass\n",
      "\u001b[2m2024-03-25 21:21.06\u001b[0m [\u001b[32m\u001b[1minfo     \u001b[0m] \u001b[1mtoken count is already set    \u001b[0m [\u001b[0m\u001b[1m\u001b[34msrc.book_domain\u001b[0m]\u001b[0m \u001b[36mat\u001b[0m=\u001b[35mset_token_count_map\u001b[0m \u001b[36mlanguage\u001b[0m=\u001b[35meng\u001b[0m \u001b[36mline\u001b[0m=\u001b[35m“But I never said anything about dances and polo! Anyhow, what’s wrong with them? D’you mean that you’re not coming with me? You’re going to stay here like the other two? Then at least you shan’t stop _me_ from clearing out of it!” Mallinson threw down his cigarette and sprang towards the door with eyes blazing. “You’re off your head!” he cried wildly. “You’re mad, Conway, that’s what’s the matter with you! I know you’re always calm, and I’m always excited, but I’m sane, at any rate, and you’re not! They warned me about it before I joined you at Baskul, and I thought they were wrong, but now I can see they weren’t——”\u001b[0m \u001b[36mmodel\u001b[0m=\u001b[35mgemini-pro\u001b[0m \u001b[36mmodule\u001b[0m=\u001b[35mbook_domain\u001b[0m\n",
      "\u001b[2m2024-03-25 21:21.06\u001b[0m [\u001b[32m\u001b[1minfo     \u001b[0m] \u001b[1mtoken count is already set    \u001b[0m [\u001b[0m\u001b[1m\u001b[34msrc.book_domain\u001b[0m]\u001b[0m \u001b[36mat\u001b[0m=\u001b[35mset_token_count_map\u001b[0m \u001b[36mlanguage\u001b[0m=\u001b[35meng\u001b[0m \u001b[36mline\u001b[0m=\u001b[35m“But I never said anything about dances and polo! Anyhow, what’s wrong with them? D’you mean that you’re not coming with me? You’re going to stay here like the other two? Then at least you shan’t stop _me_ from clearing out of it!” Mallinson threw down his cigarette and sprang towards the door with eyes blazing. “You’re off your head!” he cried wildly. “You’re mad, Conway, that’s what’s the matter with you! I know you’re always calm, and I’m always excited, but I’m sane, at any rate, and you’re not! They warned me about it before I joined you at Baskul, and I thought they were wrong, but now I can see they weren’t——”\u001b[0m \u001b[36mmodel\u001b[0m=\u001b[35mgemini-pro\u001b[0m \u001b[36mmodule\u001b[0m=\u001b[35mbook_domain\u001b[0m\n",
      "pass\n",
      "\u001b[2m2024-03-25 21:21.06\u001b[0m [\u001b[32m\u001b[1minfo     \u001b[0m] \u001b[1mtoken count is already set    \u001b[0m [\u001b[0m\u001b[1m\u001b[34msrc.book_domain\u001b[0m]\u001b[0m \u001b[36mat\u001b[0m=\u001b[35mset_token_count_map\u001b[0m \u001b[36mlanguage\u001b[0m=\u001b[35meng\u001b[0m \u001b[36mline\u001b[0m=\u001b[35m“To Lo-Tsen?”\u001b[0m \u001b[36mmodel\u001b[0m=\u001b[35mgemini-pro\u001b[0m \u001b[36mmodule\u001b[0m=\u001b[35mbook_domain\u001b[0m\n",
      "\u001b[2m2024-03-25 21:21.06\u001b[0m [\u001b[32m\u001b[1minfo     \u001b[0m] \u001b[1mtoken count is already set    \u001b[0m [\u001b[0m\u001b[1m\u001b[34msrc.book_domain\u001b[0m]\u001b[0m \u001b[36mat\u001b[0m=\u001b[35mset_token_count_map\u001b[0m \u001b[36mlanguage\u001b[0m=\u001b[35meng\u001b[0m \u001b[36mline\u001b[0m=\u001b[35m“To Lo-Tsen?”\u001b[0m \u001b[36mmodel\u001b[0m=\u001b[35mgemini-pro\u001b[0m \u001b[36mmodule\u001b[0m=\u001b[35mbook_domain\u001b[0m\n",
      "pass\n",
      "\u001b[2m2024-03-25 21:21.06\u001b[0m [\u001b[32m\u001b[1minfo     \u001b[0m] \u001b[1mtoken count is already set    \u001b[0m [\u001b[0m\u001b[1m\u001b[34msrc.book_domain\u001b[0m]\u001b[0m \u001b[36mat\u001b[0m=\u001b[35mset_token_count_map\u001b[0m \u001b[36mlanguage\u001b[0m=\u001b[35meng\u001b[0m \u001b[36mline\u001b[0m=\u001b[35m“Yes, if you want to know.”\u001b[0m \u001b[36mmodel\u001b[0m=\u001b[35mgemini-pro\u001b[0m \u001b[36mmodule\u001b[0m=\u001b[35mbook_domain\u001b[0m\n",
      "\u001b[2m2024-03-25 21:21.06\u001b[0m [\u001b[32m\u001b[1minfo     \u001b[0m] \u001b[1mtoken count is already set    \u001b[0m [\u001b[0m\u001b[1m\u001b[34msrc.book_domain\u001b[0m]\u001b[0m \u001b[36mat\u001b[0m=\u001b[35mset_token_count_map\u001b[0m \u001b[36mlanguage\u001b[0m=\u001b[35meng\u001b[0m \u001b[36mline\u001b[0m=\u001b[35m“Yes, if you want to know.”\u001b[0m \u001b[36mmodel\u001b[0m=\u001b[35mgemini-pro\u001b[0m \u001b[36mmodule\u001b[0m=\u001b[35mbook_domain\u001b[0m\n",
      "pass\n",
      "\u001b[2m2024-03-25 21:21.06\u001b[0m [\u001b[32m\u001b[1minfo     \u001b[0m] \u001b[1mtoken count is already set    \u001b[0m [\u001b[0m\u001b[1m\u001b[34msrc.book_domain\u001b[0m]\u001b[0m \u001b[36mat\u001b[0m=\u001b[35mset_token_count_map\u001b[0m \u001b[36mlanguage\u001b[0m=\u001b[35meng\u001b[0m \u001b[36mline\u001b[0m=\u001b[35mConway got up and held out his hand. “Good-bye, Mallinson.”\u001b[0m \u001b[36mmodel\u001b[0m=\u001b[35mgemini-pro\u001b[0m \u001b[36mmodule\u001b[0m=\u001b[35mbook_domain\u001b[0m\n",
      "\u001b[2m2024-03-25 21:21.06\u001b[0m [\u001b[32m\u001b[1minfo     \u001b[0m] \u001b[1mtoken count is already set    \u001b[0m [\u001b[0m\u001b[1m\u001b[34msrc.book_domain\u001b[0m]\u001b[0m \u001b[36mat\u001b[0m=\u001b[35mset_token_count_map\u001b[0m \u001b[36mlanguage\u001b[0m=\u001b[35meng\u001b[0m \u001b[36mline\u001b[0m=\u001b[35mConway got up and held out his hand. “Good-bye, Mallinson.”\u001b[0m \u001b[36mmodel\u001b[0m=\u001b[35mgemini-pro\u001b[0m \u001b[36mmodule\u001b[0m=\u001b[35mbook_domain\u001b[0m\n",
      "pass\n",
      "\u001b[2m2024-03-25 21:21.06\u001b[0m [\u001b[32m\u001b[1minfo     \u001b[0m] \u001b[1mtoken count is already set    \u001b[0m [\u001b[0m\u001b[1m\u001b[34msrc.book_domain\u001b[0m]\u001b[0m \u001b[36mat\u001b[0m=\u001b[35mset_token_count_map\u001b[0m \u001b[36mlanguage\u001b[0m=\u001b[35meng\u001b[0m \u001b[36mline\u001b[0m=\u001b[35m“For the last time, you’re not coming?”\u001b[0m \u001b[36mmodel\u001b[0m=\u001b[35mgemini-pro\u001b[0m \u001b[36mmodule\u001b[0m=\u001b[35mbook_domain\u001b[0m\n",
      "\u001b[2m2024-03-25 21:21.06\u001b[0m [\u001b[32m\u001b[1minfo     \u001b[0m] \u001b[1mtoken count is already set    \u001b[0m [\u001b[0m\u001b[1m\u001b[34msrc.book_domain\u001b[0m]\u001b[0m \u001b[36mat\u001b[0m=\u001b[35mset_token_count_map\u001b[0m \u001b[36mlanguage\u001b[0m=\u001b[35meng\u001b[0m \u001b[36mline\u001b[0m=\u001b[35m“For the last time, you’re not coming?”\u001b[0m \u001b[36mmodel\u001b[0m=\u001b[35mgemini-pro\u001b[0m \u001b[36mmodule\u001b[0m=\u001b[35mbook_domain\u001b[0m\n",
      "pass\n",
      "\u001b[2m2024-03-25 21:21.07\u001b[0m [\u001b[32m\u001b[1minfo     \u001b[0m] \u001b[1mtoken count is already set    \u001b[0m [\u001b[0m\u001b[1m\u001b[34msrc.book_domain\u001b[0m]\u001b[0m \u001b[36mat\u001b[0m=\u001b[35mset_token_count_map\u001b[0m \u001b[36mlanguage\u001b[0m=\u001b[35meng\u001b[0m \u001b[36mline\u001b[0m=\u001b[35m“I can’t.”\u001b[0m \u001b[36mmodel\u001b[0m=\u001b[35mgemini-pro\u001b[0m \u001b[36mmodule\u001b[0m=\u001b[35mbook_domain\u001b[0m\n",
      "\u001b[2m2024-03-25 21:21.07\u001b[0m [\u001b[32m\u001b[1minfo     \u001b[0m] \u001b[1mtoken count is already set    \u001b[0m [\u001b[0m\u001b[1m\u001b[34msrc.book_domain\u001b[0m]\u001b[0m \u001b[36mat\u001b[0m=\u001b[35mset_token_count_map\u001b[0m \u001b[36mlanguage\u001b[0m=\u001b[35meng\u001b[0m \u001b[36mline\u001b[0m=\u001b[35m“I can’t.”\u001b[0m \u001b[36mmodel\u001b[0m=\u001b[35mgemini-pro\u001b[0m \u001b[36mmodule\u001b[0m=\u001b[35mbook_domain\u001b[0m\n",
      "pass\n",
      "\u001b[2m2024-03-25 21:21.07\u001b[0m [\u001b[32m\u001b[1minfo     \u001b[0m] \u001b[1mtoken count is already set    \u001b[0m [\u001b[0m\u001b[1m\u001b[34msrc.book_domain\u001b[0m]\u001b[0m \u001b[36mat\u001b[0m=\u001b[35mset_token_count_map\u001b[0m \u001b[36mlanguage\u001b[0m=\u001b[35meng\u001b[0m \u001b[36mline\u001b[0m=\u001b[35m“Good-bye, then.”\u001b[0m \u001b[36mmodel\u001b[0m=\u001b[35mgemini-pro\u001b[0m \u001b[36mmodule\u001b[0m=\u001b[35mbook_domain\u001b[0m\n",
      "\u001b[2m2024-03-25 21:21.07\u001b[0m [\u001b[32m\u001b[1minfo     \u001b[0m] \u001b[1mtoken count is already set    \u001b[0m [\u001b[0m\u001b[1m\u001b[34msrc.book_domain\u001b[0m]\u001b[0m \u001b[36mat\u001b[0m=\u001b[35mset_token_count_map\u001b[0m \u001b[36mlanguage\u001b[0m=\u001b[35meng\u001b[0m \u001b[36mline\u001b[0m=\u001b[35m“Good-bye, then.”\u001b[0m \u001b[36mmodel\u001b[0m=\u001b[35mgemini-pro\u001b[0m \u001b[36mmodule\u001b[0m=\u001b[35mbook_domain\u001b[0m\n",
      "pass\n",
      "\u001b[2m2024-03-25 21:21.07\u001b[0m [\u001b[32m\u001b[1minfo     \u001b[0m] \u001b[1mtoken count is already set    \u001b[0m [\u001b[0m\u001b[1m\u001b[34msrc.book_domain\u001b[0m]\u001b[0m \u001b[36mat\u001b[0m=\u001b[35mset_token_count_map\u001b[0m \u001b[36mlanguage\u001b[0m=\u001b[35meng\u001b[0m \u001b[36mline\u001b[0m=\u001b[35mThey shook hands, and Mallinson left.\u001b[0m \u001b[36mmodel\u001b[0m=\u001b[35mgemini-pro\u001b[0m \u001b[36mmodule\u001b[0m=\u001b[35mbook_domain\u001b[0m\n",
      "\u001b[2m2024-03-25 21:21.07\u001b[0m [\u001b[32m\u001b[1minfo     \u001b[0m] \u001b[1mtoken count is already set    \u001b[0m [\u001b[0m\u001b[1m\u001b[34msrc.book_domain\u001b[0m]\u001b[0m \u001b[36mat\u001b[0m=\u001b[35mset_token_count_map\u001b[0m \u001b[36mlanguage\u001b[0m=\u001b[35meng\u001b[0m \u001b[36mline\u001b[0m=\u001b[35mThey shook hands, and Mallinson left.\u001b[0m \u001b[36mmodel\u001b[0m=\u001b[35mgemini-pro\u001b[0m \u001b[36mmodule\u001b[0m=\u001b[35mbook_domain\u001b[0m\n",
      "pass\n",
      "\u001b[2m2024-03-25 21:21.07\u001b[0m [\u001b[32m\u001b[1minfo     \u001b[0m] \u001b[1mtoken count is already set    \u001b[0m [\u001b[0m\u001b[1m\u001b[34msrc.book_domain\u001b[0m]\u001b[0m \u001b[36mat\u001b[0m=\u001b[35mset_token_count_map\u001b[0m \u001b[36mlanguage\u001b[0m=\u001b[35meng\u001b[0m \u001b[36mline\u001b[0m=\u001b[35mConway sat alone in the lantern-light. It seemed to him, in a phrase engraved on memory, that all the loveliest things were transient and perishable, that the two worlds were finally beyond reconciliation, and that one of them hung, as always, by a thread. After he had pondered for some time he looked at his watch; it was ten minutes to three.\u001b[0m \u001b[36mmodel\u001b[0m=\u001b[35mgemini-pro\u001b[0m \u001b[36mmodule\u001b[0m=\u001b[35mbook_domain\u001b[0m\n",
      "\u001b[2m2024-03-25 21:21.07\u001b[0m [\u001b[32m\u001b[1minfo     \u001b[0m] \u001b[1mtoken count is already set    \u001b[0m [\u001b[0m\u001b[1m\u001b[34msrc.book_domain\u001b[0m]\u001b[0m \u001b[36mat\u001b[0m=\u001b[35mset_token_count_map\u001b[0m \u001b[36mlanguage\u001b[0m=\u001b[35meng\u001b[0m \u001b[36mline\u001b[0m=\u001b[35mConway sat alone in the lantern-light. It seemed to him, in a phrase engraved on memory, that all the loveliest things were transient and perishable, that the two worlds were finally beyond reconciliation, and that one of them hung, as always, by a thread. After he had pondered for some time he looked at his watch; it was ten minutes to three.\u001b[0m \u001b[36mmodel\u001b[0m=\u001b[35mgemini-pro\u001b[0m \u001b[36mmodule\u001b[0m=\u001b[35mbook_domain\u001b[0m\n",
      "pass\n",
      "\u001b[2m2024-03-25 21:21.07\u001b[0m [\u001b[32m\u001b[1minfo     \u001b[0m] \u001b[1mtoken count is already set    \u001b[0m [\u001b[0m\u001b[1m\u001b[34msrc.book_domain\u001b[0m]\u001b[0m \u001b[36mat\u001b[0m=\u001b[35mset_token_count_map\u001b[0m \u001b[36mlanguage\u001b[0m=\u001b[35meng\u001b[0m \u001b[36mline\u001b[0m=\u001b[35mIT WAS in Delhi that I met Rutherford again. We had been guests at a Viceregal dinner-party, but distance and ceremonial kept us apart until the turbaned flunkeys handed us our hats afterwards. “Come back to my hotel and have a drink,” he invited.\u001b[0m \u001b[36mmodel\u001b[0m=\u001b[35mgemini-pro\u001b[0m \u001b[36mmodule\u001b[0m=\u001b[35mbook_domain\u001b[0m\n",
      "\u001b[2m2024-03-25 21:21.07\u001b[0m [\u001b[32m\u001b[1minfo     \u001b[0m] \u001b[1mtoken count is already set    \u001b[0m [\u001b[0m\u001b[1m\u001b[34msrc.book_domain\u001b[0m]\u001b[0m \u001b[36mat\u001b[0m=\u001b[35mset_token_count_map\u001b[0m \u001b[36mlanguage\u001b[0m=\u001b[35meng\u001b[0m \u001b[36mline\u001b[0m=\u001b[35mIT WAS in Delhi that I met Rutherford again. We had been guests at a Viceregal dinner-party, but distance and ceremonial kept us apart until the turbaned flunkeys handed us our hats afterwards. “Come back to my hotel and have a drink,” he invited.\u001b[0m \u001b[36mmodel\u001b[0m=\u001b[35mgemini-pro\u001b[0m \u001b[36mmodule\u001b[0m=\u001b[35mbook_domain\u001b[0m\n",
      "pass\n",
      "\u001b[2m2024-03-25 21:21.07\u001b[0m [\u001b[32m\u001b[1minfo     \u001b[0m] \u001b[1mtoken count is already set    \u001b[0m [\u001b[0m\u001b[1m\u001b[34msrc.book_domain\u001b[0m]\u001b[0m \u001b[36mat\u001b[0m=\u001b[35mset_token_count_map\u001b[0m \u001b[36mlanguage\u001b[0m=\u001b[35meng\u001b[0m \u001b[36mline\u001b[0m=\u001b[35m“You thought it might be easier to look for the valley of Blue Moon?”\u001b[0m \u001b[36mmodel\u001b[0m=\u001b[35mgemini-pro\u001b[0m \u001b[36mmodule\u001b[0m=\u001b[35mbook_domain\u001b[0m\n",
      "\u001b[2m2024-03-25 21:21.07\u001b[0m [\u001b[32m\u001b[1minfo     \u001b[0m] \u001b[1mtoken count is already set    \u001b[0m [\u001b[0m\u001b[1m\u001b[34msrc.book_domain\u001b[0m]\u001b[0m \u001b[36mat\u001b[0m=\u001b[35mset_token_count_map\u001b[0m \u001b[36mlanguage\u001b[0m=\u001b[35meng\u001b[0m \u001b[36mline\u001b[0m=\u001b[35m“You thought it might be easier to look for the valley of Blue Moon?”\u001b[0m \u001b[36mmodel\u001b[0m=\u001b[35mgemini-pro\u001b[0m \u001b[36mmodule\u001b[0m=\u001b[35mbook_domain\u001b[0m\n",
      "pass\n",
      "\u001b[2m2024-03-25 21:21.07\u001b[0m [\u001b[32m\u001b[1minfo     \u001b[0m] \u001b[1mtoken count is already set    \u001b[0m [\u001b[0m\u001b[1m\u001b[34msrc.book_domain\u001b[0m]\u001b[0m \u001b[36mat\u001b[0m=\u001b[35mset_token_count_map\u001b[0m \u001b[36mlanguage\u001b[0m=\u001b[35meng\u001b[0m \u001b[36mline\u001b[0m=\u001b[35m“Well, it did seem as if it might be a more fixed proposition. I suppose you glanced at that manuscript of mine?”\u001b[0m \u001b[36mmodel\u001b[0m=\u001b[35mgemini-pro\u001b[0m \u001b[36mmodule\u001b[0m=\u001b[35mbook_domain\u001b[0m\n",
      "\u001b[2m2024-03-25 21:21.07\u001b[0m [\u001b[32m\u001b[1minfo     \u001b[0m] \u001b[1mtoken count is already set    \u001b[0m [\u001b[0m\u001b[1m\u001b[34msrc.book_domain\u001b[0m]\u001b[0m \u001b[36mat\u001b[0m=\u001b[35mset_token_count_map\u001b[0m \u001b[36mlanguage\u001b[0m=\u001b[35meng\u001b[0m \u001b[36mline\u001b[0m=\u001b[35m“Well, it did seem as if it might be a more fixed proposition. I suppose you glanced at that manuscript of mine?”\u001b[0m \u001b[36mmodel\u001b[0m=\u001b[35mgemini-pro\u001b[0m \u001b[36mmodule\u001b[0m=\u001b[35mbook_domain\u001b[0m\n",
      "pass\n",
      "\u001b[2m2024-03-25 21:21.08\u001b[0m [\u001b[32m\u001b[1minfo     \u001b[0m] \u001b[1mtoken count is already set    \u001b[0m [\u001b[0m\u001b[1m\u001b[34msrc.book_domain\u001b[0m]\u001b[0m \u001b[36mat\u001b[0m=\u001b[35mset_token_count_map\u001b[0m \u001b[36mlanguage\u001b[0m=\u001b[35meng\u001b[0m \u001b[36mline\u001b[0m=\u001b[35m“Much more than glanced at it. I should have returned it, by the way, but you left no address.”\u001b[0m \u001b[36mmodel\u001b[0m=\u001b[35mgemini-pro\u001b[0m \u001b[36mmodule\u001b[0m=\u001b[35mbook_domain\u001b[0m\n",
      "\u001b[2m2024-03-25 21:21.08\u001b[0m [\u001b[32m\u001b[1minfo     \u001b[0m] \u001b[1mtoken count is already set    \u001b[0m [\u001b[0m\u001b[1m\u001b[34msrc.book_domain\u001b[0m]\u001b[0m \u001b[36mat\u001b[0m=\u001b[35mset_token_count_map\u001b[0m \u001b[36mlanguage\u001b[0m=\u001b[35meng\u001b[0m \u001b[36mline\u001b[0m=\u001b[35m“Much more than glanced at it. I should have returned it, by the way, but you left no address.”\u001b[0m \u001b[36mmodel\u001b[0m=\u001b[35mgemini-pro\u001b[0m \u001b[36mmodule\u001b[0m=\u001b[35mbook_domain\u001b[0m\n",
      "pass\n",
      "\u001b[2m2024-03-25 21:21.08\u001b[0m [\u001b[32m\u001b[1minfo     \u001b[0m] \u001b[1mtoken count is already set    \u001b[0m [\u001b[0m\u001b[1m\u001b[34msrc.book_domain\u001b[0m]\u001b[0m \u001b[36mat\u001b[0m=\u001b[35mset_token_count_map\u001b[0m \u001b[36mlanguage\u001b[0m=\u001b[35meng\u001b[0m \u001b[36mline\u001b[0m=\u001b[35mRutherford nodded. “I wonder what you made of it?”\u001b[0m \u001b[36mmodel\u001b[0m=\u001b[35mgemini-pro\u001b[0m \u001b[36mmodule\u001b[0m=\u001b[35mbook_domain\u001b[0m\n",
      "\u001b[2m2024-03-25 21:21.08\u001b[0m [\u001b[32m\u001b[1minfo     \u001b[0m] \u001b[1mtoken count is already set    \u001b[0m [\u001b[0m\u001b[1m\u001b[34msrc.book_domain\u001b[0m]\u001b[0m \u001b[36mat\u001b[0m=\u001b[35mset_token_count_map\u001b[0m \u001b[36mlanguage\u001b[0m=\u001b[35meng\u001b[0m \u001b[36mline\u001b[0m=\u001b[35mRutherford nodded. “I wonder what you made of it?”\u001b[0m \u001b[36mmodel\u001b[0m=\u001b[35mgemini-pro\u001b[0m \u001b[36mmodule\u001b[0m=\u001b[35mbook_domain\u001b[0m\n",
      "pass\n",
      "\u001b[2m2024-03-25 21:21.08\u001b[0m [\u001b[32m\u001b[1minfo     \u001b[0m] \u001b[1mtoken count is already set    \u001b[0m [\u001b[0m\u001b[1m\u001b[34msrc.book_domain\u001b[0m]\u001b[0m \u001b[36mat\u001b[0m=\u001b[35mset_token_count_map\u001b[0m \u001b[36mlanguage\u001b[0m=\u001b[35meng\u001b[0m \u001b[36mline\u001b[0m=\u001b[35mRutherford flicked his cigar as if the narration had excited him quite as much as he hoped it had me. Continuing, he said: “The little fellow looked at me solemnly for a moment, and then answered in that funny clipped English that the educated Chinese have—‘Oh no, she was most old—most old of anyone I have ever seen.’”\u001b[0m \u001b[36mmodel\u001b[0m=\u001b[35mgemini-pro\u001b[0m \u001b[36mmodule\u001b[0m=\u001b[35mbook_domain\u001b[0m\n",
      "\u001b[2m2024-03-25 21:21.08\u001b[0m [\u001b[32m\u001b[1minfo     \u001b[0m] \u001b[1mtoken count is already set    \u001b[0m [\u001b[0m\u001b[1m\u001b[34msrc.book_domain\u001b[0m]\u001b[0m \u001b[36mat\u001b[0m=\u001b[35mset_token_count_map\u001b[0m \u001b[36mlanguage\u001b[0m=\u001b[35meng\u001b[0m \u001b[36mline\u001b[0m=\u001b[35mRutherford flicked his cigar as if the narration had excited him quite as much as he hoped it had me. Continuing, he said: “The little fellow looked at me solemnly for a moment, and then answered in that funny clipped English that the educated Chinese have—‘Oh no, she was most old—most old of anyone I have ever seen.’”\u001b[0m \u001b[36mmodel\u001b[0m=\u001b[35mgemini-pro\u001b[0m \u001b[36mmodule\u001b[0m=\u001b[35mbook_domain\u001b[0m\n",
      "pass\n",
      "\u001b[2m2024-03-25 21:21.08\u001b[0m [\u001b[32m\u001b[1minfo     \u001b[0m] \u001b[1mtoken count is already set    \u001b[0m [\u001b[0m\u001b[1m\u001b[34msrc.book_domain\u001b[0m]\u001b[0m \u001b[36mat\u001b[0m=\u001b[35mset_token_count_map\u001b[0m \u001b[36mlanguage\u001b[0m=\u001b[35meng\u001b[0m \u001b[36mline\u001b[0m=\u001b[35mWe sat for a long time in silence, and then talked again of Conway as I remembered him, boyish and gifted and full of charm, and of the War that had altered him, and of so many mysteries of time and age and of the mind, and of the little Manchu who had been ‘most old,’ and of the strange ultimate dream of Blue Moon. “Do you think he will ever find it?” I asked.\u001b[0m \u001b[36mmodel\u001b[0m=\u001b[35mgemini-pro\u001b[0m \u001b[36mmodule\u001b[0m=\u001b[35mbook_domain\u001b[0m\n",
      "\u001b[2m2024-03-25 21:21.08\u001b[0m [\u001b[32m\u001b[1minfo     \u001b[0m] \u001b[1mtoken count is already set    \u001b[0m [\u001b[0m\u001b[1m\u001b[34msrc.book_domain\u001b[0m]\u001b[0m \u001b[36mat\u001b[0m=\u001b[35mset_token_count_map\u001b[0m \u001b[36mlanguage\u001b[0m=\u001b[35meng\u001b[0m \u001b[36mline\u001b[0m=\u001b[35mWe sat for a long time in silence, and then talked again of Conway as I remembered him, boyish and gifted and full of charm, and of the War that had altered him, and of so many mysteries of time and age and of the mind, and of the little Manchu who had been ‘most old,’ and of the strange ultimate dream of Blue Moon. “Do you think he will ever find it?” I asked.\u001b[0m \u001b[36mmodel\u001b[0m=\u001b[35mgemini-pro\u001b[0m \u001b[36mmodule\u001b[0m=\u001b[35mbook_domain\u001b[0m\n",
      "pass\n",
      "\u001b[2m2024-03-25 21:21.08\u001b[0m [\u001b[32m\u001b[1minfo     \u001b[0m] \u001b[1mtoken count is already set    \u001b[0m [\u001b[0m\u001b[1m\u001b[34msrc.book_domain\u001b[0m]\u001b[0m \u001b[36mat\u001b[0m=\u001b[35mset_token_count_map\u001b[0m \u001b[36mlanguage\u001b[0m=\u001b[35meng\u001b[0m \u001b[36mline\u001b[0m=\u001b[35mWOODFORD GREEN   April 1933                                 THE END    _Printed in Great Britain by_ R. & R. CLARK, LIMITED, _Edinburgh_.\u001b[0m \u001b[36mmodel\u001b[0m=\u001b[35mgemini-pro\u001b[0m \u001b[36mmodule\u001b[0m=\u001b[35mbook_domain\u001b[0m\n",
      "\u001b[2m2024-03-25 21:21.08\u001b[0m [\u001b[32m\u001b[1minfo     \u001b[0m] \u001b[1mtoken count is already set    \u001b[0m [\u001b[0m\u001b[1m\u001b[34msrc.book_domain\u001b[0m]\u001b[0m \u001b[36mat\u001b[0m=\u001b[35mset_token_count_map\u001b[0m \u001b[36mlanguage\u001b[0m=\u001b[35meng\u001b[0m \u001b[36mline\u001b[0m=\u001b[35mWOODFORD GREEN   April 1933                                 THE END    _Printed in Great Britain by_ R. & R. CLARK, LIMITED, _Edinburgh_.\u001b[0m \u001b[36mmodel\u001b[0m=\u001b[35mgemini-pro\u001b[0m \u001b[36mmodule\u001b[0m=\u001b[35mbook_domain\u001b[0m\n",
      "pass\n",
      "\u001b[2m2024-03-25 21:21.08\u001b[0m [\u001b[32m\u001b[1minfo     \u001b[0m] \u001b[1mtoken count is already set    \u001b[0m [\u001b[0m\u001b[1m\u001b[34msrc.book_domain\u001b[0m]\u001b[0m \u001b[36mat\u001b[0m=\u001b[35mset_token_count_map\u001b[0m \u001b[36mlanguage\u001b[0m=\u001b[35meng\u001b[0m \u001b[36mline\u001b[0m=\u001b[35mMisspelled words and printer errors have been corrected. Where multiple spellings occur, majority use has been employed.\u001b[0m \u001b[36mmodel\u001b[0m=\u001b[35mgemini-pro\u001b[0m \u001b[36mmodule\u001b[0m=\u001b[35mbook_domain\u001b[0m\n",
      "\u001b[2m2024-03-25 21:21.08\u001b[0m [\u001b[32m\u001b[1minfo     \u001b[0m] \u001b[1mtoken count is already set    \u001b[0m [\u001b[0m\u001b[1m\u001b[34msrc.book_domain\u001b[0m]\u001b[0m \u001b[36mat\u001b[0m=\u001b[35mset_token_count_map\u001b[0m \u001b[36mlanguage\u001b[0m=\u001b[35meng\u001b[0m \u001b[36mline\u001b[0m=\u001b[35mMisspelled words and printer errors have been corrected. Where multiple spellings occur, majority use has been employed.\u001b[0m \u001b[36mmodel\u001b[0m=\u001b[35mgemini-pro\u001b[0m \u001b[36mmodule\u001b[0m=\u001b[35mbook_domain\u001b[0m\n",
      "pass\n",
      "\u001b[2m2024-03-25 21:21.08\u001b[0m [\u001b[32m\u001b[1minfo     \u001b[0m] \u001b[1mtoken count is already set    \u001b[0m [\u001b[0m\u001b[1m\u001b[34msrc.book_domain\u001b[0m]\u001b[0m \u001b[36mat\u001b[0m=\u001b[35mset_token_count_map\u001b[0m \u001b[36mlanguage\u001b[0m=\u001b[35meng\u001b[0m \u001b[36mline\u001b[0m=\u001b[35mPunctuation has been maintained except where obvious printer errors occur.\u001b[0m \u001b[36mmodel\u001b[0m=\u001b[35mgemini-pro\u001b[0m \u001b[36mmodule\u001b[0m=\u001b[35mbook_domain\u001b[0m\n",
      "\u001b[2m2024-03-25 21:21.08\u001b[0m [\u001b[32m\u001b[1minfo     \u001b[0m] \u001b[1mtoken count is already set    \u001b[0m [\u001b[0m\u001b[1m\u001b[34msrc.book_domain\u001b[0m]\u001b[0m \u001b[36mat\u001b[0m=\u001b[35mset_token_count_map\u001b[0m \u001b[36mlanguage\u001b[0m=\u001b[35meng\u001b[0m \u001b[36mline\u001b[0m=\u001b[35mPunctuation has been maintained except where obvious printer errors occur.\u001b[0m \u001b[36mmodel\u001b[0m=\u001b[35mgemini-pro\u001b[0m \u001b[36mmodule\u001b[0m=\u001b[35mbook_domain\u001b[0m\n",
      "pass\n",
      "\u001b[2m2024-03-25 21:21.08\u001b[0m [\u001b[32m\u001b[1minfo     \u001b[0m] \u001b[1mtoken count is already set    \u001b[0m [\u001b[0m\u001b[1m\u001b[34msrc.book_domain\u001b[0m]\u001b[0m \u001b[36mat\u001b[0m=\u001b[35mset_token_count_map\u001b[0m \u001b[36mlanguage\u001b[0m=\u001b[35meng\u001b[0m \u001b[36mline\u001b[0m=\u001b[35m[The end of _Lost Horizon_ by James Hilton]\u001b[0m \u001b[36mmodel\u001b[0m=\u001b[35mgemini-pro\u001b[0m \u001b[36mmodule\u001b[0m=\u001b[35mbook_domain\u001b[0m\n",
      "\u001b[2m2024-03-25 21:21.08\u001b[0m [\u001b[32m\u001b[1minfo     \u001b[0m] \u001b[1mtoken count is already set    \u001b[0m [\u001b[0m\u001b[1m\u001b[34msrc.book_domain\u001b[0m]\u001b[0m \u001b[36mat\u001b[0m=\u001b[35mset_token_count_map\u001b[0m \u001b[36mlanguage\u001b[0m=\u001b[35meng\u001b[0m \u001b[36mline\u001b[0m=\u001b[35m[The end of _Lost Horizon_ by James Hilton]\u001b[0m \u001b[36mmodel\u001b[0m=\u001b[35mgemini-pro\u001b[0m \u001b[36mmodule\u001b[0m=\u001b[35mbook_domain\u001b[0m\n"
     ]
    }
   ],
   "source": [
    "bt = BookTranslaor(b, g, \"jpn\")"
   ]
  },
  {
   "cell_type": "code",
   "execution_count": 19,
   "id": "e2d57962-bf11-41c6-94e7-9e9ff3256e51",
   "metadata": {},
   "outputs": [
    {
     "ename": "KeyError",
     "evalue": "'jpn'",
     "output_type": "error",
     "traceback": [
      "\u001b[0;31m---------------------------------------------------------------------------\u001b[0m",
      "\u001b[0;31mKeyError\u001b[0m                                  Traceback (most recent call last)",
      "Cell \u001b[0;32mIn[19], line 1\u001b[0m\n\u001b[0;32m----> 1\u001b[0m cs \u001b[38;5;241m=\u001b[39m \u001b[43mbt\u001b[49m\u001b[38;5;241;43m.\u001b[39;49m\u001b[43mget_all_prompt_contexts\u001b[49m\u001b[43m(\u001b[49m\u001b[43m)\u001b[49m\n",
      "File \u001b[0;32m~/dev/kasi-x/akizora/src/translate_domain.py:307\u001b[0m, in \u001b[0;36mBookTranslaor.get_all_prompt_contexts\u001b[0;34m(self)\u001b[0m\n\u001b[1;32m    306\u001b[0m \u001b[38;5;28;01mdef\u001b[39;00m \u001b[38;5;21mget_all_prompt_contexts\u001b[39m(\u001b[38;5;28mself\u001b[39m) \u001b[38;5;241m-\u001b[39m\u001b[38;5;241m>\u001b[39m \u001b[38;5;28mlist\u001b[39m[PromptContext]:\n\u001b[0;32m--> 307\u001b[0m     \u001b[38;5;28;01mreturn\u001b[39;00m \u001b[38;5;28;43mself\u001b[39;49m\u001b[38;5;241;43m.\u001b[39;49m\u001b[43mcreate_segment_prompt_context_from_any\u001b[49m\u001b[43m(\u001b[49m\u001b[38;5;28;43mself\u001b[39;49m\u001b[38;5;241;43m.\u001b[39;49m\u001b[43mbook\u001b[49m\u001b[43m)\u001b[49m\n",
      "File \u001b[0;32m~/dev/kasi-x/akizora/src/translate_domain.py:349\u001b[0m, in \u001b[0;36mBookTranslaor.create_segment_prompt_context_from_any\u001b[0;34m(self, component)\u001b[0m\n\u001b[1;32m    345\u001b[0m \u001b[38;5;28;01mdef\u001b[39;00m \u001b[38;5;21mcreate_segment_prompt_context_from_any\u001b[39m(\n\u001b[1;32m    346\u001b[0m     \u001b[38;5;28mself\u001b[39m, component: SomeTextComponent\n\u001b[1;32m    347\u001b[0m ) \u001b[38;5;241m-\u001b[39m\u001b[38;5;241m>\u001b[39m \u001b[38;5;28mlist\u001b[39m[PromptContext]:\n\u001b[1;32m    348\u001b[0m     current_context \u001b[38;5;241m=\u001b[39m \u001b[38;5;28mself\u001b[39m\u001b[38;5;241m.\u001b[39mcreate_context(component)\n\u001b[0;32m--> 349\u001b[0m     \u001b[38;5;28;01mif\u001b[39;00m \u001b[38;5;129;01mnot\u001b[39;00m \u001b[38;5;28;43mself\u001b[39;49m\u001b[38;5;241;43m.\u001b[39;49m\u001b[43mprompt_manager\u001b[49m\u001b[38;5;241;43m.\u001b[39;49m\u001b[43mis_able_to_get_output\u001b[49m\u001b[43m(\u001b[49m\u001b[43mcurrent_context\u001b[49m\u001b[43m)\u001b[49m:\n\u001b[1;32m    350\u001b[0m         \u001b[38;5;28;01mreturn\u001b[39;00m \u001b[38;5;28mself\u001b[39m\u001b[38;5;241m.\u001b[39mreduce_output(component)\n\u001b[1;32m    352\u001b[0m     \u001b[38;5;28;01mif\u001b[39;00m \u001b[38;5;129;01mnot\u001b[39;00m \u001b[38;5;28mself\u001b[39m\u001b[38;5;241m.\u001b[39mprompt_manager\u001b[38;5;241m.\u001b[39mis_able_to_send_prompt(current_context):\n",
      "File \u001b[0;32m~/dev/kasi-x/akizora/src/translate_domain.py:252\u001b[0m, in \u001b[0;36mPromptManager.is_able_to_get_output\u001b[0;34m(self, context)\u001b[0m\n\u001b[1;32m    250\u001b[0m \u001b[38;5;28;01mdef\u001b[39;00m \u001b[38;5;21mis_able_to_get_output\u001b[39m(\u001b[38;5;28mself\u001b[39m, context: PromptContext) \u001b[38;5;241m-\u001b[39m\u001b[38;5;241m>\u001b[39m \u001b[38;5;28mbool\u001b[39m:\n\u001b[1;32m    251\u001b[0m     \u001b[38;5;28;01mreturn\u001b[39;00m \u001b[38;5;28mself\u001b[39m\u001b[38;5;241m.\u001b[39mmodel\u001b[38;5;241m.\u001b[39mis_output_token_affording(\n\u001b[0;32m--> 252\u001b[0m         \u001b[43mcontext\u001b[49m\u001b[38;5;241;43m.\u001b[39;49m\u001b[43mget_output_token_count\u001b[49m\u001b[43m(\u001b[49m\u001b[38;5;28;43mself\u001b[39;49m\u001b[38;5;241;43m.\u001b[39;49m\u001b[43mmodel\u001b[49m\u001b[43m)\u001b[49m, context\u001b[38;5;241m.\u001b[39mfrom_language, context\u001b[38;5;241m.\u001b[39mto_language\n\u001b[1;32m    253\u001b[0m     )\n",
      "File \u001b[0;32m~/dev/kasi-x/akizora/src/translate_domain.py:81\u001b[0m, in \u001b[0;36mPromptContext.get_output_token_count\u001b[0;34m(self, model)\u001b[0m\n\u001b[1;32m     78\u001b[0m \u001b[38;5;28;01mif\u001b[39;00m \u001b[38;5;28mlen\u001b[39m(\u001b[38;5;28mself\u001b[39m\u001b[38;5;241m.\u001b[39mlines) \u001b[38;5;241m>\u001b[39m \u001b[38;5;241m2\u001b[39m:\n\u001b[1;32m     79\u001b[0m     \u001b[38;5;66;03m# NOTE: bracket token maybe 2 token(Not accurate). braeket is `<1> line one <2> line two`'s `<1>, <2>`\u001b[39;00m\n\u001b[1;32m     80\u001b[0m     braket_token \u001b[38;5;241m=\u001b[39m \u001b[38;5;241m2\u001b[39m \u001b[38;5;241m*\u001b[39m \u001b[38;5;28mlen\u001b[39m(\u001b[38;5;28mself\u001b[39m\u001b[38;5;241m.\u001b[39mlines)\n\u001b[0;32m---> 81\u001b[0m translate_rate \u001b[38;5;241m=\u001b[39m \u001b[43mmodel\u001b[49m\u001b[38;5;241;43m.\u001b[39;49m\u001b[43mcalc_token_rate\u001b[49m\u001b[43m(\u001b[49m\u001b[38;5;28;43mself\u001b[39;49m\u001b[38;5;241;43m.\u001b[39;49m\u001b[43mfrom_language\u001b[49m\u001b[43m,\u001b[49m\u001b[43m \u001b[49m\u001b[38;5;28;43mself\u001b[39;49m\u001b[38;5;241;43m.\u001b[39;49m\u001b[43mto_language\u001b[49m\u001b[43m)\u001b[49m\n\u001b[1;32m     82\u001b[0m \u001b[38;5;28;01mreturn\u001b[39;00m input_translate_token \u001b[38;5;241m*\u001b[39m translate_rate \u001b[38;5;241m+\u001b[39m braket_token\n",
      "File \u001b[0;32m~/dev/kasi-x/akizora/src/llm_domain.py:47\u001b[0m, in \u001b[0;36mLLM.calc_token_rate\u001b[0;34m(self, from_language, to_language)\u001b[0m\n\u001b[1;32m     46\u001b[0m \u001b[38;5;28;01mdef\u001b[39;00m \u001b[38;5;21mcalc_token_rate\u001b[39m(\u001b[38;5;28mself\u001b[39m, from_language: Language, to_language: Language) \u001b[38;5;241m-\u001b[39m\u001b[38;5;241m>\u001b[39m \u001b[38;5;28mint\u001b[39m:\n\u001b[0;32m---> 47\u001b[0m     \u001b[38;5;28;01mreturn\u001b[39;00m \u001b[38;5;28;43mself\u001b[39;49m\u001b[38;5;241;43m.\u001b[39;49m\u001b[43mtoken_cost_table\u001b[49m\u001b[43m[\u001b[49m\u001b[43mto_language\u001b[49m\u001b[43m]\u001b[49m \u001b[38;5;241m/\u001b[39m\u001b[38;5;241m/\u001b[39m \u001b[38;5;28mself\u001b[39m\u001b[38;5;241m.\u001b[39mtoken_cost_table[from_language]\n",
      "\u001b[0;31mKeyError\u001b[0m: 'jpn'"
     ]
    }
   ],
   "source": [
    "cs = bt.get_all_prompt_contexts()"
   ]
  },
  {
   "cell_type": "code",
   "execution_count": 24,
   "id": "272cd9b0-82e0-4f62-a002-35f59eeb815d",
   "metadata": {},
   "outputs": [
    {
     "data": {
      "text/plain": [
       "Line(contents=['gave him a most charming smile, but her eyes were all for the boy. “What life?”'], _title='', base_language=None, _text='gave him a most charming smile, but her eyes were all for the boy. “What life?”', id=3, _translated_map=defaultdict(<function Line.<lambda>.<locals>.<lambda> at 0x7f3126d4ea20>, {}), _token_count_map=defaultdict(<function Line.<lambda>.<locals>.<lambda> at 0x7f3126d4e5c0>, {}))"
      ]
     },
     "execution_count": 24,
     "metadata": {},
     "output_type": "execute_result"
    }
   ],
   "source": [
    "b.lines[3]"
   ]
  },
  {
   "cell_type": "code",
   "execution_count": 25,
   "id": "fbd46136-0e67-4853-b5d7-b09278182bb4",
   "metadata": {},
   "outputs": [
    {
     "data": {
      "text/plain": [
       "defaultdict(int, {})"
      ]
     },
     "execution_count": 25,
     "metadata": {},
     "output_type": "execute_result"
    }
   ],
   "source": [
    "b.lines[10]._token_count_map['jpn']"
   ]
  },
  {
   "cell_type": "code",
   "execution_count": 26,
   "id": "ff93a23a-837b-4045-92d9-67026d0d976a",
   "metadata": {},
   "outputs": [
    {
     "data": {
      "text/plain": [
       "[Line(contents=['Cigars had burned low, and we were beginning to sample the disillusionment...'], _title='', base_language=None, _text='Cigars had burned low, and we were beginning to sample the disillusionment...', id=0, _translated_map=defaultdict(<function Line.<lambda>.<locals>.<lambda> at 0x7f3126d4e3e0>, {}), _token_count_map=defaultdict(<function Line.<lambda>.<locals>.<lambda> at 0x7f3126d4e7a0>, {})),\n",
       " Line(contents=['During that third week of May the situation in Baskul had become much worse...'], _title='', base_language=None, _text='During that third week of May the situation in Baskul had become much worse...', id=1, _translated_map=defaultdict(<function Line.<lambda>.<locals>.<lambda> at 0x7f3126d4ee80>, {}), _token_count_map=defaultdict(<function Line.<lambda>.<locals>.<lambda> at 0x7f3126d4e8e0>, {})),\n",
       " Line(contents=['The journey was expected to be long and perilous...'], _title='', base_language=None, _text='The journey was expected to be long and perilous...', id=2, _translated_map=defaultdict(<function Line.<lambda>.<locals>.<lambda> at 0x7f3126d4e840>, {}), _token_count_map=defaultdict(<function Line.<lambda>.<locals>.<lambda> at 0x7f3126d4dee0>, {})),\n",
       " Line(contents=['gave him a most charming smile, but her eyes were all for the boy. “What life?”'], _title='', base_language=None, _text='gave him a most charming smile, but her eyes were all for the boy. “What life?”', id=3, _translated_map=defaultdict(<function Line.<lambda>.<locals>.<lambda> at 0x7f3126d4ea20>, {}), _token_count_map=defaultdict(<function Line.<lambda>.<locals>.<lambda> at 0x7f3126d4e5c0>, {})),\n",
       " Line(contents=['“The life you’re thinking of . . . dinners . . . dances . . . polo . . . all that. . . .”'], _title='', base_language=None, _text='“The life you’re thinking of . . . dinners . . . dances . . . polo . . . all that. . . .”', id=4, _translated_map=defaultdict(<function Line.<lambda>.<locals>.<lambda> at 0x7f3126d4efc0>, {}), _token_count_map=defaultdict(<function Line.<lambda>.<locals>.<lambda> at 0x7f3126d4f100>, {})),\n",
       " Line(contents=['“But I never said anything about dances and polo! Anyhow, what’s wrong with them? D’you mean that you’re not coming with me? You’re going to stay here like the other two? Then at least you shan’t stop _me_ from clearing out of it!” Mallinson threw down his cigarette and sprang towards the door with eyes blazing. “You’re off your head!” he cried wildly. “You’re mad, Conway, that’s what’s the matter with you! I know you’re always calm, and I’m always excited, but I’m sane, at any rate, and you’re not! They warned me about it before I joined you at Baskul, and I thought they were wrong, but now I can see they weren’t——”'], _title='', base_language=None, _text='“But I never said anything about dances and polo! Anyhow, what’s wrong with them? D’you mean that you’re not coming with me? You’re going to stay here like the other two? Then at least you shan’t stop _me_ from clearing out of it!” Mallinson threw down his cigarette and sprang towards the door with eyes blazing. “You’re off your head!” he cried wildly. “You’re mad, Conway, that’s what’s the matter with you! I know you’re always calm, and I’m always excited, but I’m sane, at any rate, and you’re not! They warned me about it before I joined you at Baskul, and I thought they were wrong, but now I can see they weren’t——”', id=5, _translated_map=defaultdict(<function Line.<lambda>.<locals>.<lambda> at 0x7f3126d4f600>, {}), _token_count_map=defaultdict(<function Line.<lambda>.<locals>.<lambda> at 0x7f3126d4f420>, {})),\n",
       " Line(contents=['“To Lo-Tsen?”'], _title='', base_language=None, _text='“To Lo-Tsen?”', id=6, _translated_map=defaultdict(<function Line.<lambda>.<locals>.<lambda> at 0x7f3126d4f7e0>, {}), _token_count_map=defaultdict(<function Line.<lambda>.<locals>.<lambda> at 0x7f3126d4f6a0>, {})),\n",
       " Line(contents=['“Yes, if you want to know.”'], _title='', base_language=None, _text='“Yes, if you want to know.”', id=7, _translated_map=defaultdict(<function Line.<lambda>.<locals>.<lambda> at 0x7f3126d4f740>, {}), _token_count_map=defaultdict(<function Line.<lambda>.<locals>.<lambda> at 0x7f3126d4f880>, {})),\n",
       " Line(contents=['Conway got up and held out his hand. “Good-bye, Mallinson.”'], _title='', base_language=None, _text='Conway got up and held out his hand. “Good-bye, Mallinson.”', id=8, _translated_map=defaultdict(<function Line.<lambda>.<locals>.<lambda> at 0x7f3126d4fb00>, {}), _token_count_map=defaultdict(<function Line.<lambda>.<locals>.<lambda> at 0x7f3126d4fa60>, {})),\n",
       " Line(contents=['“For the last time, you’re not coming?”'], _title='', base_language=None, _text='“For the last time, you’re not coming?”', id=9, _translated_map=defaultdict(<function Line.<lambda>.<locals>.<lambda> at 0x7f3126d4fd80>, {}), _token_count_map=defaultdict(<function Line.<lambda>.<locals>.<lambda> at 0x7f3126d4fba0>, {})),\n",
       " Line(contents=['“I can’t.”'], _title='', base_language=None, _text='“I can’t.”', id=10, _translated_map=defaultdict(<function Line.<lambda>.<locals>.<lambda> at 0x7f3126d4fe20>, {}), _token_count_map=defaultdict(<function Line.<lambda>.<locals>.<lambda> at 0x7f3126d4fec0>, {'jpn': defaultdict(<class 'int'>, {})})),\n",
       " Line(contents=['“Good-bye, then.”'], _title='', base_language=None, _text='“Good-bye, then.”', id=11, _translated_map=defaultdict(<function Line.<lambda>.<locals>.<lambda> at 0x7f3126d4ff60>, {}), _token_count_map=defaultdict(<function Line.<lambda>.<locals>.<lambda> at 0x7f312437c040>, {})),\n",
       " Line(contents=['They shook hands, and Mallinson left.'], _title='', base_language=None, _text='They shook hands, and Mallinson left.', id=12, _translated_map=defaultdict(<function Line.<lambda>.<locals>.<lambda> at 0x7f312437c180>, {}), _token_count_map=defaultdict(<function Line.<lambda>.<locals>.<lambda> at 0x7f312437c220>, {})),\n",
       " Line(contents=['\\nConway sat alone in the lantern-light. It seemed to him, in a phrase engraved on memory, that all the loveliest things were transient and perishable, that the two worlds were finally beyond reconciliation, and that one of them hung, as always, by a thread. After he had pondered for some time he looked at his watch; it was ten minutes to three.'], _title='', base_language=None, _text='\\nConway sat alone in the lantern-light. It seemed to him, in a phrase engraved on memory, that all the loveliest things were transient and perishable, that the two worlds were finally beyond reconciliation, and that one of them hung, as always, by a thread. After he had pondered for some time he looked at his watch; it was ten minutes to three.', id=13, _translated_map=defaultdict(<function Line.<lambda>.<locals>.<lambda> at 0x7f312437c360>, {}), _token_count_map=defaultdict(<function Line.<lambda>.<locals>.<lambda> at 0x7f312437c400>, {})),\n",
       " Line(contents=['IT WAS in Delhi that I met Rutherford again. We had been guests at a Viceregal dinner-party, but distance and ceremonial kept us apart until the turbaned flunkeys handed us our hats afterwards. “Come back to my hotel and have a drink,” he invited.'], _title='', base_language=None, _text='IT WAS in Delhi that I met Rutherford again. We had been guests at a Viceregal dinner-party, but distance and ceremonial kept us apart until the turbaned flunkeys handed us our hats afterwards. “Come back to my hotel and have a drink,” he invited.', id=14, _translated_map=defaultdict(<function Line.<lambda>.<locals>.<lambda> at 0x7f312437c4a0>, {}), _token_count_map=defaultdict(<function Line.<lambda>.<locals>.<lambda> at 0x7f312437c540>, {})),\n",
       " Line(contents=['“You thought it might be easier to look for the valley of Blue Moon?”'], _title='', base_language=None, _text='“You thought it might be easier to look for the valley of Blue Moon?”', id=15, _translated_map=defaultdict(<function Line.<lambda>.<locals>.<lambda> at 0x7f312437c5e0>, {}), _token_count_map=defaultdict(<function Line.<lambda>.<locals>.<lambda> at 0x7f312437c680>, {})),\n",
       " Line(contents=['“Well, it did seem as if it might be a more fixed proposition. I suppose you glanced at that manuscript of mine?”'], _title='', base_language=None, _text='“Well, it did seem as if it might be a more fixed proposition. I suppose you glanced at that manuscript of mine?”', id=16, _translated_map=defaultdict(<function Line.<lambda>.<locals>.<lambda> at 0x7f312437c720>, {}), _token_count_map=defaultdict(<function Line.<lambda>.<locals>.<lambda> at 0x7f312437c7c0>, {})),\n",
       " Line(contents=['“Much more than glanced at it. I should have returned it, by the way, but you left no address.”'], _title='', base_language=None, _text='“Much more than glanced at it. I should have returned it, by the way, but you left no address.”', id=17, _translated_map=defaultdict(<function Line.<lambda>.<locals>.<lambda> at 0x7f312437c860>, {}), _token_count_map=defaultdict(<function Line.<lambda>.<locals>.<lambda> at 0x7f312437c900>, {})),\n",
       " Line(contents=['Rutherford nodded. “I wonder what you made of it?”'], _title='', base_language=None, _text='Rutherford nodded. “I wonder what you made of it?”', id=18, _translated_map=defaultdict(<function Line.<lambda>.<locals>.<lambda> at 0x7f312437c9a0>, {}), _token_count_map=defaultdict(<function Line.<lambda>.<locals>.<lambda> at 0x7f312437ca40>, {})),\n",
       " Line(contents=['Rutherford flicked his cigar as if the narration had excited him quite as much as he hoped it had me. Continuing, he said: “The little fellow looked at me solemnly for a moment, and then answered in that funny clipped English that the educated Chinese have—‘Oh no, she was most old—most old of anyone I have ever seen.’”'], _title='', base_language=None, _text='Rutherford flicked his cigar as if the narration had excited him quite as much as he hoped it had me. Continuing, he said: “The little fellow looked at me solemnly for a moment, and then answered in that funny clipped English that the educated Chinese have—‘Oh no, she was most old—most old of anyone I have ever seen.’”', id=19, _translated_map=defaultdict(<function Line.<lambda>.<locals>.<lambda> at 0x7f312437cae0>, {}), _token_count_map=defaultdict(<function Line.<lambda>.<locals>.<lambda> at 0x7f312437cb80>, {})),\n",
       " Line(contents=['\\nWe sat for a long time in silence, and then talked again of Conway as I remembered him, boyish and gifted and full of charm, and of the War that had altered him, and of so many mysteries of time and age and of the mind, and of the little Manchu who had been ‘most old,’ and of the strange ultimate dream of Blue Moon. “Do you think he will ever find it?” I asked.'], _title='', base_language=None, _text='\\nWe sat for a long time in silence, and then talked again of Conway as I remembered him, boyish and gifted and full of charm, and of the War that had altered him, and of so many mysteries of time and age and of the mind, and of the little Manchu who had been ‘most old,’ and of the strange ultimate dream of Blue Moon. “Do you think he will ever find it?” I asked.', id=20, _translated_map=defaultdict(<function Line.<lambda>.<locals>.<lambda> at 0x7f312437cc20>, {}), _token_count_map=defaultdict(<function Line.<lambda>.<locals>.<lambda> at 0x7f312437ccc0>, {})),\n",
       " Line(contents=['WOODFORD GREEN   April 1933                                 THE END    _Printed in Great Britain by_ R. & R. CLARK, LIMITED, _Edinburgh_.'], _title='', base_language=None, _text='WOODFORD GREEN   April 1933                                 THE END    _Printed in Great Britain by_ R. & R. CLARK, LIMITED, _Edinburgh_.', id=21, _translated_map=defaultdict(<function Line.<lambda>.<locals>.<lambda> at 0x7f312437cd60>, {}), _token_count_map=defaultdict(<function Line.<lambda>.<locals>.<lambda> at 0x7f312437ce00>, {})),\n",
       " Line(contents=['Misspelled words and printer errors have been corrected. Where multiple spellings occur, majority use has been employed.'], _title='', base_language=None, _text='Misspelled words and printer errors have been corrected. Where multiple spellings occur, majority use has been employed.', id=22, _translated_map=defaultdict(<function Line.<lambda>.<locals>.<lambda> at 0x7f312437cea0>, {}), _token_count_map=defaultdict(<function Line.<lambda>.<locals>.<lambda> at 0x7f312437cf40>, {})),\n",
       " Line(contents=['Punctuation has been maintained except where obvious printer errors occur.'], _title='', base_language=None, _text='Punctuation has been maintained except where obvious printer errors occur.', id=23, _translated_map=defaultdict(<function Line.<lambda>.<locals>.<lambda> at 0x7f312437cfe0>, {}), _token_count_map=defaultdict(<function Line.<lambda>.<locals>.<lambda> at 0x7f312437d080>, {})),\n",
       " Line(contents=['[The end of _Lost Horizon_ by James Hilton]'], _title='', base_language=None, _text='[The end of _Lost Horizon_ by James Hilton]', id=24, _translated_map=defaultdict(<function Line.<lambda>.<locals>.<lambda> at 0x7f312437d120>, {}), _token_count_map=defaultdict(<function Line.<lambda>.<locals>.<lambda> at 0x7f312437d1c0>, {}))]"
      ]
     },
     "execution_count": 26,
     "metadata": {},
     "output_type": "execute_result"
    }
   ],
   "source": [
    "b.lines"
   ]
  },
  {
   "cell_type": "code",
   "execution_count": null,
   "id": "d0202252-6e55-4751-942f-db0021fdfcdc",
   "metadata": {},
   "outputs": [],
   "source": [
    "len(b.lines)"
   ]
  },
  {
   "cell_type": "code",
   "execution_count": null,
   "id": "89beeb1e-ba46-4aa0-bb46-9834c36ad0f1",
   "metadata": {},
   "outputs": [],
   "source": [
    "b.lines[18]"
   ]
  },
  {
   "cell_type": "code",
   "execution_count": null,
   "id": "f57b9011-d524-4088-8bc0-5ae2a7452353",
   "metadata": {},
   "outputs": [],
   "source": [
    "b.contents[2].contents[3]"
   ]
  },
  {
   "cell_type": "code",
   "execution_count": null,
   "id": "6e1a48b8-dd4f-4f15-9a55-8d4e8b826276",
   "metadata": {},
   "outputs": [],
   "source": [
    "c._token_count_map['jpn'][g.name] = 100"
   ]
  },
  {
   "cell_type": "code",
   "execution_count": null,
   "id": "fe2b7fc4-3c24-40dd-a856-dde9de4a79a8",
   "metadata": {},
   "outputs": [],
   "source": [
    "d = c._token_count_map"
   ]
  },
  {
   "cell_type": "code",
   "execution_count": null,
   "id": "161961b8-9ad5-473c-aeb1-30e91aa8eadb",
   "metadata": {},
   "outputs": [],
   "source": [
    "d['jpn']"
   ]
  },
  {
   "cell_type": "code",
   "execution_count": null,
   "id": "493d16e8-0be4-4bf8-bfa1-7908630d8e85",
   "metadata": {},
   "outputs": [],
   "source": []
  },
  {
   "cell_type": "code",
   "execution_count": null,
   "id": "b27b02ee-1721-491b-b90d-a653cf3b50d8",
   "metadata": {},
   "outputs": [],
   "source": [
    "c = b.lines[6]"
   ]
  },
  {
   "cell_type": "code",
   "execution_count": null,
   "id": "7ea6e88e-2c9f-4eab-919d-b2851cea794e",
   "metadata": {},
   "outputs": [],
   "source": [
    "c"
   ]
  },
  {
   "cell_type": "code",
   "execution_count": null,
   "id": "c3ff1746-e0ae-4963-9a11-e2530ac901bf",
   "metadata": {},
   "outputs": [],
   "source": [
    "c.content"
   ]
  },
  {
   "cell_type": "code",
   "execution_count": null,
   "id": "e1ffe0d5-eaf4-4658-98b8-47ee74e31393",
   "metadata": {},
   "outputs": [],
   "source": [
    "c.set_token_count(\"jpn\", g)"
   ]
  },
  {
   "cell_type": "code",
   "execution_count": null,
   "id": "776376c7-743b-470e-8e04-c4ddcfc21be9",
   "metadata": {},
   "outputs": [],
   "source": [
    "c.contents"
   ]
  },
  {
   "cell_type": "code",
   "execution_count": null,
   "id": "81255688-830e-40b7-b115-3d8cd7e5a6c9",
   "metadata": {},
   "outputs": [],
   "source": [
    "g.calc_tokens(\"hello world\")"
   ]
  },
  {
   "cell_type": "code",
   "execution_count": null,
   "id": "835b057a-7026-4c86-ad6f-592c77cc6c6a",
   "metadata": {},
   "outputs": [],
   "source": []
  }
 ],
 "metadata": {
  "kernelspec": {
   "display_name": "Python 3 (ipykernel)",
   "language": "python",
   "name": "python3"
  },
  "language_info": {
   "codemirror_mode": {
    "name": "ipython",
    "version": 3
   },
   "file_extension": ".py",
   "mimetype": "text/x-python",
   "name": "python",
   "nbconvert_exporter": "python",
   "pygments_lexer": "ipython3",
   "version": "3.12.2"
  }
 },
 "nbformat": 4,
 "nbformat_minor": 5
}
